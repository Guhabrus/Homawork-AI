{
  "nbformat": 4,
  "nbformat_minor": 0,
  "metadata": {
    "accelerator": "GPU",
    "colab": {
      "provenance": [],
      "include_colab_link": true
    },
    "kernelspec": {
      "display_name": "Python 3",
      "name": "python3"
    },
    "language_info": {
      "name": "python"
    }
  },
  "cells": [
    {
      "cell_type": "markdown",
      "metadata": {
        "id": "view-in-github",
        "colab_type": "text"
      },
      "source": [
        "<a href=\"https://colab.research.google.com/github/Guhabrus/Homawork-AI/blob/main/Heat_Two_DeepXDE.ipynb\" target=\"_parent\"><img src=\"https://colab.research.google.com/assets/colab-badge.svg\" alt=\"Open In Colab\"/></a>"
      ]
    },
    {
      "cell_type": "markdown",
      "metadata": {
        "id": "Czlr7j7-t1Fw"
      },
      "source": [
        "# Installation\n"
      ]
    },
    {
      "cell_type": "code",
      "source": [
        "!pip install deepxde"
      ],
      "metadata": {
        "colab": {
          "base_uri": "https://localhost:8080/"
        },
        "id": "v-R3bCTlF9gl",
        "outputId": "e17db306-09fa-4a5e-cb49-a317510c9e38"
      },
      "execution_count": null,
      "outputs": [
        {
          "output_type": "stream",
          "name": "stdout",
          "text": [
            "Looking in indexes: https://pypi.org/simple, https://us-python.pkg.dev/colab-wheels/public/simple/\n",
            "Collecting deepxde\n",
            "  Downloading DeepXDE-1.8.1-py3-none-any.whl (150 kB)\n",
            "\u001b[2K     \u001b[90m━━━━━━━━━━━━━━━━━━━━━━━━━━━━━━━━━━━━━━━\u001b[0m \u001b[32m150.7/150.7 KB\u001b[0m \u001b[31m3.7 MB/s\u001b[0m eta \u001b[36m0:00:00\u001b[0m\n",
            "\u001b[?25hRequirement already satisfied: numpy in /usr/local/lib/python3.9/dist-packages (from deepxde) (1.22.4)\n",
            "Requirement already satisfied: matplotlib in /usr/local/lib/python3.9/dist-packages (from deepxde) (3.7.1)\n",
            "Requirement already satisfied: scikit-learn in /usr/local/lib/python3.9/dist-packages (from deepxde) (1.2.2)\n",
            "Requirement already satisfied: scipy in /usr/local/lib/python3.9/dist-packages (from deepxde) (1.10.1)\n",
            "Collecting scikit-optimize>=0.9.0\n",
            "  Downloading scikit_optimize-0.9.0-py2.py3-none-any.whl (100 kB)\n",
            "\u001b[2K     \u001b[90m━━━━━━━━━━━━━━━━━━━━━━━━━━━━━━━━━━━━━━━\u001b[0m \u001b[32m100.3/100.3 KB\u001b[0m \u001b[31m5.1 MB/s\u001b[0m eta \u001b[36m0:00:00\u001b[0m\n",
            "\u001b[?25hRequirement already satisfied: joblib>=0.11 in /usr/local/lib/python3.9/dist-packages (from scikit-optimize>=0.9.0->deepxde) (1.1.1)\n",
            "Collecting pyaml>=16.9\n",
            "  Downloading pyaml-21.10.1-py2.py3-none-any.whl (24 kB)\n",
            "Requirement already satisfied: threadpoolctl>=2.0.0 in /usr/local/lib/python3.9/dist-packages (from scikit-learn->deepxde) (3.1.0)\n",
            "Requirement already satisfied: pillow>=6.2.0 in /usr/local/lib/python3.9/dist-packages (from matplotlib->deepxde) (8.4.0)\n",
            "Requirement already satisfied: pyparsing>=2.3.1 in /usr/local/lib/python3.9/dist-packages (from matplotlib->deepxde) (3.0.9)\n",
            "Requirement already satisfied: importlib-resources>=3.2.0 in /usr/local/lib/python3.9/dist-packages (from matplotlib->deepxde) (5.12.0)\n",
            "Requirement already satisfied: kiwisolver>=1.0.1 in /usr/local/lib/python3.9/dist-packages (from matplotlib->deepxde) (1.4.4)\n",
            "Requirement already satisfied: python-dateutil>=2.7 in /usr/local/lib/python3.9/dist-packages (from matplotlib->deepxde) (2.8.2)\n",
            "Requirement already satisfied: fonttools>=4.22.0 in /usr/local/lib/python3.9/dist-packages (from matplotlib->deepxde) (4.39.2)\n",
            "Requirement already satisfied: cycler>=0.10 in /usr/local/lib/python3.9/dist-packages (from matplotlib->deepxde) (0.11.0)\n",
            "Requirement already satisfied: packaging>=20.0 in /usr/local/lib/python3.9/dist-packages (from matplotlib->deepxde) (23.0)\n",
            "Requirement already satisfied: contourpy>=1.0.1 in /usr/local/lib/python3.9/dist-packages (from matplotlib->deepxde) (1.0.7)\n",
            "Requirement already satisfied: zipp>=3.1.0 in /usr/local/lib/python3.9/dist-packages (from importlib-resources>=3.2.0->matplotlib->deepxde) (3.15.0)\n",
            "Requirement already satisfied: PyYAML in /usr/local/lib/python3.9/dist-packages (from pyaml>=16.9->scikit-optimize>=0.9.0->deepxde) (6.0)\n",
            "Requirement already satisfied: six>=1.5 in /usr/local/lib/python3.9/dist-packages (from python-dateutil>=2.7->matplotlib->deepxde) (1.16.0)\n",
            "Installing collected packages: pyaml, scikit-optimize, deepxde\n",
            "Successfully installed deepxde-1.8.1 pyaml-21.10.1 scikit-optimize-0.9.0\n"
          ]
        }
      ]
    },
    {
      "cell_type": "code",
      "source": [
        "!pip install tensorflow"
      ],
      "metadata": {
        "colab": {
          "base_uri": "https://localhost:8080/"
        },
        "id": "g526yRPLGLmI",
        "outputId": "657fb04f-9696-436b-8ee6-e15c4e743459"
      },
      "execution_count": null,
      "outputs": [
        {
          "output_type": "stream",
          "name": "stdout",
          "text": [
            "Looking in indexes: https://pypi.org/simple, https://us-python.pkg.dev/colab-wheels/public/simple/\n",
            "Requirement already satisfied: tensorflow in /usr/local/lib/python3.9/dist-packages (2.11.0)\n",
            "Requirement already satisfied: gast<=0.4.0,>=0.2.1 in /usr/local/lib/python3.9/dist-packages (from tensorflow) (0.4.0)\n",
            "Requirement already satisfied: grpcio<2.0,>=1.24.3 in /usr/local/lib/python3.9/dist-packages (from tensorflow) (1.51.3)\n",
            "Requirement already satisfied: libclang>=13.0.0 in /usr/local/lib/python3.9/dist-packages (from tensorflow) (15.0.6.1)\n",
            "Requirement already satisfied: tensorboard<2.12,>=2.11 in /usr/local/lib/python3.9/dist-packages (from tensorflow) (2.11.2)\n",
            "Requirement already satisfied: termcolor>=1.1.0 in /usr/local/lib/python3.9/dist-packages (from tensorflow) (2.2.0)\n",
            "Requirement already satisfied: flatbuffers>=2.0 in /usr/local/lib/python3.9/dist-packages (from tensorflow) (23.3.3)\n",
            "Requirement already satisfied: astunparse>=1.6.0 in /usr/local/lib/python3.9/dist-packages (from tensorflow) (1.6.3)\n",
            "Requirement already satisfied: absl-py>=1.0.0 in /usr/local/lib/python3.9/dist-packages (from tensorflow) (1.4.0)\n",
            "Requirement already satisfied: h5py>=2.9.0 in /usr/local/lib/python3.9/dist-packages (from tensorflow) (3.8.0)\n",
            "Requirement already satisfied: six>=1.12.0 in /usr/local/lib/python3.9/dist-packages (from tensorflow) (1.16.0)\n",
            "Requirement already satisfied: keras<2.12,>=2.11.0 in /usr/local/lib/python3.9/dist-packages (from tensorflow) (2.11.0)\n",
            "Requirement already satisfied: numpy>=1.20 in /usr/local/lib/python3.9/dist-packages (from tensorflow) (1.22.4)\n",
            "Requirement already satisfied: google-pasta>=0.1.1 in /usr/local/lib/python3.9/dist-packages (from tensorflow) (0.2.0)\n",
            "Requirement already satisfied: wrapt>=1.11.0 in /usr/local/lib/python3.9/dist-packages (from tensorflow) (1.15.0)\n",
            "Requirement already satisfied: tensorflow-io-gcs-filesystem>=0.23.1 in /usr/local/lib/python3.9/dist-packages (from tensorflow) (0.31.0)\n",
            "Requirement already satisfied: tensorflow-estimator<2.12,>=2.11.0 in /usr/local/lib/python3.9/dist-packages (from tensorflow) (2.11.0)\n",
            "Requirement already satisfied: setuptools in /usr/local/lib/python3.9/dist-packages (from tensorflow) (67.6.0)\n",
            "Requirement already satisfied: typing-extensions>=3.6.6 in /usr/local/lib/python3.9/dist-packages (from tensorflow) (4.5.0)\n",
            "Requirement already satisfied: protobuf<3.20,>=3.9.2 in /usr/local/lib/python3.9/dist-packages (from tensorflow) (3.19.6)\n",
            "Requirement already satisfied: packaging in /usr/local/lib/python3.9/dist-packages (from tensorflow) (23.0)\n",
            "Requirement already satisfied: opt-einsum>=2.3.2 in /usr/local/lib/python3.9/dist-packages (from tensorflow) (3.3.0)\n",
            "Requirement already satisfied: wheel<1.0,>=0.23.0 in /usr/local/lib/python3.9/dist-packages (from astunparse>=1.6.0->tensorflow) (0.40.0)\n",
            "Requirement already satisfied: google-auth<3,>=1.6.3 in /usr/local/lib/python3.9/dist-packages (from tensorboard<2.12,>=2.11->tensorflow) (2.16.2)\n",
            "Requirement already satisfied: tensorboard-data-server<0.7.0,>=0.6.0 in /usr/local/lib/python3.9/dist-packages (from tensorboard<2.12,>=2.11->tensorflow) (0.6.1)\n",
            "Requirement already satisfied: werkzeug>=1.0.1 in /usr/local/lib/python3.9/dist-packages (from tensorboard<2.12,>=2.11->tensorflow) (2.2.3)\n",
            "Requirement already satisfied: google-auth-oauthlib<0.5,>=0.4.1 in /usr/local/lib/python3.9/dist-packages (from tensorboard<2.12,>=2.11->tensorflow) (0.4.6)\n",
            "Requirement already satisfied: tensorboard-plugin-wit>=1.6.0 in /usr/local/lib/python3.9/dist-packages (from tensorboard<2.12,>=2.11->tensorflow) (1.8.1)\n",
            "Requirement already satisfied: markdown>=2.6.8 in /usr/local/lib/python3.9/dist-packages (from tensorboard<2.12,>=2.11->tensorflow) (3.4.2)\n",
            "Requirement already satisfied: requests<3,>=2.21.0 in /usr/local/lib/python3.9/dist-packages (from tensorboard<2.12,>=2.11->tensorflow) (2.27.1)\n",
            "Requirement already satisfied: rsa<5,>=3.1.4 in /usr/local/lib/python3.9/dist-packages (from google-auth<3,>=1.6.3->tensorboard<2.12,>=2.11->tensorflow) (4.9)\n",
            "Requirement already satisfied: pyasn1-modules>=0.2.1 in /usr/local/lib/python3.9/dist-packages (from google-auth<3,>=1.6.3->tensorboard<2.12,>=2.11->tensorflow) (0.2.8)\n",
            "Requirement already satisfied: cachetools<6.0,>=2.0.0 in /usr/local/lib/python3.9/dist-packages (from google-auth<3,>=1.6.3->tensorboard<2.12,>=2.11->tensorflow) (5.3.0)\n",
            "Requirement already satisfied: requests-oauthlib>=0.7.0 in /usr/local/lib/python3.9/dist-packages (from google-auth-oauthlib<0.5,>=0.4.1->tensorboard<2.12,>=2.11->tensorflow) (1.3.1)\n",
            "Requirement already satisfied: importlib-metadata>=4.4 in /usr/local/lib/python3.9/dist-packages (from markdown>=2.6.8->tensorboard<2.12,>=2.11->tensorflow) (6.1.0)\n",
            "Requirement already satisfied: idna<4,>=2.5 in /usr/local/lib/python3.9/dist-packages (from requests<3,>=2.21.0->tensorboard<2.12,>=2.11->tensorflow) (3.4)\n",
            "Requirement already satisfied: charset-normalizer~=2.0.0 in /usr/local/lib/python3.9/dist-packages (from requests<3,>=2.21.0->tensorboard<2.12,>=2.11->tensorflow) (2.0.12)\n",
            "Requirement already satisfied: certifi>=2017.4.17 in /usr/local/lib/python3.9/dist-packages (from requests<3,>=2.21.0->tensorboard<2.12,>=2.11->tensorflow) (2022.12.7)\n",
            "Requirement already satisfied: urllib3<1.27,>=1.21.1 in /usr/local/lib/python3.9/dist-packages (from requests<3,>=2.21.0->tensorboard<2.12,>=2.11->tensorflow) (1.26.15)\n",
            "Requirement already satisfied: MarkupSafe>=2.1.1 in /usr/local/lib/python3.9/dist-packages (from werkzeug>=1.0.1->tensorboard<2.12,>=2.11->tensorflow) (2.1.2)\n",
            "Requirement already satisfied: zipp>=0.5 in /usr/local/lib/python3.9/dist-packages (from importlib-metadata>=4.4->markdown>=2.6.8->tensorboard<2.12,>=2.11->tensorflow) (3.15.0)\n",
            "Requirement already satisfied: pyasn1<0.5.0,>=0.4.6 in /usr/local/lib/python3.9/dist-packages (from pyasn1-modules>=0.2.1->google-auth<3,>=1.6.3->tensorboard<2.12,>=2.11->tensorflow) (0.4.8)\n",
            "Requirement already satisfied: oauthlib>=3.0.0 in /usr/local/lib/python3.9/dist-packages (from requests-oauthlib>=0.7.0->google-auth-oauthlib<0.5,>=0.4.1->tensorboard<2.12,>=2.11->tensorflow) (3.2.2)\n"
          ]
        }
      ]
    },
    {
      "cell_type": "code",
      "source": [
        "import deepxde as dde\n",
        "import matplotlib.pyplot as plt\n",
        "import numpy as np\n",
        "from deepxde.backend import tf\n"
      ],
      "metadata": {
        "colab": {
          "base_uri": "https://localhost:8080/"
        },
        "id": "wIscGC7CGSUO",
        "outputId": "8bbf8b0f-0332-4acf-b3f2-cc98d4af3d46"
      },
      "execution_count": null,
      "outputs": [
        {
          "output_type": "stream",
          "name": "stderr",
          "text": [
            "DeepXDE backend not selected or invalid. Use tensorflow.compat.v1.\n",
            "Using backend: tensorflow.compat.v1\n",
            "\n"
          ]
        },
        {
          "output_type": "stream",
          "name": "stdout",
          "text": [
            "Setting the default backend to \"tensorflow.compat.v1\". You can change it in the ~/.deepxde/config.json file or export the DDE_BACKEND environment variable. Valid options are: tensorflow.compat.v1, tensorflow, pytorch, jax, paddle (all lowercase)\n"
          ]
        },
        {
          "output_type": "stream",
          "name": "stderr",
          "text": [
            "WARNING:tensorflow:From /usr/local/lib/python3.9/dist-packages/tensorflow/python/compat/v2_compat.py:107: disable_resource_variables (from tensorflow.python.ops.variable_scope) is deprecated and will be removed in a future version.\n",
            "Instructions for updating:\n",
            "non-resource variables are not supported in the long term\n"
          ]
        },
        {
          "output_type": "stream",
          "name": "stdout",
          "text": [
            "Enable just-in-time compilation with XLA.\n",
            "\n"
          ]
        },
        {
          "output_type": "stream",
          "name": "stderr",
          "text": [
            "WARNING:tensorflow:From /usr/local/lib/python3.9/dist-packages/deepxde/nn/initializers.py:118: The name tf.keras.initializers.he_normal is deprecated. Please use tf.compat.v1.keras.initializers.he_normal instead.\n",
            "\n"
          ]
        }
      ]
    },
    {
      "cell_type": "code",
      "source": [
        "\n",
        "# Some useful functions\n",
        "t1 = 0\n",
        "t2 = 1\n",
        "end_time = 1\n",
        "\n",
        "def pde(X,T):\n",
        "    dT_xx = dde.grad.hessian(T, X ,j=0)\n",
        "    dT_yy = dde.grad.hessian(T, X, j=1)\n",
        "    dT_t = dde.grad.jacobian(T, X, j=2)\n",
        "#     Dividing by rhoc to make it 1\n",
        "    rhoc = (3.8151 * 10**3) / (3.8151 * 10**3)\n",
        "    kap = (385 / (3.8151 * 10**3))\n",
        "    # no forcing function\n",
        "    return ((rhoc * dT_t) - (kap * (dT_xx + dT_yy)))\n",
        "\n",
        "\n",
        "def r_boundary(X,on_boundary):\n",
        "    x,y,t = X\n",
        "    return on_boundary and np.isclose(x,1)\n",
        "def l_boundary(X,on_boundary):\n",
        "    x,y,t = X\n",
        "    return on_boundary and np.isclose(x,0)\n",
        "def up_boundary(X,on_boundary):\n",
        "    x,y,t = X\n",
        "    return on_boundary and np.isclose(y,1)\n",
        "def down_boundary(X,on_boundary):\n",
        "    x,y,t = X\n",
        "    return on_boundary and np.isclose(y,0)\n",
        "\n",
        "def boundary_initial(X, on_initial):\n",
        "    x,y,t = X\n",
        "    return on_initial and np.isclose(t, 0)\n",
        "\n",
        "def init_func(X):\n",
        "    x = X[:, 0:1]\n",
        "    y = X[:, 1:2]\n",
        "    t = np.zeros((len(X),1))\n",
        "    for count,x_ in enumerate(x):\n",
        "        if x_ < 0.5:\n",
        "            t[count] = t1\n",
        "        else:\n",
        "            t[count] = t1 + (2) * (x_ - 0.5)\n",
        "    return t\n",
        "    \n",
        "def dir_func_l(X):\n",
        "    return t1 * np.ones((len(X),1))\n",
        "\n",
        "\n",
        "def dir_func_r(X):\n",
        "    return t2 * np.ones((len(X),1))\n",
        "\n",
        "def func_zero(X):\n",
        "    return np.zeros((len(X),1))\n",
        "def hard(X, T):\n",
        "    x,y,t = x[:, 0:1], x[:, 1:2],x[:,2:3]\n",
        "    \n",
        "    return (r - r_in) * y + T_star"
      ],
      "metadata": {
        "id": "_Y6xA5ZZGWJN"
      },
      "execution_count": null,
      "outputs": []
    },
    {
      "cell_type": "code",
      "source": [
        "\n",
        "num_domain = 30000\n",
        "num_boundary = 8000\n",
        "num_initial = 20000\n",
        "layer_size = [3] + [60] * 5 + [1]\n",
        "activation_func = \"tanh\"\n",
        "initializer = \"Glorot uniform\"\n",
        "lr = 1e-3\n",
        "# Applying Loss weights as given below\n",
        "# [PDE Loss, BC1 loss - Dirichlet Left , BC2 loss - Dirichlet Right, BC3 loss- Neumann up, BC4 loss - Neumann down, IC Loss]\n",
        "loss_weights = [10, 1, 1, 1, 1, 10]\n",
        "epochs = 10000\n",
        "optimizer = \"adam\"\n",
        "batch_size_ = 256\n",
        "\n",
        "geom = dde.geometry.Rectangle(xmin=[0, 0], xmax=[1, 1])\n",
        "timedomain = dde.geometry.TimeDomain(0, end_time)\n",
        "geomtime = dde.geometry.GeometryXTime(geom, timedomain)\n",
        "\n",
        "bc_l = dde.DirichletBC(geomtime, dir_func_l, l_boundary)\n",
        "bc_r = dde.DirichletBC(geomtime, dir_func_r, r_boundary)\n",
        "bc_up = dde.NeumannBC(geomtime, func_zero, up_boundary)\n",
        "bc_low = dde.NeumannBC(geomtime, func_zero, down_boundary)\n",
        "ic = dde.IC(geomtime, init_func, boundary_initial)\n",
        "\n",
        "\n",
        "data = dde.data.TimePDE(\n",
        "    geomtime, pde, [bc_l, bc_r, bc_up, bc_low, ic], num_domain=num_domain, num_boundary=num_boundary,  num_initial=num_initial)\n",
        "\n",
        "\n",
        "\n",
        "net = dde.maps.FNN(layer_size, activation_func, initializer)\n",
        "net.apply_output_transform(lambda x, y: abs(y))\n",
        "## Uncomment below line to apply hard Dirichlet Boundary Conditions\n",
        "# net.outputs_modify(lambda x, y: x[:,0:1]*t2 + x[:,0:1] * (1 - x[:,0:1]) * y)\n",
        "model = dde.Model(data, net)\n",
        "\n",
        "model.compile(optimizer, lr=lr,loss_weights=loss_weights)\n",
        "# To save the best model every 1000 epochs\n",
        "checker = dde.callbacks.ModelCheckpoint(\n",
        "    \"model/model1.ckpt\", save_better_only=True, period=1000\n",
        ")\n",
        "losshistory, trainstate = model.train(epochs=epochs,batch_size = batch_size_,callbacks = [checker])\n",
        "model.compile(\"L-BFGS-B\")\n",
        "dde.optimizers.set_LBFGS_options(\n",
        "    maxcor=50,\n",
        ")\n",
        "losshistory, train_state = model.train(epochs = epochs, batch_size = batch_size_)\n",
        "dde.saveplot(losshistory, trainstate, issave=True, isplot=True)"
      ],
      "metadata": {
        "colab": {
          "base_uri": "https://localhost:8080/",
          "height": 1000
        },
        "id": "jiT_AQ7VGb6Y",
        "outputId": "965f5adc-4874-4f02-9ceb-a7d6697e2574"
      },
      "execution_count": null,
      "outputs": [
        {
          "output_type": "stream",
          "name": "stdout",
          "text": [
            "Compiling model...\n",
            "Building feed-forward neural network...\n",
            "'build' took 0.081357 s\n",
            "\n"
          ]
        },
        {
          "output_type": "stream",
          "name": "stderr",
          "text": [
            "/usr/local/lib/python3.9/dist-packages/deepxde/nn/tensorflow_compat_v1/fnn.py:114: UserWarning: `tf.layers.dense` is deprecated and will be removed in a future version. Please use `tf.keras.layers.Dense` instead.\n",
            "  return tf.layers.dense(\n"
          ]
        },
        {
          "output_type": "stream",
          "name": "stdout",
          "text": [
            "Warning: Rectangle boundary_normal called on vertices. You may use PDE(..., exclusions=...) to exclude the vertices.\n",
            "Warning: Rectangle boundary_normal called on vertices. You may use PDE(..., exclusions=...) to exclude the vertices.\n",
            "'compile' took 4.852825 s\n",
            "\n",
            "Warning: epochs is deprecated and will be removed in a future version. Use iterations instead.\n",
            "Initializing variables...\n",
            "Training model...\n",
            "\n",
            "Step      Train loss                                                      Test loss                                                       Test metric\n",
            "0         [1.36e+00, 9.57e-02, 2.30e-01, 5.05e-03, 3.64e-02, 6.79e-01]    [1.36e+00, 9.57e-02, 2.30e-01, 5.05e-03, 3.64e-02, 6.79e-01]    []  \n",
            "1000      [4.10e-04, 6.51e-05, 2.27e-04, 9.78e-04, 1.88e-05, 5.64e-03]    [4.10e-04, 6.51e-05, 2.27e-04, 9.78e-04, 1.88e-05, 5.64e-03]    []  \n",
            "2000      [3.70e-04, 1.33e-04, 1.50e-04, 9.10e-04, 1.17e-05, 4.12e-03]    [3.70e-04, 1.33e-04, 1.50e-04, 9.10e-04, 1.17e-05, 4.12e-03]    []  \n",
            "3000      [3.43e-04, 2.11e-04, 1.62e-04, 8.74e-04, 7.06e-06, 2.96e-03]    [3.43e-04, 2.11e-04, 1.62e-04, 8.74e-04, 7.06e-06, 2.96e-03]    []  \n",
            "4000      [2.39e-04, 2.07e-04, 1.36e-04, 8.62e-04, 3.87e-06, 2.26e-03]    [2.39e-04, 2.07e-04, 1.36e-04, 8.62e-04, 3.87e-06, 2.26e-03]    []  \n",
            "5000      [3.07e-04, 2.06e-04, 2.23e-04, 8.60e-04, 2.29e-06, 1.83e-03]    [3.07e-04, 2.06e-04, 2.23e-04, 8.60e-04, 2.29e-06, 1.83e-03]    []  \n",
            "6000      [4.43e-04, 1.49e-04, 1.54e-04, 8.65e-04, 1.67e-06, 1.66e-03]    [4.43e-04, 1.49e-04, 1.54e-04, 8.65e-04, 1.67e-06, 1.66e-03]    []  \n",
            "7000      [2.93e-04, 1.46e-04, 1.91e-04, 8.72e-04, 1.40e-06, 1.44e-03]    [2.93e-04, 1.46e-04, 1.91e-04, 8.72e-04, 1.40e-06, 1.44e-03]    []  \n",
            "8000      [2.73e-04, 1.02e-04, 5.69e-05, 8.94e-04, 1.07e-06, 1.24e-03]    [2.73e-04, 1.02e-04, 5.69e-05, 8.94e-04, 1.07e-06, 1.24e-03]    []  \n",
            "9000      [4.34e-04, 7.60e-05, 9.00e-05, 8.94e-04, 1.41e-06, 1.13e-03]    [4.34e-04, 7.60e-05, 9.00e-05, 8.94e-04, 1.41e-06, 1.13e-03]    []  \n",
            "10000     [1.71e-04, 7.45e-05, 2.78e-05, 9.05e-04, 1.29e-06, 1.03e-03]    [1.71e-04, 7.45e-05, 2.78e-05, 9.05e-04, 1.29e-06, 1.03e-03]    []  \n",
            "\n",
            "Best model at step 10000:\n",
            "  train loss: 2.20e-03\n",
            "  test loss: 2.20e-03\n",
            "  test metric: []\n",
            "\n",
            "'train' took 366.881182 s\n",
            "\n",
            "Compiling model...\n",
            "Warning: Rectangle boundary_normal called on vertices. You may use PDE(..., exclusions=...) to exclude the vertices.\n",
            "Warning: Rectangle boundary_normal called on vertices. You may use PDE(..., exclusions=...) to exclude the vertices.\n",
            "'compile' took 0.632361 s\n",
            "\n",
            "Warning: epochs is deprecated and will be removed in a future version. Use iterations instead.\n",
            "Training model...\n",
            "\n",
            "Step      Train loss                                                      Test loss                                                       Test metric\n",
            "10000     [1.71e-05, 7.45e-05, 2.78e-05, 9.05e-04, 1.29e-06, 1.03e-04]    [1.71e-05, 7.45e-05, 2.78e-05, 9.05e-04, 1.29e-06, 1.03e-04]    []  \n",
            "11000     [4.92e-05, 3.30e-07, 2.42e-05, 7.62e-04, 3.70e-06, 4.53e-05]    [4.92e-05, 3.30e-07, 2.42e-05, 7.62e-04, 3.70e-06, 4.53e-05]        \n",
            "12000     [9.72e-05, 1.08e-06, 1.10e-04, 3.72e-04, 1.10e-05, 6.47e-05]    [9.72e-05, 1.08e-06, 1.10e-04, 3.72e-04, 1.10e-05, 6.47e-05]        \n",
            "13000     [4.73e-05, 3.21e-06, 4.56e-05, 2.86e-05, 3.15e-06, 3.34e-05]    [4.73e-05, 3.21e-06, 4.56e-05, 2.86e-05, 3.15e-06, 3.34e-05]        \n",
            "14000     [2.10e-05, 7.60e-07, 2.16e-05, 7.92e-06, 7.47e-07, 1.86e-05]    [2.10e-05, 7.60e-07, 2.16e-05, 7.92e-06, 7.47e-07, 1.86e-05]        \n",
            "15000     [1.31e-05, 2.06e-07, 1.45e-05, 5.21e-06, 4.20e-07, 1.10e-05]    [1.31e-05, 2.06e-07, 1.45e-05, 5.21e-06, 4.20e-07, 1.10e-05]        \n",
            "16000     [9.85e-06, 1.17e-07, 9.65e-06, 2.68e-06, 5.18e-07, 8.23e-06]    [9.85e-06, 1.17e-07, 9.65e-06, 2.68e-06, 5.18e-07, 8.23e-06]        \n",
            "17000     [6.74e-06, 1.02e-07, 7.14e-06, 1.91e-06, 3.16e-07, 5.86e-06]    [6.74e-06, 1.02e-07, 7.14e-06, 1.91e-06, 3.16e-07, 5.86e-06]        \n",
            "17893     [5.31e-06, 8.38e-08, 6.16e-06, 1.56e-06, 1.21e-07, 4.84e-06]    [5.31e-06, 8.38e-08, 6.16e-06, 1.56e-06, 1.21e-07, 4.84e-06]    []  \n",
            "\n",
            "Best model at step 17893:\n",
            "  train loss: 1.81e-05\n",
            "  test loss: 1.81e-05\n",
            "  test metric: []\n",
            "\n",
            "'train' took 413.384769 s\n",
            "\n",
            "Saving loss history to /content/loss.dat ...\n",
            "Saving training data to /content/train.dat ...\n",
            "Saving test data to /content/test.dat ...\n"
          ]
        },
        {
          "output_type": "display_data",
          "data": {
            "text/plain": [
              "<Figure size 432x288 with 1 Axes>"
            ],
            "image/png": "[encoded data removed]"
          },
          "metadata": {
            "needs_background": "light"
          }
        }
      ]
    },
    {
      "cell_type": "code",
      "source": [
        "import matplotlib.animation as animation\n",
        "from matplotlib.animation import FuncAnimation\n",
        "\n",
        "\n",
        "# ax = fig.add_subplot(111)\n",
        "nelx = 100\n",
        "nely = 100\n",
        "timesteps = 101\n",
        "x = np.linspace(0,1,nelx+1)\n",
        "y = np.linspace(0,1,nely+1)\n",
        "t = np.linspace(0,1,timesteps)\n",
        "delta_t = t[1] - t[0]\n",
        "xx,yy = np.meshgrid(x,y)\n",
        "\n",
        "\n",
        "x_ = np.zeros(shape = ((nelx+1) * (nely+1),))\n",
        "y_ = np.zeros(shape = ((nelx+1) * (nely+1),))\n",
        "for c1,ycor in enumerate(y):\n",
        "    for c2,xcor in enumerate(x):\n",
        "        x_[c1*(nelx+1) + c2] = xcor\n",
        "        y_[c1*(nelx+1) + c2] = ycor\n",
        "Ts = []\n",
        "        \n",
        "for time in t:\n",
        "    t_ = np.ones((nelx+1) * (nely+1),) * (time)\n",
        "    X = np.column_stack((x_,y_))\n",
        "    X = np.column_stack((X,t_))\n",
        "    T = model.predict(X)\n",
        "    T = T*30\n",
        "    T = T.reshape(T.shape[0],)\n",
        "    T = T.reshape(nelx+1,nely+1)\n",
        "    Ts.append(T)\n",
        "def plotheatmap(T,time):\n",
        "  # Clear the current plot figure\n",
        "    plt.clf()\n",
        "    plt.title(f\"Temperature at t = {time*delta_t} unit time\")\n",
        "    plt.xlabel(\"x\")\n",
        "    plt.ylabel(\"y\")\n",
        "    plt.pcolor(xx, yy, T,cmap = 'RdBu_r')\n",
        "    plt.colorbar()\n",
        "    return plt\n",
        "\n",
        "def animate(k):\n",
        "    plotheatmap(Ts[k], k)\n",
        "    \n",
        "anim = animation.FuncAnimation(plt.figure(), animate, interval=1, frames=len(t), repeat=False)\n",
        "    \n",
        "anim.save(\"trial1.gif\")"
      ],
      "metadata": {
        "id": "1u1GYbxZJmko",
        "outputId": "fabcf0a9-f5a1-45b9-9f95-c3070c69e49e",
        "colab": {
          "base_uri": "https://localhost:8080/",
          "height": 295
        }
      },
      "execution_count": null,
      "outputs": [
        {
          "output_type": "display_data",
          "data": {
            "text/plain": [
              "<Figure size 432x288 with 2 Axes>"
            ],
            "image/png": "[encoded data removed]"
          },
          "metadata": {
            "needs_background": "light"
          }
        }
      ]
    }
  ]
}