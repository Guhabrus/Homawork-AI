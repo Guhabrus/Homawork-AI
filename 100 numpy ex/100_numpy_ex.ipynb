{
 "cells": [
  {
   "cell_type": "code",
   "execution_count": null,
   "id": "5a5aadf2",
   "metadata": {},
   "outputs": [],
   "source": []
  },
  {
   "cell_type": "code",
   "execution_count": 1,
   "id": "e2433c68",
   "metadata": {},
   "outputs": [],
   "source": [
    "import numpy as np"
   ]
  },
  {
   "cell_type": "code",
   "execution_count": 2,
   "id": "57055833",
   "metadata": {},
   "outputs": [
    {
     "name": "stdout",
     "output_type": "stream",
     "text": [
      "1.20.1\n",
      "blas_mkl_info:\n",
      "    libraries = ['mkl_rt']\n",
      "    library_dirs = ['C:/ProgramsMy/Anaconda/coda\\\\Library\\\\lib']\n",
      "    define_macros = [('SCIPY_MKL_H', None), ('HAVE_CBLAS', None)]\n",
      "    include_dirs = ['C:/ProgramsMy/Anaconda/coda\\\\Library\\\\include']\n",
      "blas_opt_info:\n",
      "    libraries = ['mkl_rt']\n",
      "    library_dirs = ['C:/ProgramsMy/Anaconda/coda\\\\Library\\\\lib']\n",
      "    define_macros = [('SCIPY_MKL_H', None), ('HAVE_CBLAS', None)]\n",
      "    include_dirs = ['C:/ProgramsMy/Anaconda/coda\\\\Library\\\\include']\n",
      "lapack_mkl_info:\n",
      "    libraries = ['mkl_rt']\n",
      "    library_dirs = ['C:/ProgramsMy/Anaconda/coda\\\\Library\\\\lib']\n",
      "    define_macros = [('SCIPY_MKL_H', None), ('HAVE_CBLAS', None)]\n",
      "    include_dirs = ['C:/ProgramsMy/Anaconda/coda\\\\Library\\\\include']\n",
      "lapack_opt_info:\n",
      "    libraries = ['mkl_rt']\n",
      "    library_dirs = ['C:/ProgramsMy/Anaconda/coda\\\\Library\\\\lib']\n",
      "    define_macros = [('SCIPY_MKL_H', None), ('HAVE_CBLAS', None)]\n",
      "    include_dirs = ['C:/ProgramsMy/Anaconda/coda\\\\Library\\\\include']\n"
     ]
    }
   ],
   "source": [
    "print(np.__version__)\n",
    "np.show_config()"
   ]
  },
  {
   "cell_type": "code",
   "execution_count": 3,
   "id": "200db544",
   "metadata": {},
   "outputs": [
    {
     "name": "stdout",
     "output_type": "stream",
     "text": [
      "[0. 0. 0. 0. 0. 0. 0. 0. 0. 0. 0. 0. 0. 0. 0. 0. 0. 0. 0. 0. 0. 0. 0. 0.\n",
      " 0. 0. 0. 0. 0. 0. 0. 0. 0. 0. 0. 0. 0. 0. 0. 0. 0. 0. 0. 0. 0. 0. 0. 0.\n",
      " 0. 0. 0. 0. 0. 0. 0. 0. 0. 0. 0. 0. 0. 0. 0. 0. 0. 0. 0. 0. 0. 0. 0. 0.\n",
      " 0. 0. 0. 0. 0. 0. 0. 0. 0. 0. 0. 0. 0. 0. 0. 0. 0. 0. 0. 0. 0. 0. 0. 0.\n",
      " 0. 0. 0. 0.]\n"
     ]
    }
   ],
   "source": [
    "arr = np.zeros(100)\n",
    "print(arr)"
   ]
  },
  {
   "cell_type": "code",
   "execution_count": 4,
   "id": "451f18ba",
   "metadata": {},
   "outputs": [
    {
     "name": "stdout",
     "output_type": "stream",
     "text": [
      "80000 bytes\n"
     ]
    }
   ],
   "source": [
    "arr = np.zeros((100,100))\n",
    "#print(arr)\n",
    "print(\"%d bytes\" % (arr.size * arr.itemsize))"
   ]
  },
  {
   "cell_type": "code",
   "execution_count": 5,
   "id": "85901075",
   "metadata": {},
   "outputs": [
    {
     "name": "stdout",
     "output_type": "stream",
     "text": [
      "[0. 0. 0. 0. 0. 1. 0. 0. 0. 0.]\n"
     ]
    }
   ],
   "source": [
    "arr = np.zeros(10)\n",
    "arr[5] = 1\n",
    "print(arr)"
   ]
  },
  {
   "cell_type": "code",
   "execution_count": 6,
   "id": "a52dc8e2",
   "metadata": {},
   "outputs": [
    {
     "name": "stdout",
     "output_type": "stream",
     "text": [
      "[ 0  1  2  3  4  5  6  7  8  9 10 11 12 13 14 15 16 17 18 19 20 21 22 23\n",
      " 24 25 26 27 28 29]\n"
     ]
    }
   ],
   "source": [
    "arr = np.arange(0,30)\n",
    "print(arr)"
   ]
  },
  {
   "cell_type": "code",
   "execution_count": 7,
   "id": "9b980adb",
   "metadata": {},
   "outputs": [
    {
     "name": "stdout",
     "output_type": "stream",
     "text": [
      "[29 28 27 26 25 24 23 22 21 20 19 18 17 16 15 14 13 12 11 10  9  8  7  6\n",
      "  5  4  3  2  1  0]\n"
     ]
    }
   ],
   "source": [
    "arr = arr[::-1]\n",
    "print(arr)"
   ]
  },
  {
   "cell_type": "code",
   "execution_count": 8,
   "id": "f822fe6d",
   "metadata": {},
   "outputs": [
    {
     "name": "stdout",
     "output_type": "stream",
     "text": [
      "[[ 0  1  2  3]\n",
      " [ 4  5  6  7]\n",
      " [ 8  9 10 11]]\n"
     ]
    }
   ],
   "source": [
    "arr = np.arange(12)\n",
    "arr = arr.reshape(3,4)\n",
    "print(arr)"
   ]
  },
  {
   "cell_type": "code",
   "execution_count": 9,
   "id": "936b7e27",
   "metadata": {},
   "outputs": [
    {
     "name": "stdout",
     "output_type": "stream",
     "text": [
      "(array([ 2,  3,  4,  5,  6,  9, 10, 11, 12, 13], dtype=int64),)\n"
     ]
    }
   ],
   "source": [
    "arr = np.nonzero([0,0,1,2,3,1,10,0,0,1,2,3,10,1])\n",
    "print(arr)"
   ]
  },
  {
   "cell_type": "code",
   "execution_count": 10,
   "id": "2915b080",
   "metadata": {},
   "outputs": [
    {
     "name": "stdout",
     "output_type": "stream",
     "text": [
      "[[1. 0. 0.]\n",
      " [0. 1. 0.]\n",
      " [0. 0. 1.]]\n"
     ]
    }
   ],
   "source": [
    "arr = np.eye(3)\n",
    "print(arr)"
   ]
  },
  {
   "cell_type": "code",
   "execution_count": 11,
   "id": "1adeb528",
   "metadata": {},
   "outputs": [
    {
     "name": "stdout",
     "output_type": "stream",
     "text": [
      "[[[0.21069391 0.74964389 0.6930656 ]\n",
      "  [0.87458437 0.47348539 0.72766331]\n",
      "  [0.3939478  0.11351463 0.20742699]]\n",
      "\n",
      " [[0.68434051 0.40955646 0.67127346]\n",
      "  [0.83462585 0.38989027 0.94950569]\n",
      "  [0.71838161 0.37329399 0.33234579]]\n",
      "\n",
      " [[0.35790062 0.61121257 0.48796176]\n",
      "  [0.41455996 0.17394995 0.82623845]\n",
      "  [0.76735222 0.95159751 0.57679183]]]\n"
     ]
    }
   ],
   "source": [
    "arr = np.random.random((3,3,3))\n",
    "print(arr)"
   ]
  },
  {
   "cell_type": "code",
   "execution_count": 12,
   "id": "88ba653f",
   "metadata": {},
   "outputs": [
    {
     "name": "stdout",
     "output_type": "stream",
     "text": [
      "0.0027965580664272016 0.997521805800632\n"
     ]
    }
   ],
   "source": [
    "arr = np.random.random((10,10,10))\n",
    "arr_min, arr_max = arr.min(), arr.max()\n",
    "#print(arr)\n",
    "print(arr_min, arr_max)"
   ]
  },
  {
   "cell_type": "code",
   "execution_count": 13,
   "id": "d1c6818b",
   "metadata": {},
   "outputs": [
    {
     "name": "stdout",
     "output_type": "stream",
     "text": [
      "0.5852327283646641\n"
     ]
    }
   ],
   "source": [
    "arr = np.random.random(30)\n",
    "mean = arr.mean() #среднее\n",
    "print(mean)"
   ]
  },
  {
   "cell_type": "code",
   "execution_count": 14,
   "id": "60764262",
   "metadata": {},
   "outputs": [
    {
     "name": "stdout",
     "output_type": "stream",
     "text": [
      "[[1. 1. 1. 1. 1. 1. 1. 1. 1. 1.]\n",
      " [1. 0. 0. 0. 0. 0. 0. 0. 0. 1.]\n",
      " [1. 0. 0. 0. 0. 0. 0. 0. 0. 1.]\n",
      " [1. 0. 0. 0. 0. 0. 0. 0. 0. 1.]\n",
      " [1. 0. 0. 0. 0. 0. 0. 0. 0. 1.]\n",
      " [1. 0. 0. 0. 0. 0. 0. 0. 0. 1.]\n",
      " [1. 0. 0. 0. 0. 0. 0. 0. 0. 1.]\n",
      " [1. 0. 0. 0. 0. 0. 0. 0. 0. 1.]\n",
      " [1. 0. 0. 0. 0. 0. 0. 0. 0. 1.]\n",
      " [1. 1. 1. 1. 1. 1. 1. 1. 1. 1.]]\n"
     ]
    }
   ],
   "source": [
    "arr = np.ones((10,10))\n",
    "arr[1:-1, 1:-1] = 0\n",
    "print(arr)"
   ]
  },
  {
   "cell_type": "code",
   "execution_count": 15,
   "id": "10beedd8",
   "metadata": {},
   "outputs": [
    {
     "name": "stdout",
     "output_type": "stream",
     "text": [
      "[[0. 0. 0. 0. 0. 0. 0.]\n",
      " [0. 1. 1. 1. 1. 1. 0.]\n",
      " [0. 1. 1. 1. 1. 1. 0.]\n",
      " [0. 1. 1. 1. 1. 1. 0.]\n",
      " [0. 1. 1. 1. 1. 1. 0.]\n",
      " [0. 1. 1. 1. 1. 1. 0.]\n",
      " [0. 0. 0. 0. 0. 0. 0.]]\n"
     ]
    }
   ],
   "source": [
    "#arr = np.zeros((5,5))\n",
    "#arr[1:-1, 1:-1] = 1\n",
    "arr = np.ones((5,5))\n",
    "arr = np.pad(arr, pad_width = 1, mode = 'constant', constant_values= 0)\n",
    "print(arr)"
   ]
  },
  {
   "cell_type": "code",
   "execution_count": 16,
   "id": "06f207a9",
   "metadata": {},
   "outputs": [
    {
     "name": "stdout",
     "output_type": "stream",
     "text": [
      "nan\n",
      "False\n",
      "False\n",
      "nan\n",
      "True\n",
      "False\n"
     ]
    }
   ],
   "source": [
    "print(0 * np.nan)\n",
    "print(np.nan == np.nan)\n",
    "print(np.inf > np.nan)\n",
    "print(np.nan - np.nan)\n",
    "print(np.nan in set([np.nan]))\n",
    "print(0.3 == 3 * 0.1)"
   ]
  },
  {
   "cell_type": "code",
   "execution_count": 17,
   "id": "fbae62db",
   "metadata": {},
   "outputs": [
    {
     "name": "stdout",
     "output_type": "stream",
     "text": [
      "[[0 0 0 0 0]\n",
      " [1 0 0 0 0]\n",
      " [0 2 0 0 0]\n",
      " [0 0 3 0 0]\n",
      " [0 0 0 4 0]]\n"
     ]
    }
   ],
   "source": [
    "arr = np.diag(1+np.arange(4), k = -1)\n",
    "print(arr)"
   ]
  },
  {
   "cell_type": "code",
   "execution_count": 18,
   "id": "b31a3071",
   "metadata": {},
   "outputs": [
    {
     "name": "stdout",
     "output_type": "stream",
     "text": [
      "[[0. 1. 0. 1. 0. 1. 0. 1.]\n",
      " [1. 0. 1. 0. 1. 0. 1. 0.]\n",
      " [0. 1. 0. 1. 0. 1. 0. 1.]\n",
      " [1. 0. 1. 0. 1. 0. 1. 0.]\n",
      " [0. 1. 0. 1. 0. 1. 0. 1.]\n",
      " [1. 0. 1. 0. 1. 0. 1. 0.]\n",
      " [0. 1. 0. 1. 0. 1. 0. 1.]\n",
      " [1. 0. 1. 0. 1. 0. 1. 0.]]\n"
     ]
    }
   ],
   "source": [
    "arr = np.zeros((8,8))\n",
    "arr[1::2,::2 ] = 1 #1 -[с какой начинается :: интервал, :] \n",
    "arr[::2, 1::2] = 1\n",
    "print(arr)"
   ]
  },
  {
   "cell_type": "code",
   "execution_count": 19,
   "id": "f022b4e9",
   "metadata": {},
   "outputs": [
    {
     "name": "stdout",
     "output_type": "stream",
     "text": [
      "(1, 5, 4)\n"
     ]
    }
   ],
   "source": [
    "print(np.unravel_index(100,(6,7,8)))"
   ]
  },
  {
   "cell_type": "code",
   "execution_count": 20,
   "id": "d3b618c8",
   "metadata": {},
   "outputs": [
    {
     "name": "stdout",
     "output_type": "stream",
     "text": [
      "[[1 0 1 0 1 0 1 0]\n",
      " [0 1 0 1 0 1 0 1]\n",
      " [1 0 1 0 1 0 1 0]\n",
      " [0 1 0 1 0 1 0 1]\n",
      " [1 0 1 0 1 0 1 0]\n",
      " [0 1 0 1 0 1 0 1]\n",
      " [1 0 1 0 1 0 1 0]\n",
      " [0 1 0 1 0 1 0 1]]\n"
     ]
    }
   ],
   "source": [
    "arr = np.tile(np.array([[1,0],[0,1]]), (4,4)) #повторяет какой либо массив 4х4 раза\n",
    "print(arr)"
   ]
  },
  {
   "cell_type": "code",
   "execution_count": 21,
   "id": "7409a338",
   "metadata": {},
   "outputs": [
    {
     "name": "stdout",
     "output_type": "stream",
     "text": [
      "[[ 0.81596001  1.06190416  1.06034175  1.44203771 -1.22605449]\n",
      " [ 1.30204145 -0.56341847 -1.66711951  1.08663916 -0.50437271]\n",
      " [-0.28810446  0.98362492  0.65407617 -0.79746026  0.73360691]\n",
      " [-0.32717833 -1.7155593   0.63634097 -0.34645725 -0.42616259]\n",
      " [-1.47358229 -0.05564125 -1.64660364  0.93226294  0.3288784 ]]\n"
     ]
    }
   ],
   "source": [
    "arr = np.random.random((5,5))\n",
    "arr = (arr - np.mean (arr)) / (np.std (arr))\n",
    "print(arr)"
   ]
  },
  {
   "cell_type": "code",
   "execution_count": 22,
   "id": "a40e6368",
   "metadata": {},
   "outputs": [
    {
     "name": "stdout",
     "output_type": "stream",
     "text": [
      "[('r', 'u1'), ('g', 'u1'), ('b', 'u1'), ('a', 'u1')]\n"
     ]
    },
    {
     "name": "stderr",
     "output_type": "stream",
     "text": [
      "<ipython-input-22-5432efe93e2f>:1: FutureWarning: Passing (type, 1) or '1type' as a synonym of type is deprecated; in a future version of numpy, it will be understood as (type, (1,)) / '(1,)type'.\n",
      "  color = np.dtype([(\"r\", np.ubyte, 1),\n"
     ]
    }
   ],
   "source": [
    "color = np.dtype([(\"r\", np.ubyte, 1),\n",
    "                  (\"g\", np.ubyte, 1),\n",
    "                  (\"b\", np.ubyte, 1),\n",
    "                  (\"a\", np.ubyte, 1)])\n",
    "print(color)"
   ]
  },
  {
   "cell_type": "code",
   "execution_count": 23,
   "id": "c8b03417",
   "metadata": {},
   "outputs": [
    {
     "name": "stdout",
     "output_type": "stream",
     "text": [
      "[[ 295   16]\n",
      " [ 307  128]\n",
      " [ 589   25]\n",
      " [ 883   34]\n",
      " [1078   15]]\n"
     ]
    }
   ],
   "source": [
    "arr1 = np.array([[1,2,3],[13,4,3],[1,5,6], [1,8,9], [0,2,11]])\n",
    "arr2 = np.array([[1,9],[0,2], [98,1]])\n",
    "\n",
    "\n",
    "arr = np.dot(arr1,arr2)\n",
    "print(arr)"
   ]
  },
  {
   "cell_type": "code",
   "execution_count": 24,
   "id": "51a809f3",
   "metadata": {},
   "outputs": [
    {
     "name": "stdout",
     "output_type": "stream",
     "text": [
      "[ 0  1  2  3 -4 -5 -6 -7 -8  9 10]\n"
     ]
    }
   ],
   "source": [
    "arr = np.arange(11)\n",
    "\n",
    "arr[(3<arr)&(arr<=8)]*=-1\n",
    "print(arr)"
   ]
  },
  {
   "cell_type": "code",
   "execution_count": 25,
   "id": "27879522",
   "metadata": {},
   "outputs": [
    {
     "name": "stdout",
     "output_type": "stream",
     "text": [
      "9\n",
      "10\n"
     ]
    }
   ],
   "source": [
    "print(sum(range(5),-1))\n",
    "from numpy import *\n",
    "print(sum(range(5),-1))"
   ]
  },
  {
   "cell_type": "code",
   "execution_count": 26,
   "id": "8589d591",
   "metadata": {},
   "outputs": [
    {
     "data": {
      "text/plain": [
       "False"
      ]
     },
     "execution_count": 26,
     "metadata": {},
     "output_type": "execute_result"
    }
   ],
   "source": [
    "Z = np.array(100)\n",
    "Z**Z\n",
    "2 << Z >> 2\n",
    "Z <- Z\n",
    "1j*Z\n",
    "Z/1/1\n",
    "Z<Z>ZeroDivisionError"
   ]
  },
  {
   "cell_type": "code",
   "execution_count": 27,
   "id": "34e35b57",
   "metadata": {},
   "outputs": [
    {
     "name": "stdout",
     "output_type": "stream",
     "text": [
      "nan\n",
      "0\n",
      "[-2.14748365e+09]\n"
     ]
    },
    {
     "name": "stderr",
     "output_type": "stream",
     "text": [
      "<ipython-input-27-2a10de0ee61b>:1: RuntimeWarning: invalid value encountered in true_divide\n",
      "  print(np.array(0) / np.array(0))\n",
      "<ipython-input-27-2a10de0ee61b>:2: RuntimeWarning: divide by zero encountered in floor_divide\n",
      "  print(np.array(0) // np.array(0))\n"
     ]
    }
   ],
   "source": [
    "print(np.array(0) / np.array(0))\n",
    "print(np.array(0) // np.array(0))\n",
    "print(np.array([np.nan]).astype(int).astype(float))"
   ]
  },
  {
   "cell_type": "code",
   "execution_count": 28,
   "id": "e2ce0ebd",
   "metadata": {},
   "outputs": [
    {
     "name": "stdout",
     "output_type": "stream",
     "text": [
      "[ 6.33557867  0.25584471  6.91229844 -1.36388236 -1.05498896  9.6298834\n",
      " -5.78618304  5.39090379  4.41698407 -6.93408247]\n",
      "[ 7.  1.  7. -2. -2. 10. -6.  6.  5. -7.]\n"
     ]
    }
   ],
   "source": [
    "arr = np.random.uniform(-10,+10,10)\n",
    "print(arr)\n",
    "print (np.copysign(np.ceil(np.abs(arr)), arr))"
   ]
  },
  {
   "cell_type": "code",
   "execution_count": 30,
   "id": "1f8a3c26",
   "metadata": {},
   "outputs": [
    {
     "name": "stdout",
     "output_type": "stream",
     "text": [
      "[9 2 1 6 5 6 2 1 4 2] [7 0 0 4 9 4 7 6 5 0]\n",
      "[4 5 6 9]\n"
     ]
    }
   ],
   "source": [
    "arr1 = np.random.randint(0,10,10)\n",
    "arr2 = np.random.randint(0,10,10)\n",
    "\n",
    "print(arr1, arr2)\n",
    "print(np.intersect1d(arr1,arr2))"
   ]
  },
  {
   "cell_type": "code",
   "execution_count": 31,
   "id": "d54c7f4a",
   "metadata": {},
   "outputs": [
    {
     "ename": "SyntaxError",
     "evalue": "invalid syntax (<ipython-input-31-efc4639271dd>, line 7)",
     "output_type": "error",
     "traceback": [
      "\u001b[1;36m  File \u001b[1;32m\"<ipython-input-31-efc4639271dd>\"\u001b[1;36m, line \u001b[1;32m7\u001b[0m\n\u001b[1;33m    An equivalent way, with a context manager:\u001b[0m\n\u001b[1;37m       ^\u001b[0m\n\u001b[1;31mSyntaxError\u001b[0m\u001b[1;31m:\u001b[0m invalid syntax\n"
     ]
    }
   ],
   "source": [
    "\n",
    "defaults = np.seterr(all=\"ignore\")\n",
    "Z = np.ones(1) / 0\n",
    "\n",
    "\n",
    "_ = np.seterr(**defaults)\n",
    "\n",
    "An equivalent way, with a context manager:\n",
    "\n",
    "with np.errstate(divide='ignore'):\n",
    "    Z = np.ones(1) / 0"
   ]
  },
  {
   "cell_type": "code",
   "execution_count": 33,
   "id": "5cae17b5",
   "metadata": {},
   "outputs": [
    {
     "name": "stdout",
     "output_type": "stream",
     "text": [
      "nan 1j\n"
     ]
    },
    {
     "name": "stderr",
     "output_type": "stream",
     "text": [
      "<ipython-input-33-8a1c3b0c741f>:1: RuntimeWarning: invalid value encountered in sqrt\n",
      "  np.sqrt(-1) == np.emath.sqrt(-1)\n",
      "<ipython-input-33-8a1c3b0c741f>:2: RuntimeWarning: invalid value encountered in sqrt\n",
      "  print(np.sqrt(-1),np.emath.sqrt(-1) )\n"
     ]
    }
   ],
   "source": [
    "np.sqrt(-1) == np.emath.sqrt(-1)\n",
    "print(np.sqrt(-1),np.emath.sqrt(-1) )"
   ]
  },
  {
   "cell_type": "code",
   "execution_count": 36,
   "id": "79e77dbe",
   "metadata": {},
   "outputs": [
    {
     "name": "stdout",
     "output_type": "stream",
     "text": [
      "2021-10-13 2021-10-14 2021-10-15\n"
     ]
    }
   ],
   "source": [
    "yesterday = np.datetime64('today', 'D') - np.timedelta64(1, 'D')\n",
    "today     = np.datetime64('today', 'D')\n",
    "tomorrow  = np.datetime64('today', 'D') + np.timedelta64(1, 'D')\n",
    "\n",
    "print(yesterday, today, tomorrow)"
   ]
  },
  {
   "cell_type": "code",
   "execution_count": 37,
   "id": "e8e79356",
   "metadata": {},
   "outputs": [
    {
     "name": "stdout",
     "output_type": "stream",
     "text": [
      "['1999-08-01' '1999-08-02' '1999-08-03' '1999-08-04' '1999-08-05'\n",
      " '1999-08-06' '1999-08-07' '1999-08-08' '1999-08-09' '1999-08-10'\n",
      " '1999-08-11' '1999-08-12' '1999-08-13' '1999-08-14' '1999-08-15'\n",
      " '1999-08-16' '1999-08-17' '1999-08-18' '1999-08-19' '1999-08-20'\n",
      " '1999-08-21' '1999-08-22' '1999-08-23' '1999-08-24' '1999-08-25'\n",
      " '1999-08-26' '1999-08-27' '1999-08-28' '1999-08-29' '1999-08-30'\n",
      " '1999-08-31']\n"
     ]
    }
   ],
   "source": [
    "data = np.arange('1999-08', '1999-09', dtype = 'datetime64[D]')\n",
    "print(data)"
   ]
  },
  {
   "cell_type": "code",
   "execution_count": 38,
   "id": "f91be4d7",
   "metadata": {},
   "outputs": [
    {
     "data": {
      "text/plain": [
       "array([-1.5, -1.5, -1.5])"
      ]
     },
     "execution_count": 38,
     "metadata": {},
     "output_type": "execute_result"
    }
   ],
   "source": [
    "A = np.ones(3)*1\n",
    "B = np.ones(3)*2\n",
    "C = np.ones(3)*3\n",
    "np.add(A,B,out=B)\n",
    "np.divide(A,2,out=A)\n",
    "np.negative(A,out=A)\n",
    "np.multiply(A,B,out=A)"
   ]
  },
  {
   "cell_type": "code",
   "execution_count": 40,
   "id": "487bdb45",
   "metadata": {},
   "outputs": [
    {
     "name": "stdout",
     "output_type": "stream",
     "text": [
      "[1. 8. 4. 5. 5. 4. 8. 8. 5. 9.]\n",
      "[1. 8. 4. 5. 5. 4. 8. 8. 5. 9.]\n",
      "[1. 8. 4. 5. 5. 4. 8. 8. 5. 9.]\n",
      "[1 8 4 5 5 4 8 8 5 9]\n",
      "[1. 8. 4. 5. 5. 4. 8. 8. 5. 9.]\n"
     ]
    }
   ],
   "source": [
    "arr = np.random.uniform(0,10,10)\n",
    "#print(arr)\n",
    "\n",
    "print (arr - arr%1)\n",
    "print (np.floor(arr))\n",
    "print (np.ceil(arr)-1)\n",
    "print (arr.astype(int))\n",
    "print (np.trunc(arr))"
   ]
  },
  {
   "cell_type": "code",
   "execution_count": 46,
   "id": "b7ac4d57",
   "metadata": {},
   "outputs": [
    {
     "name": "stdout",
     "output_type": "stream",
     "text": [
      "[[0. 1. 2. 3. 4.]\n",
      " [0. 1. 2. 3. 4.]\n",
      " [0. 1. 2. 3. 4.]\n",
      " [0. 1. 2. 3. 4.]\n",
      " [0. 1. 2. 3. 4.]]\n"
     ]
    }
   ],
   "source": [
    "arr = np.zeros((5,5))\n",
    "#for i in range(5):\n",
    "    #arr[i] = np.arange(5)\n",
    "arr+=np.arange(5)    \n",
    "   \n",
    "print(arr)"
   ]
  },
  {
   "cell_type": "code",
   "execution_count": 47,
   "id": "62409f92",
   "metadata": {},
   "outputs": [
    {
     "name": "stdout",
     "output_type": "stream",
     "text": [
      "[0. 1. 2. 3. 4. 5. 6. 7. 8. 9.]\n"
     ]
    }
   ],
   "source": [
    "def generate():\n",
    "    for x in range(10):\n",
    "        yield x\n",
    "arr = np.fromiter(generate(),dtype=float,count=-1) #оздайте новый одномерный массив из итерируемого объекта.\n",
    "print(arr)"
   ]
  },
  {
   "cell_type": "code",
   "execution_count": 50,
   "id": "8455f5bf",
   "metadata": {},
   "outputs": [
    {
     "name": "stdout",
     "output_type": "stream",
     "text": [
      "[0.09090909 0.18181818 0.27272727 0.36363636 0.45454545 0.54545455\n",
      " 0.63636364 0.72727273 0.81818182 0.90909091]\n"
     ]
    }
   ],
   "source": [
    "arr = np.linspace(0,1,11,endpoint=False)[1:]\n",
    "print(arr)"
   ]
  },
  {
   "cell_type": "code",
   "execution_count": 51,
   "id": "9fdea8a0",
   "metadata": {},
   "outputs": [
    {
     "name": "stdout",
     "output_type": "stream",
     "text": [
      "[0.10259751 0.23087163 0.45447035 0.47128574 0.61876841 0.63616001\n",
      " 0.73937114 0.84513296 0.87967604 0.91346505]\n"
     ]
    }
   ],
   "source": [
    "arr = np.random.random(10)\n",
    "arr.sort()\n",
    "print(arr)"
   ]
  },
  {
   "cell_type": "code",
   "execution_count": 3,
   "id": "fd47d934",
   "metadata": {},
   "outputs": [
    {
     "name": "stdout",
     "output_type": "stream",
     "text": [
      "[0 1 2 3 4 5 6 7 8 9]\n",
      "45\n"
     ]
    }
   ],
   "source": [
    "arr = np.arange(10)\n",
    "print(arr)\n",
    "print(np.add.reduce(arr))\n"
   ]
  },
  {
   "cell_type": "code",
   "execution_count": 6,
   "id": "7da8310d",
   "metadata": {},
   "outputs": [
    {
     "name": "stdout",
     "output_type": "stream",
     "text": [
      "Форма - False\n",
      "Значение - False\n"
     ]
    }
   ],
   "source": [
    "arr1 = np.random.randint(0,10,10)\n",
    "arr2 = np.random.randint(0,10,10)\n",
    "\n",
    "print(\"Форма -\",np.allclose(arr1,arr2))\n",
    "print(\"Значение -\",np.array_equal(arr1,arr2))"
   ]
  },
  {
   "cell_type": "code",
   "execution_count": 7,
   "id": "38eeb182",
   "metadata": {},
   "outputs": [
    {
     "ename": "ValueError",
     "evalue": "assignment destination is read-only",
     "output_type": "error",
     "traceback": [
      "\u001b[1;31m---------------------------------------------------------------------------\u001b[0m",
      "\u001b[1;31mValueError\u001b[0m                                Traceback (most recent call last)",
      "\u001b[1;32m<ipython-input-7-7cd3a230ca1a>\u001b[0m in \u001b[0;36m<module>\u001b[1;34m\u001b[0m\n\u001b[0;32m      1\u001b[0m \u001b[0marr\u001b[0m \u001b[1;33m=\u001b[0m \u001b[0mnp\u001b[0m\u001b[1;33m.\u001b[0m\u001b[0mzeros\u001b[0m\u001b[1;33m(\u001b[0m\u001b[1;36m10\u001b[0m\u001b[1;33m)\u001b[0m\u001b[1;33m\u001b[0m\u001b[1;33m\u001b[0m\u001b[0m\n\u001b[0;32m      2\u001b[0m \u001b[0marr\u001b[0m\u001b[1;33m.\u001b[0m\u001b[0mflags\u001b[0m\u001b[1;33m.\u001b[0m\u001b[0mwriteable\u001b[0m \u001b[1;33m=\u001b[0m \u001b[1;32mFalse\u001b[0m\u001b[1;33m\u001b[0m\u001b[1;33m\u001b[0m\u001b[0m\n\u001b[1;32m----> 3\u001b[1;33m \u001b[0marr\u001b[0m\u001b[1;33m[\u001b[0m\u001b[1;36m0\u001b[0m\u001b[1;33m]\u001b[0m \u001b[1;33m=\u001b[0m \u001b[1;36m1\u001b[0m\u001b[1;33m\u001b[0m\u001b[1;33m\u001b[0m\u001b[0m\n\u001b[0m",
      "\u001b[1;31mValueError\u001b[0m: assignment destination is read-only"
     ]
    }
   ],
   "source": [
    "arr = np.zeros(10)\n",
    "arr.flags.writeable = False\n",
    "arr[0] = 1"
   ]
  },
  {
   "cell_type": "code",
   "execution_count": 16,
   "id": "99ade479",
   "metadata": {},
   "outputs": [
    {
     "name": "stdout",
     "output_type": "stream",
     "text": [
      "[[0.03912312 0.50055495]\n",
      " [0.68721046 0.0169286 ]\n",
      " [0.26543218 0.9562529 ]\n",
      " [0.3703807  0.11228856]\n",
      " [0.23086002 0.21389533]\n",
      " [0.18662366 0.15107566]\n",
      " [0.45137025 0.74566128]\n",
      " [0.81508854 0.88251099]\n",
      " [0.46931999 0.59493878]\n",
      " [0.43219027 0.37678542]]\n",
      "[0.50208155 0.68741894 0.99240811 0.38702788 0.31471822 0.24010882\n",
      " 0.87163401 1.2013305  0.7577687  0.5733722 ] [0.07800091 1.54616751 0.27075886 1.27643322 0.82352355 0.89027716\n",
      " 0.54432853 0.74570268 0.66790771 0.85377904]\n",
      "[[0.50208155 0.07800091]\n",
      " [0.68741894 1.54616751]\n",
      " [0.99240811 0.27075886]\n",
      " [0.38702788 1.27643322]\n",
      " [0.31471822 0.82352355]\n",
      " [0.24010882 0.89027716]\n",
      " [0.87163401 0.54432853]\n",
      " [1.2013305  0.74570268]\n",
      " [0.7577687  0.66790771]\n",
      " [0.5733722  0.85377904]]\n"
     ]
    }
   ],
   "source": [
    "mx = np.random.random((10,2))\n",
    "\n",
    "print(mx)\n",
    "X,Y = mx[:,0],mx[:,1] \n",
    "\n",
    "R = np.sqrt(X**2+Y**2)\n",
    "T = np.arctan2(X,Y)\n",
    "print(R,T)\n",
    "\n",
    "mx[:,0], mx[:,1] = R,T\n",
    "print(mx)"
   ]
  },
  {
   "cell_type": "code",
   "execution_count": 18,
   "id": "680de25d",
   "metadata": {},
   "outputs": [
    {
     "name": "stdout",
     "output_type": "stream",
     "text": [
      "[0.60464971 0.75268092 0.04163541 0.40412845 0.49628537]\n",
      "[0.60464971 0.         0.04163541 0.40412845 0.49628537]\n"
     ]
    }
   ],
   "source": [
    "arr = np.random.random(5)\n",
    "print(arr)\n",
    "arr[arr.argmax()] = 0\n",
    "print(arr)"
   ]
  },
  {
   "cell_type": "code",
   "execution_count": 20,
   "id": "18092ee6",
   "metadata": {},
   "outputs": [
    {
     "name": "stdout",
     "output_type": "stream",
     "text": [
      "[[(0., 0.) (0., 0.) (0., 0.) (0., 0.) (0., 0.)]\n",
      " [(0., 0.) (0., 0.) (0., 0.) (0., 0.) (0., 0.)]\n",
      " [(0., 0.) (0., 0.) (0., 0.) (0., 0.) (0., 0.)]\n",
      " [(0., 0.) (0., 0.) (0., 0.) (0., 0.) (0., 0.)]\n",
      " [(0., 0.) (0., 0.) (0., 0.) (0., 0.) (0., 0.)]]\n",
      "[[(0.  , 0.  ) (0.25, 0.  ) (0.5 , 0.  ) (0.75, 0.  ) (1.  , 0.  )]\n",
      " [(0.  , 0.25) (0.25, 0.25) (0.5 , 0.25) (0.75, 0.25) (1.  , 0.25)]\n",
      " [(0.  , 0.5 ) (0.25, 0.5 ) (0.5 , 0.5 ) (0.75, 0.5 ) (1.  , 0.5 )]\n",
      " [(0.  , 0.75) (0.25, 0.75) (0.5 , 0.75) (0.75, 0.75) (1.  , 0.75)]\n",
      " [(0.  , 1.  ) (0.25, 1.  ) (0.5 , 1.  ) (0.75, 1.  ) (1.  , 1.  )]]\n"
     ]
    }
   ],
   "source": [
    "arr = np.zeros((5,5), [('x',float),('y',float)])\n",
    "print(arr)\n",
    "arr['x'], arr['y'] = np.meshgrid(np.linspace(0,1,5),\n",
    "                             np.linspace(0,1,5))\n",
    "print(arr)"
   ]
  },
  {
   "cell_type": "code",
   "execution_count": 26,
   "id": "15db2c2d",
   "metadata": {},
   "outputs": [
    {
     "name": "stdout",
     "output_type": "stream",
     "text": [
      "[3 6 1 7 2 9 2 1 6 9] [5 8 8 5 1 3 3 9 5 8]\n",
      "[[-2 -5 -5 -2  2  0  0 -6 -2 -5]\n",
      " [ 1 -2 -2  1  5  3  3 -3  1 -2]\n",
      " [-4 -7 -7 -4  0 -2 -2 -8 -4 -7]\n",
      " [ 2 -1 -1  2  6  4  4 -2  2 -1]\n",
      " [-3 -6 -6 -3  1 -1 -1 -7 -3 -6]\n",
      " [ 4  1  1  4  8  6  6  0  4  1]\n",
      " [-3 -6 -6 -3  1 -1 -1 -7 -3 -6]\n",
      " [-4 -7 -7 -4  0 -2 -2 -8 -4 -7]\n",
      " [ 1 -2 -2  1  5  3  3 -3  1 -2]\n",
      " [ 4  1  1  4  8  6  6  0  4  1]]\n",
      "[[-0.5        -0.2        -0.2        -0.5         0.5                inf\n",
      "          inf -0.16666667 -0.5        -0.2       ]\n",
      " [ 1.         -0.5        -0.5         1.          0.2         0.33333333\n",
      "   0.33333333 -0.33333333  1.         -0.5       ]\n",
      " [-0.25       -0.14285714 -0.14285714 -0.25               inf -0.5\n",
      "  -0.5        -0.125      -0.25       -0.14285714]\n",
      " [ 0.5        -1.         -1.          0.5         0.16666667  0.25\n",
      "   0.25       -0.5         0.5        -1.        ]\n",
      " [-0.33333333 -0.16666667 -0.16666667 -0.33333333  1.         -1.\n",
      "  -1.         -0.14285714 -0.33333333 -0.16666667]\n",
      " [ 0.25        1.          1.          0.25        0.125       0.16666667\n",
      "   0.16666667         inf  0.25        1.        ]\n",
      " [-0.33333333 -0.16666667 -0.16666667 -0.33333333  1.         -1.\n",
      "  -1.         -0.14285714 -0.33333333 -0.16666667]\n",
      " [-0.25       -0.14285714 -0.14285714 -0.25               inf -0.5\n",
      "  -0.5        -0.125      -0.25       -0.14285714]\n",
      " [ 1.         -0.5        -0.5         1.          0.2         0.33333333\n",
      "   0.33333333 -0.33333333  1.         -0.5       ]\n",
      " [ 0.25        1.          1.          0.25        0.125       0.16666667\n",
      "   0.16666667         inf  0.25        1.        ]]\n"
     ]
    },
    {
     "name": "stderr",
     "output_type": "stream",
     "text": [
      "<ipython-input-26-19a48a744776>:6: RuntimeWarning: divide by zero encountered in true_divide\n",
      "  C = 1.0/np.subtract.outer(X,Y)\n"
     ]
    }
   ],
   "source": [
    "X = np.random.randint(0,10,10)\n",
    "Y = np.random.randint(0,10,10)\n",
    "print(X,Y)\n",
    "\n",
    "print(np.subtract.outer(X,Y))\n",
    "C = 1.0/np.subtract.outer(X,Y)\n",
    "print(C)"
   ]
  },
  {
   "cell_type": "code",
   "execution_count": 27,
   "id": "ebbf5b93",
   "metadata": {},
   "outputs": [
    {
     "name": "stdout",
     "output_type": "stream",
     "text": [
      "-128\n",
      "127\n",
      "-2147483648\n",
      "2147483647\n",
      "-9223372036854775808\n",
      "9223372036854775807\n",
      "-3.4028235e+38\n",
      "3.4028235e+38\n",
      "1.1920929e-07\n",
      "-1.7976931348623157e+308\n",
      "1.7976931348623157e+308\n",
      "2.220446049250313e-16\n"
     ]
    }
   ],
   "source": [
    "for dtype in [np.int8, np.int32, np.int64]:\n",
    "   print(np.iinfo(dtype).min)\n",
    "   print(np.iinfo(dtype).max)\n",
    "for dtype in [np.float32, np.float64]:\n",
    "   print(np.finfo(dtype).min)\n",
    "   print(np.finfo(dtype).max)\n",
    "   print(np.finfo(dtype).eps)"
   ]
  },
  {
   "cell_type": "code",
   "execution_count": 38,
   "id": "a608ad9d",
   "metadata": {},
   "outputs": [
    {
     "name": "stdout",
     "output_type": "stream",
     "text": [
      "[[0. 0. 0. 0. 0.]\n",
      " [0. 0. 0. 0. 0.]\n",
      " [0. 0. 0. 0. 0.]\n",
      " [0. 0. 0. 0. 0.]\n",
      " [0. 0. 0. 0. 0.]]\n"
     ]
    }
   ],
   "source": [
    "#вывод числе с плавоющей точкой\n",
    "np.set_printoptions(threshold=10)\n",
    "Z = np.zeros((5,5))\n",
    "print(Z)"
   ]
  },
  {
   "cell_type": "code",
   "execution_count": 36,
   "id": "2d5fa58c",
   "metadata": {},
   "outputs": [
    {
     "name": "stdout",
     "output_type": "stream",
     "text": [
      "[0 1 2 ... 7 8 9]\n",
      "4.712314828375747\n",
      "5\n"
     ]
    }
   ],
   "source": [
    "#Найти ближайший элемент массива к числу\n",
    "arr = np.arange(10)\n",
    "print(arr)\n",
    "v = np.random.uniform(0,10)\n",
    "print(v)\n",
    "index = (np.abs(arr-v)).argmin()\n",
    "print(arr[index])"
   ]
  },
  {
   "cell_type": "code",
   "execution_count": 42,
   "id": "616f15cc",
   "metadata": {},
   "outputs": [
    {
     "name": "stdout",
     "output_type": "stream",
     "text": [
      "[((0., 0.), (0., 0., 0.)) ((0., 0.), (0., 0., 0.))\n",
      " ((0., 0.), (0., 0., 0.)) ((0., 0.), (0., 0., 0.))\n",
      " ((0., 0.), (0., 0., 0.)) ((0., 0.), (0., 0., 0.))\n",
      " ((0., 0.), (0., 0., 0.)) ((0., 0.), (0., 0., 0.))\n",
      " ((0., 0.), (0., 0., 0.)) ((0., 0.), (0., 0., 0.))]\n"
     ]
    },
    {
     "name": "stderr",
     "output_type": "stream",
     "text": [
      "<ipython-input-42-601abac7313f>:1: FutureWarning: Passing (type, 1) or '1type' as a synonym of type is deprecated; in a future version of numpy, it will be understood as (type, (1,)) / '(1,)type'.\n",
      "  arr = np.zeros(10, [('koordinats',[('x', float,1), ('y', float, 1)]),\n"
     ]
    }
   ],
   "source": [
    "arr = np.zeros(10, [('koordinats',[('x', float,1), ('y', float, 1)]),\n",
    "                    ('color',[('r', float,1),\n",
    "                              ('b', float, 1),\n",
    "                              ('g', float,1)])])\n",
    "print(arr)"
   ]
  },
  {
   "cell_type": "code",
   "execution_count": 51,
   "id": "2c8da03c",
   "metadata": {},
   "outputs": [
    {
     "name": "stdout",
     "output_type": "stream",
     "text": [
      "[[0.89805651 0.77941781]\n",
      " [0.922091   0.88513452]\n",
      " [0.97567582 0.72161638]\n",
      " ...\n",
      " [0.77425692 0.7723577 ]\n",
      " [0.12460708 0.20067824]\n",
      " [0.74711234 0.17000031]]\n",
      "[0.89805651 0.922091   0.97567582 0.01172815 0.73834341 0.11145368\n",
      " 0.43610481 0.77425692 0.12460708 0.74711234] [0.77941781 0.88513452 0.72161638 0.36678413 0.38839552 0.39405842\n",
      " 0.26127901 0.7723577  0.20067824 0.17000031]\n",
      "D1  [1.18911631 1.27816859 1.2135376  0.36697159 0.83426738 0.40951674\n",
      " 0.50838384 1.09362251 0.23621744 0.76620947]\n",
      "D2  [0. 0. 0. 0. 0. 0. 0. 0. 0. 0.]\n",
      "[[0.         0.76197249 0.65813389 ... 0.54264042 0.65481722 0.61528625]\n",
      " [0.76197249 0.         0.61022984 ... 0.57186886 0.5282975  0.27455043]\n",
      " [0.65813389 0.61022984 0.         ... 0.11693375 0.0835029  0.33997131]\n",
      " ...\n",
      " [0.54264042 0.57186886 0.11693375 ... 0.         0.12607368 0.29813356]\n",
      " [0.65481722 0.5282975  0.0835029  ... 0.12607368 0.         0.2609501 ]\n",
      " [0.61528625 0.27455043 0.33997131 ... 0.29813356 0.2609501  0.        ]]\n"
     ]
    }
   ],
   "source": [
    "\n",
    "#Найти растояние между точками\n",
    "arr = np.random.random((10,2))\n",
    "print(arr)\n",
    "\n",
    "X,Y = arr[:,0], arr[:,1]\n",
    "print(X,Y)\n",
    "\n",
    "D = np.sqrt(X**2+Y**2)\n",
    "D2 = np.sqrt((X-X.T)**2 + (Y-Y.T)**2)\n",
    "print(\"D1 \",D)\n",
    "print(\"D2 \", D2)\n",
    "\n",
    "\n",
    "import scipy\n",
    "import scipy.spatial\n",
    "Z = np.random.random((10,2))\n",
    "D = scipy.spatial.distance.cdist(Z,Z)\n",
    "print(D)"
   ]
  },
  {
   "cell_type": "code",
   "execution_count": 52,
   "id": "800e42a8",
   "metadata": {},
   "outputs": [
    {
     "name": "stdout",
     "output_type": "stream",
     "text": [
      "[0 1 2 3 4 5 6 7 8 9]\n"
     ]
    }
   ],
   "source": [
    "#Изменить тип данных\n",
    "Z = np.arange(10, dtype=np.float32)\n",
    "Z = Z.astype(np.int32, copy=False)\n",
    "print(Z)"
   ]
  },
  {
   "cell_type": "code",
   "execution_count": 54,
   "id": "77b41705",
   "metadata": {},
   "outputs": [
    {
     "name": "stdout",
     "output_type": "stream",
     "text": [
      "[[ 1  2  3  4  5]\n",
      " [ 6 -1 -1  7  8]\n",
      " [-1 -1  9 10 11]]\n"
     ]
    },
    {
     "name": "stderr",
     "output_type": "stream",
     "text": [
      "<ipython-input-54-4a7b0d9b8ca3>:6: DeprecationWarning: `np.int` is a deprecated alias for the builtin `int`. To silence this warning, use `int` by itself. Doing this will not modify any behavior and is safe. When replacing `np.int`, you may wish to use e.g. `np.int64` or `np.int32` to specify the precision. If you wish to review your current use, check the release note link for additional information.\n",
      "Deprecated in NumPy 1.20; for more details and guidance: https://numpy.org/devdocs/release/1.20.0-notes.html#deprecations\n",
      "  Z = np.genfromtxt(s, delimiter=\",\", dtype=np.int)\n"
     ]
    }
   ],
   "source": [
    "from io import StringIO\n",
    "\n",
    "s = StringIO(\"\"\"1, 2, 3, 4, 5\\n\n",
    "                6,  ,  , 7, 8\\n\n",
    "                 ,  , 9,10,11\\n\"\"\")\n",
    "Z = np.genfromtxt(s, delimiter=\",\", dtype=np.int)\n",
    "print(Z)"
   ]
  },
  {
   "cell_type": "code",
   "execution_count": 57,
   "id": "b95cd48e",
   "metadata": {},
   "outputs": [
    {
     "name": "stdout",
     "output_type": "stream",
     "text": [
      "[[0 1 2]\n",
      " [3 4 5]\n",
      " [6 7 8]]\n",
      "(0, 0) 0\n",
      "(0, 1) 1\n",
      "(0, 2) 2\n",
      "(1, 0) 3\n",
      "(1, 1) 4\n",
      "(1, 2) 5\n",
      "(2, 0) 6\n",
      "(2, 1) 7\n",
      "(2, 2) 8\n",
      "(0, 0) 0\n",
      "(0, 1) 1\n",
      "(0, 2) 2\n",
      "(1, 0) 3\n",
      "(1, 1) 4\n",
      "(1, 2) 5\n",
      "(2, 0) 6\n",
      "(2, 1) 7\n",
      "(2, 2) 8\n"
     ]
    }
   ],
   "source": [
    "arr = np.arange(9).reshape(3,3)\n",
    "print(arr)\n",
    "for index, value in np.ndenumerate(arr):\n",
    "    print(index, value)\n",
    "for index in np.ndindex(arr.shape):\n",
    "    print(index, arr[index])"
   ]
  },
  {
   "cell_type": "code",
   "execution_count": 62,
   "id": "590c4a4c",
   "metadata": {},
   "outputs": [
    {
     "name": "stdout",
     "output_type": "stream",
     "text": [
      "[[       nan        nan        nan ... 0.75746513 0.67780958 0.60653066]\n",
      " [       nan        nan        nan ... 0.75746513 0.67780958 0.60653066]\n",
      " [       nan        nan        nan ... 0.75746513 0.67780958 0.60653066]\n",
      " ...\n",
      " [       nan        nan        nan ... 0.75746513 0.67780958 0.60653066]\n",
      " [       nan        nan        nan ... 0.75746513 0.67780958 0.60653066]\n",
      " [       nan        nan        nan ... 0.75746513 0.67780958 0.60653066]]\n"
     ]
    },
    {
     "name": "stderr",
     "output_type": "stream",
     "text": [
      "<ipython-input-62-7b3226622841>:3: RuntimeWarning: invalid value encountered in sqrt\n",
      "  D = np.sqrt(X,Y)\n"
     ]
    }
   ],
   "source": [
    "X,Y = np.meshgrid(np.linspace(-1,1,10), np.linspace(-1,1,10))\n",
    "\n",
    "D = np.sqrt(X,Y)\n",
    "\n",
    "sigma, mu = 1.0, 0.0\n",
    "G = np.exp(-( (D-mu)**2 / ( 2.0 * sigma**2 ) ) )\n",
    "print(G)"
   ]
  },
  {
   "cell_type": "code",
   "execution_count": 69,
   "id": "5fc465a0",
   "metadata": {},
   "outputs": [
    {
     "name": "stdout",
     "output_type": "stream",
     "text": [
      "[[0. 0. 0. ... 0. 0. 0.]\n",
      " [0. 0. 1. ... 0. 0. 0.]\n",
      " [0. 0. 0. ... 0. 0. 0.]\n",
      " ...\n",
      " [0. 0. 0. ... 0. 0. 0.]\n",
      " [0. 0. 0. ... 0. 0. 0.]\n",
      " [0. 0. 0. ... 0. 0. 0.]]\n"
     ]
    }
   ],
   "source": [
    "n = 10\n",
    "p = 3\n",
    "arr = np.zeros((n,n))\n",
    "\n",
    "np.put(arr,np.random.choice(range(n*n), p, replace=False),1)\n",
    "print(arr)"
   ]
  },
  {
   "cell_type": "code",
   "execution_count": 72,
   "id": "46f88590",
   "metadata": {},
   "outputs": [
    {
     "name": "stdout",
     "output_type": "stream",
     "text": [
      "[[0.62213655]\n",
      " [0.37933451]\n",
      " [0.40132827]\n",
      " [0.55032122]\n",
      " [0.53783042]]\n"
     ]
    }
   ],
   "source": [
    "#Вычисление среднего значения каждой строки марицы\n",
    "X = np.random.rand(5,10)\n",
    "Y = X.mean(axis=1, keepdims=True)\n",
    "print(Y)"
   ]
  },
  {
   "cell_type": "code",
   "execution_count": 87,
   "id": "f19d6704",
   "metadata": {},
   "outputs": [
    {
     "name": "stdout",
     "output_type": "stream",
     "text": [
      "[[0 0 2]\n",
      " [2 5 3]\n",
      " [4 0 7]]\n",
      "[[0 0 2]\n",
      " [4 0 7]\n",
      " [2 5 3]]\n"
     ]
    }
   ],
   "source": [
    "#Сортировака мамссива по n-ому строкам\n",
    "arr = np.random.randint(0,10,(3,3))\n",
    "print(arr)\n",
    "sort_mx = arr[arr[:,1].argsort()]\n",
    "print(sort_mx)"
   ]
  },
  {
   "cell_type": "code",
   "execution_count": 88,
   "id": "55d4fb55",
   "metadata": {},
   "outputs": [
    {
     "name": "stdout",
     "output_type": "stream",
     "text": [
      "False\n"
     ]
    }
   ],
   "source": [
    "#Определить есть ли нулевые столбцы\n",
    "Z = np.random.randint(0,3,(3,10))\n",
    "print((~Z.any(axis=0)).any())"
   ]
  },
  {
   "cell_type": "code",
   "execution_count": null,
   "id": "bb3a6f07",
   "metadata": {},
   "outputs": [],
   "source": []
  }
 ],
 "metadata": {
  "kernelspec": {
   "display_name": "Python 3",
   "language": "python",
   "name": "python3"
  },
  "language_info": {
   "codemirror_mode": {
    "name": "ipython",
    "version": 3
   },
   "file_extension": ".py",
   "mimetype": "text/x-python",
   "name": "python",
   "nbconvert_exporter": "python",
   "pygments_lexer": "ipython3",
   "version": "3.8.8"
  },
  "toc": {
   "base_numbering": 1,
   "nav_menu": {},
   "number_sections": true,
   "sideBar": true,
   "skip_h1_title": false,
   "title_cell": "Table of Contents",
   "title_sidebar": "Contents",
   "toc_cell": false,
   "toc_position": {},
   "toc_section_display": true,
   "toc_window_display": false
  },
  "varInspector": {
   "cols": {
    "lenName": 16,
    "lenType": 16,
    "lenVar": 40
   },
   "kernels_config": {
    "python": {
     "delete_cmd_postfix": "",
     "delete_cmd_prefix": "del ",
     "library": "var_list.py",
     "varRefreshCmd": "print(var_dic_list())"
    },
    "r": {
     "delete_cmd_postfix": ") ",
     "delete_cmd_prefix": "rm(",
     "library": "var_list.r",
     "varRefreshCmd": "cat(var_dic_list()) "
    }
   },
   "types_to_exclude": [
    "module",
    "function",
    "builtin_function_or_method",
    "instance",
    "_Feature"
   ],
   "window_display": false
  }
 },
 "nbformat": 4,
 "nbformat_minor": 5
}
