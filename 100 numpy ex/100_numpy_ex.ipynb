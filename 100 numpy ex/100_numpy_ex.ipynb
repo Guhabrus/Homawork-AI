{
 "cells": [
  {
   "cell_type": "code",
   "execution_count": null,
   "id": "5a5aadf2",
   "metadata": {},
   "outputs": [],
   "source": []
  },
  {
   "cell_type": "code",
   "execution_count": 1,
   "id": "e2433c68",
   "metadata": {},
   "outputs": [],
   "source": [
    "import numpy as np"
   ]
  },
  {
   "cell_type": "code",
   "execution_count": 2,
   "id": "57055833",
   "metadata": {},
   "outputs": [
    {
     "name": "stdout",
     "output_type": "stream",
     "text": [
      "1.20.1\n",
      "blas_mkl_info:\n",
      "    libraries = ['mkl_rt']\n",
      "    library_dirs = ['C:/ProgramsMy/Anaconda/coda\\\\Library\\\\lib']\n",
      "    define_macros = [('SCIPY_MKL_H', None), ('HAVE_CBLAS', None)]\n",
      "    include_dirs = ['C:/ProgramsMy/Anaconda/coda\\\\Library\\\\include']\n",
      "blas_opt_info:\n",
      "    libraries = ['mkl_rt']\n",
      "    library_dirs = ['C:/ProgramsMy/Anaconda/coda\\\\Library\\\\lib']\n",
      "    define_macros = [('SCIPY_MKL_H', None), ('HAVE_CBLAS', None)]\n",
      "    include_dirs = ['C:/ProgramsMy/Anaconda/coda\\\\Library\\\\include']\n",
      "lapack_mkl_info:\n",
      "    libraries = ['mkl_rt']\n",
      "    library_dirs = ['C:/ProgramsMy/Anaconda/coda\\\\Library\\\\lib']\n",
      "    define_macros = [('SCIPY_MKL_H', None), ('HAVE_CBLAS', None)]\n",
      "    include_dirs = ['C:/ProgramsMy/Anaconda/coda\\\\Library\\\\include']\n",
      "lapack_opt_info:\n",
      "    libraries = ['mkl_rt']\n",
      "    library_dirs = ['C:/ProgramsMy/Anaconda/coda\\\\Library\\\\lib']\n",
      "    define_macros = [('SCIPY_MKL_H', None), ('HAVE_CBLAS', None)]\n",
      "    include_dirs = ['C:/ProgramsMy/Anaconda/coda\\\\Library\\\\include']\n"
     ]
    }
   ],
   "source": [
    "print(np.__version__)\n",
    "np.show_config()"
   ]
  },
  {
   "cell_type": "code",
   "execution_count": 3,
   "id": "200db544",
   "metadata": {},
   "outputs": [
    {
     "name": "stdout",
     "output_type": "stream",
     "text": [
      "[0. 0. 0. 0. 0. 0. 0. 0. 0. 0. 0. 0. 0. 0. 0. 0. 0. 0. 0. 0. 0. 0. 0. 0.\n",
      " 0. 0. 0. 0. 0. 0. 0. 0. 0. 0. 0. 0. 0. 0. 0. 0. 0. 0. 0. 0. 0. 0. 0. 0.\n",
      " 0. 0. 0. 0. 0. 0. 0. 0. 0. 0. 0. 0. 0. 0. 0. 0. 0. 0. 0. 0. 0. 0. 0. 0.\n",
      " 0. 0. 0. 0. 0. 0. 0. 0. 0. 0. 0. 0. 0. 0. 0. 0. 0. 0. 0. 0. 0. 0. 0. 0.\n",
      " 0. 0. 0. 0.]\n"
     ]
    }
   ],
   "source": [
    "arr = np.zeros(100)\n",
    "print(arr)"
   ]
  },
  {
   "cell_type": "code",
   "execution_count": 4,
   "id": "451f18ba",
   "metadata": {},
   "outputs": [
    {
     "name": "stdout",
     "output_type": "stream",
     "text": [
      "80000 bytes\n"
     ]
    }
   ],
   "source": [
    "arr = np.zeros((100,100))\n",
    "#print(arr)\n",
    "print(\"%d bytes\" % (arr.size * arr.itemsize))"
   ]
  },
  {
   "cell_type": "code",
   "execution_count": 5,
   "id": "85901075",
   "metadata": {},
   "outputs": [
    {
     "name": "stdout",
     "output_type": "stream",
     "text": [
      "[0. 0. 0. 0. 0. 1. 0. 0. 0. 0.]\n"
     ]
    }
   ],
   "source": [
    "arr = np.zeros(10)\n",
    "arr[5] = 1\n",
    "print(arr)"
   ]
  },
  {
   "cell_type": "code",
   "execution_count": 6,
   "id": "a52dc8e2",
   "metadata": {},
   "outputs": [
    {
     "name": "stdout",
     "output_type": "stream",
     "text": [
      "[ 0  1  2  3  4  5  6  7  8  9 10 11 12 13 14 15 16 17 18 19 20 21 22 23\n",
      " 24 25 26 27 28 29]\n"
     ]
    }
   ],
   "source": [
    "arr = np.arange(0,30)\n",
    "print(arr)"
   ]
  },
  {
   "cell_type": "code",
   "execution_count": 7,
   "id": "9b980adb",
   "metadata": {},
   "outputs": [
    {
     "name": "stdout",
     "output_type": "stream",
     "text": [
      "[29 28 27 26 25 24 23 22 21 20 19 18 17 16 15 14 13 12 11 10  9  8  7  6\n",
      "  5  4  3  2  1  0]\n"
     ]
    }
   ],
   "source": [
    "arr = arr[::-1]\n",
    "print(arr)"
   ]
  },
  {
   "cell_type": "code",
   "execution_count": 8,
   "id": "f822fe6d",
   "metadata": {},
   "outputs": [
    {
     "name": "stdout",
     "output_type": "stream",
     "text": [
      "[[ 0  1  2  3]\n",
      " [ 4  5  6  7]\n",
      " [ 8  9 10 11]]\n"
     ]
    }
   ],
   "source": [
    "arr = np.arange(12)\n",
    "arr = arr.reshape(3,4)\n",
    "print(arr)"
   ]
  },
  {
   "cell_type": "code",
   "execution_count": 9,
   "id": "936b7e27",
   "metadata": {},
   "outputs": [
    {
     "name": "stdout",
     "output_type": "stream",
     "text": [
      "(array([ 2,  3,  4,  5,  6,  9, 10, 11, 12, 13], dtype=int64),)\n"
     ]
    }
   ],
   "source": [
    "arr = np.nonzero([0,0,1,2,3,1,10,0,0,1,2,3,10,1])\n",
    "print(arr)"
   ]
  },
  {
   "cell_type": "code",
   "execution_count": 10,
   "id": "2915b080",
   "metadata": {},
   "outputs": [
    {
     "name": "stdout",
     "output_type": "stream",
     "text": [
      "[[1. 0. 0.]\n",
      " [0. 1. 0.]\n",
      " [0. 0. 1.]]\n"
     ]
    }
   ],
   "source": [
    "arr = np.eye(3)\n",
    "print(arr)"
   ]
  },
  {
   "cell_type": "code",
   "execution_count": 11,
   "id": "1adeb528",
   "metadata": {},
   "outputs": [
    {
     "name": "stdout",
     "output_type": "stream",
     "text": [
      "[[[0.21069391 0.74964389 0.6930656 ]\n",
      "  [0.87458437 0.47348539 0.72766331]\n",
      "  [0.3939478  0.11351463 0.20742699]]\n",
      "\n",
      " [[0.68434051 0.40955646 0.67127346]\n",
      "  [0.83462585 0.38989027 0.94950569]\n",
      "  [0.71838161 0.37329399 0.33234579]]\n",
      "\n",
      " [[0.35790062 0.61121257 0.48796176]\n",
      "  [0.41455996 0.17394995 0.82623845]\n",
      "  [0.76735222 0.95159751 0.57679183]]]\n"
     ]
    }
   ],
   "source": [
    "arr = np.random.random((3,3,3))\n",
    "print(arr)"
   ]
  },
  {
   "cell_type": "code",
   "execution_count": 12,
   "id": "88ba653f",
   "metadata": {},
   "outputs": [
    {
     "name": "stdout",
     "output_type": "stream",
     "text": [
      "0.0027965580664272016 0.997521805800632\n"
     ]
    }
   ],
   "source": [
    "arr = np.random.random((10,10,10))\n",
    "arr_min, arr_max = arr.min(), arr.max()\n",
    "#print(arr)\n",
    "print(arr_min, arr_max)"
   ]
  },
  {
   "cell_type": "code",
   "execution_count": 13,
   "id": "d1c6818b",
   "metadata": {},
   "outputs": [
    {
     "name": "stdout",
     "output_type": "stream",
     "text": [
      "0.5852327283646641\n"
     ]
    }
   ],
   "source": [
    "arr = np.random.random(30)\n",
    "mean = arr.mean() #среднее\n",
    "print(mean)"
   ]
  },
  {
   "cell_type": "code",
   "execution_count": 14,
   "id": "60764262",
   "metadata": {},
   "outputs": [
    {
     "name": "stdout",
     "output_type": "stream",
     "text": [
      "[[1. 1. 1. 1. 1. 1. 1. 1. 1. 1.]\n",
      " [1. 0. 0. 0. 0. 0. 0. 0. 0. 1.]\n",
      " [1. 0. 0. 0. 0. 0. 0. 0. 0. 1.]\n",
      " [1. 0. 0. 0. 0. 0. 0. 0. 0. 1.]\n",
      " [1. 0. 0. 0. 0. 0. 0. 0. 0. 1.]\n",
      " [1. 0. 0. 0. 0. 0. 0. 0. 0. 1.]\n",
      " [1. 0. 0. 0. 0. 0. 0. 0. 0. 1.]\n",
      " [1. 0. 0. 0. 0. 0. 0. 0. 0. 1.]\n",
      " [1. 0. 0. 0. 0. 0. 0. 0. 0. 1.]\n",
      " [1. 1. 1. 1. 1. 1. 1. 1. 1. 1.]]\n"
     ]
    }
   ],
   "source": [
    "arr = np.ones((10,10))\n",
    "arr[1:-1, 1:-1] = 0\n",
    "print(arr)"
   ]
  },
  {
   "cell_type": "code",
   "execution_count": 15,
   "id": "10beedd8",
   "metadata": {},
   "outputs": [
    {
     "name": "stdout",
     "output_type": "stream",
     "text": [
      "[[0. 0. 0. 0. 0. 0. 0.]\n",
      " [0. 1. 1. 1. 1. 1. 0.]\n",
      " [0. 1. 1. 1. 1. 1. 0.]\n",
      " [0. 1. 1. 1. 1. 1. 0.]\n",
      " [0. 1. 1. 1. 1. 1. 0.]\n",
      " [0. 1. 1. 1. 1. 1. 0.]\n",
      " [0. 0. 0. 0. 0. 0. 0.]]\n"
     ]
    }
   ],
   "source": [
    "#arr = np.zeros((5,5))\n",
    "#arr[1:-1, 1:-1] = 1\n",
    "arr = np.ones((5,5))\n",
    "arr = np.pad(arr, pad_width = 1, mode = 'constant', constant_values= 0)\n",
    "print(arr)"
   ]
  },
  {
   "cell_type": "code",
   "execution_count": 16,
   "id": "06f207a9",
   "metadata": {},
   "outputs": [
    {
     "name": "stdout",
     "output_type": "stream",
     "text": [
      "nan\n",
      "False\n",
      "False\n",
      "nan\n",
      "True\n",
      "False\n"
     ]
    }
   ],
   "source": [
    "print(0 * np.nan)\n",
    "print(np.nan == np.nan)\n",
    "print(np.inf > np.nan)\n",
    "print(np.nan - np.nan)\n",
    "print(np.nan in set([np.nan]))\n",
    "print(0.3 == 3 * 0.1)"
   ]
  },
  {
   "cell_type": "code",
   "execution_count": 17,
   "id": "fbae62db",
   "metadata": {},
   "outputs": [
    {
     "name": "stdout",
     "output_type": "stream",
     "text": [
      "[[0 0 0 0 0]\n",
      " [1 0 0 0 0]\n",
      " [0 2 0 0 0]\n",
      " [0 0 3 0 0]\n",
      " [0 0 0 4 0]]\n"
     ]
    }
   ],
   "source": [
    "arr = np.diag(1+np.arange(4), k = -1)\n",
    "print(arr)"
   ]
  },
  {
   "cell_type": "code",
   "execution_count": 18,
   "id": "b31a3071",
   "metadata": {},
   "outputs": [
    {
     "name": "stdout",
     "output_type": "stream",
     "text": [
      "[[0. 1. 0. 1. 0. 1. 0. 1.]\n",
      " [1. 0. 1. 0. 1. 0. 1. 0.]\n",
      " [0. 1. 0. 1. 0. 1. 0. 1.]\n",
      " [1. 0. 1. 0. 1. 0. 1. 0.]\n",
      " [0. 1. 0. 1. 0. 1. 0. 1.]\n",
      " [1. 0. 1. 0. 1. 0. 1. 0.]\n",
      " [0. 1. 0. 1. 0. 1. 0. 1.]\n",
      " [1. 0. 1. 0. 1. 0. 1. 0.]]\n"
     ]
    }
   ],
   "source": [
    "arr = np.zeros((8,8))\n",
    "arr[1::2,::2 ] = 1 #1 -[с какой начинается :: интервал, :] \n",
    "arr[::2, 1::2] = 1\n",
    "print(arr)"
   ]
  },
  {
   "cell_type": "code",
   "execution_count": 19,
   "id": "f022b4e9",
   "metadata": {},
   "outputs": [
    {
     "name": "stdout",
     "output_type": "stream",
     "text": [
      "(1, 5, 4)\n"
     ]
    }
   ],
   "source": [
    "print(np.unravel_index(100,(6,7,8)))"
   ]
  },
  {
   "cell_type": "code",
   "execution_count": 20,
   "id": "d3b618c8",
   "metadata": {},
   "outputs": [
    {
     "name": "stdout",
     "output_type": "stream",
     "text": [
      "[[1 0 1 0 1 0 1 0]\n",
      " [0 1 0 1 0 1 0 1]\n",
      " [1 0 1 0 1 0 1 0]\n",
      " [0 1 0 1 0 1 0 1]\n",
      " [1 0 1 0 1 0 1 0]\n",
      " [0 1 0 1 0 1 0 1]\n",
      " [1 0 1 0 1 0 1 0]\n",
      " [0 1 0 1 0 1 0 1]]\n"
     ]
    }
   ],
   "source": [
    "arr = np.tile(np.array([[1,0],[0,1]]), (4,4)) #повторяет какой либо массив 4х4 раза\n",
    "print(arr)"
   ]
  },
  {
   "cell_type": "code",
   "execution_count": 21,
   "id": "7409a338",
   "metadata": {},
   "outputs": [
    {
     "name": "stdout",
     "output_type": "stream",
     "text": [
      "[[ 0.81596001  1.06190416  1.06034175  1.44203771 -1.22605449]\n",
      " [ 1.30204145 -0.56341847 -1.66711951  1.08663916 -0.50437271]\n",
      " [-0.28810446  0.98362492  0.65407617 -0.79746026  0.73360691]\n",
      " [-0.32717833 -1.7155593   0.63634097 -0.34645725 -0.42616259]\n",
      " [-1.47358229 -0.05564125 -1.64660364  0.93226294  0.3288784 ]]\n"
     ]
    }
   ],
   "source": [
    "arr = np.random.random((5,5))\n",
    "arr = (arr - np.mean (arr)) / (np.std (arr))\n",
    "print(arr)"
   ]
  },
  {
   "cell_type": "code",
   "execution_count": 22,
   "id": "a40e6368",
   "metadata": {},
   "outputs": [
    {
     "name": "stdout",
     "output_type": "stream",
     "text": [
      "[('r', 'u1'), ('g', 'u1'), ('b', 'u1'), ('a', 'u1')]\n"
     ]
    },
    {
     "name": "stderr",
     "output_type": "stream",
     "text": [
      "<ipython-input-22-5432efe93e2f>:1: FutureWarning: Passing (type, 1) or '1type' as a synonym of type is deprecated; in a future version of numpy, it will be understood as (type, (1,)) / '(1,)type'.\n",
      "  color = np.dtype([(\"r\", np.ubyte, 1),\n"
     ]
    }
   ],
   "source": [
    "color = np.dtype([(\"r\", np.ubyte, 1),\n",
    "                  (\"g\", np.ubyte, 1),\n",
    "                  (\"b\", np.ubyte, 1),\n",
    "                  (\"a\", np.ubyte, 1)])\n",
    "print(color)"
   ]
  },
  {
   "cell_type": "code",
   "execution_count": 23,
   "id": "c8b03417",
   "metadata": {},
   "outputs": [
    {
     "name": "stdout",
     "output_type": "stream",
     "text": [
      "[[ 295   16]\n",
      " [ 307  128]\n",
      " [ 589   25]\n",
      " [ 883   34]\n",
      " [1078   15]]\n"
     ]
    }
   ],
   "source": [
    "arr1 = np.array([[1,2,3],[13,4,3],[1,5,6], [1,8,9], [0,2,11]])\n",
    "arr2 = np.array([[1,9],[0,2], [98,1]])\n",
    "\n",
    "\n",
    "arr = np.dot(arr1,arr2)\n",
    "print(arr)"
   ]
  },
  {
   "cell_type": "code",
   "execution_count": 24,
   "id": "51a809f3",
   "metadata": {},
   "outputs": [
    {
     "name": "stdout",
     "output_type": "stream",
     "text": [
      "[ 0  1  2  3 -4 -5 -6 -7 -8  9 10]\n"
     ]
    }
   ],
   "source": [
    "arr = np.arange(11)\n",
    "\n",
    "arr[(3<arr)&(arr<=8)]*=-1\n",
    "print(arr)"
   ]
  },
  {
   "cell_type": "code",
   "execution_count": 25,
   "id": "27879522",
   "metadata": {},
   "outputs": [
    {
     "name": "stdout",
     "output_type": "stream",
     "text": [
      "9\n",
      "10\n"
     ]
    }
   ],
   "source": [
    "print(sum(range(5),-1))\n",
    "from numpy import *\n",
    "print(sum(range(5),-1))"
   ]
  },
  {
   "cell_type": "code",
   "execution_count": 26,
   "id": "8589d591",
   "metadata": {},
   "outputs": [
    {
     "data": {
      "text/plain": [
       "False"
      ]
     },
     "execution_count": 26,
     "metadata": {},
     "output_type": "execute_result"
    }
   ],
   "source": [
    "Z = np.array(100)\n",
    "Z**Z\n",
    "2 << Z >> 2\n",
    "Z <- Z\n",
    "1j*Z\n",
    "Z/1/1\n",
    "Z<Z>ZeroDivisionError"
   ]
  },
  {
   "cell_type": "code",
   "execution_count": 27,
   "id": "34e35b57",
   "metadata": {},
   "outputs": [
    {
     "name": "stdout",
     "output_type": "stream",
     "text": [
      "nan\n",
      "0\n",
      "[-2.14748365e+09]\n"
     ]
    },
    {
     "name": "stderr",
     "output_type": "stream",
     "text": [
      "<ipython-input-27-2a10de0ee61b>:1: RuntimeWarning: invalid value encountered in true_divide\n",
      "  print(np.array(0) / np.array(0))\n",
      "<ipython-input-27-2a10de0ee61b>:2: RuntimeWarning: divide by zero encountered in floor_divide\n",
      "  print(np.array(0) // np.array(0))\n"
     ]
    }
   ],
   "source": [
    "print(np.array(0) / np.array(0))\n",
    "print(np.array(0) // np.array(0))\n",
    "print(np.array([np.nan]).astype(int).astype(float))"
   ]
  },
  {
   "cell_type": "code",
   "execution_count": 28,
   "id": "e2ce0ebd",
   "metadata": {},
   "outputs": [
    {
     "name": "stdout",
     "output_type": "stream",
     "text": [
      "[ 6.33557867  0.25584471  6.91229844 -1.36388236 -1.05498896  9.6298834\n",
      " -5.78618304  5.39090379  4.41698407 -6.93408247]\n",
      "[ 7.  1.  7. -2. -2. 10. -6.  6.  5. -7.]\n"
     ]
    }
   ],
   "source": [
    "arr = np.random.uniform(-10,+10,10)\n",
    "print(arr)\n",
    "print (np.copysign(np.ceil(np.abs(arr)), arr))"
   ]
  },
  {
   "cell_type": "code",
   "execution_count": 30,
   "id": "1f8a3c26",
   "metadata": {},
   "outputs": [
    {
     "name": "stdout",
     "output_type": "stream",
     "text": [
      "[9 2 1 6 5 6 2 1 4 2] [7 0 0 4 9 4 7 6 5 0]\n",
      "[4 5 6 9]\n"
     ]
    }
   ],
   "source": [
    "arr1 = np.random.randint(0,10,10)\n",
    "arr2 = np.random.randint(0,10,10)\n",
    "\n",
    "print(arr1, arr2)\n",
    "print(np.intersect1d(arr1,arr2))"
   ]
  },
  {
   "cell_type": "code",
   "execution_count": 31,
   "id": "d54c7f4a",
   "metadata": {},
   "outputs": [
    {
     "ename": "SyntaxError",
     "evalue": "invalid syntax (<ipython-input-31-efc4639271dd>, line 7)",
     "output_type": "error",
     "traceback": [
      "\u001b[1;36m  File \u001b[1;32m\"<ipython-input-31-efc4639271dd>\"\u001b[1;36m, line \u001b[1;32m7\u001b[0m\n\u001b[1;33m    An equivalent way, with a context manager:\u001b[0m\n\u001b[1;37m       ^\u001b[0m\n\u001b[1;31mSyntaxError\u001b[0m\u001b[1;31m:\u001b[0m invalid syntax\n"
     ]
    }
   ],
   "source": [
    "\n",
    "defaults = np.seterr(all=\"ignore\")\n",
    "Z = np.ones(1) / 0\n",
    "\n",
    "\n",
    "_ = np.seterr(**defaults)\n",
    "\n",
    "An equivalent way, with a context manager:\n",
    "\n",
    "with np.errstate(divide='ignore'):\n",
    "    Z = np.ones(1) / 0"
   ]
  },
  {
   "cell_type": "code",
   "execution_count": 33,
   "id": "5cae17b5",
   "metadata": {},
   "outputs": [
    {
     "name": "stdout",
     "output_type": "stream",
     "text": [
      "nan 1j\n"
     ]
    },
    {
     "name": "stderr",
     "output_type": "stream",
     "text": [
      "<ipython-input-33-8a1c3b0c741f>:1: RuntimeWarning: invalid value encountered in sqrt\n",
      "  np.sqrt(-1) == np.emath.sqrt(-1)\n",
      "<ipython-input-33-8a1c3b0c741f>:2: RuntimeWarning: invalid value encountered in sqrt\n",
      "  print(np.sqrt(-1),np.emath.sqrt(-1) )\n"
     ]
    }
   ],
   "source": [
    "np.sqrt(-1) == np.emath.sqrt(-1)\n",
    "print(np.sqrt(-1),np.emath.sqrt(-1) )"
   ]
  },
  {
   "cell_type": "code",
   "execution_count": 36,
   "id": "79e77dbe",
   "metadata": {},
   "outputs": [
    {
     "name": "stdout",
     "output_type": "stream",
     "text": [
      "2021-10-13 2021-10-14 2021-10-15\n"
     ]
    }
   ],
   "source": [
    "yesterday = np.datetime64('today', 'D') - np.timedelta64(1, 'D')\n",
    "today     = np.datetime64('today', 'D')\n",
    "tomorrow  = np.datetime64('today', 'D') + np.timedelta64(1, 'D')\n",
    "\n",
    "print(yesterday, today, tomorrow)"
   ]
  },
  {
   "cell_type": "code",
   "execution_count": 37,
   "id": "e8e79356",
   "metadata": {},
   "outputs": [
    {
     "name": "stdout",
     "output_type": "stream",
     "text": [
      "['1999-08-01' '1999-08-02' '1999-08-03' '1999-08-04' '1999-08-05'\n",
      " '1999-08-06' '1999-08-07' '1999-08-08' '1999-08-09' '1999-08-10'\n",
      " '1999-08-11' '1999-08-12' '1999-08-13' '1999-08-14' '1999-08-15'\n",
      " '1999-08-16' '1999-08-17' '1999-08-18' '1999-08-19' '1999-08-20'\n",
      " '1999-08-21' '1999-08-22' '1999-08-23' '1999-08-24' '1999-08-25'\n",
      " '1999-08-26' '1999-08-27' '1999-08-28' '1999-08-29' '1999-08-30'\n",
      " '1999-08-31']\n"
     ]
    }
   ],
   "source": [
    "data = np.arange('1999-08', '1999-09', dtype = 'datetime64[D]')\n",
    "print(data)"
   ]
  },
  {
   "cell_type": "code",
   "execution_count": 38,
   "id": "f91be4d7",
   "metadata": {},
   "outputs": [
    {
     "data": {
      "text/plain": [
       "array([-1.5, -1.5, -1.5])"
      ]
     },
     "execution_count": 38,
     "metadata": {},
     "output_type": "execute_result"
    }
   ],
   "source": [
    "A = np.ones(3)*1\n",
    "B = np.ones(3)*2\n",
    "C = np.ones(3)*3\n",
    "np.add(A,B,out=B)\n",
    "np.divide(A,2,out=A)\n",
    "np.negative(A,out=A)\n",
    "np.multiply(A,B,out=A)"
   ]
  },
  {
   "cell_type": "code",
   "execution_count": 40,
   "id": "487bdb45",
   "metadata": {},
   "outputs": [
    {
     "name": "stdout",
     "output_type": "stream",
     "text": [
      "[1. 8. 4. 5. 5. 4. 8. 8. 5. 9.]\n",
      "[1. 8. 4. 5. 5. 4. 8. 8. 5. 9.]\n",
      "[1. 8. 4. 5. 5. 4. 8. 8. 5. 9.]\n",
      "[1 8 4 5 5 4 8 8 5 9]\n",
      "[1. 8. 4. 5. 5. 4. 8. 8. 5. 9.]\n"
     ]
    }
   ],
   "source": [
    "arr = np.random.uniform(0,10,10)\n",
    "#print(arr)\n",
    "\n",
    "print (arr - arr%1)\n",
    "print (np.floor(arr))\n",
    "print (np.ceil(arr)-1)\n",
    "print (arr.astype(int))\n",
    "print (np.trunc(arr))"
   ]
  },
  {
   "cell_type": "code",
   "execution_count": 46,
   "id": "b7ac4d57",
   "metadata": {},
   "outputs": [
    {
     "name": "stdout",
     "output_type": "stream",
     "text": [
      "[[0. 1. 2. 3. 4.]\n",
      " [0. 1. 2. 3. 4.]\n",
      " [0. 1. 2. 3. 4.]\n",
      " [0. 1. 2. 3. 4.]\n",
      " [0. 1. 2. 3. 4.]]\n"
     ]
    }
   ],
   "source": [
    "arr = np.zeros((5,5))\n",
    "#for i in range(5):\n",
    "    #arr[i] = np.arange(5)\n",
    "arr+=np.arange(5)    \n",
    "   \n",
    "print(arr)"
   ]
  },
  {
   "cell_type": "code",
   "execution_count": 47,
   "id": "62409f92",
   "metadata": {},
   "outputs": [
    {
     "name": "stdout",
     "output_type": "stream",
     "text": [
      "[0. 1. 2. 3. 4. 5. 6. 7. 8. 9.]\n"
     ]
    }
   ],
   "source": [
    "def generate():\n",
    "    for x in range(10):\n",
    "        yield x\n",
    "arr = np.fromiter(generate(),dtype=float,count=-1) #оздайте новый одномерный массив из итерируемого объекта.\n",
    "print(arr)"
   ]
  },
  {
   "cell_type": "code",
   "execution_count": 50,
   "id": "8455f5bf",
   "metadata": {},
   "outputs": [
    {
     "name": "stdout",
     "output_type": "stream",
     "text": [
      "[0.09090909 0.18181818 0.27272727 0.36363636 0.45454545 0.54545455\n",
      " 0.63636364 0.72727273 0.81818182 0.90909091]\n"
     ]
    }
   ],
   "source": [
    "arr = np.linspace(0,1,11,endpoint=False)[1:]\n",
    "print(arr)"
   ]
  },
  {
   "cell_type": "code",
   "execution_count": 51,
   "id": "9fdea8a0",
   "metadata": {},
   "outputs": [
    {
     "name": "stdout",
     "output_type": "stream",
     "text": [
      "[0.10259751 0.23087163 0.45447035 0.47128574 0.61876841 0.63616001\n",
      " 0.73937114 0.84513296 0.87967604 0.91346505]\n"
     ]
    }
   ],
   "source": [
    "arr = np.random.random(10)\n",
    "arr.sort()\n",
    "print(arr)"
   ]
  },
  {
   "cell_type": "code",
   "execution_count": 3,
   "id": "fd47d934",
   "metadata": {},
   "outputs": [
    {
     "name": "stdout",
     "output_type": "stream",
     "text": [
      "[0 1 2 3 4 5 6 7 8 9]\n",
      "45\n"
     ]
    }
   ],
   "source": [
    "arr = np.arange(10)\n",
    "print(arr)\n",
    "print(np.add.reduce(arr))\n"
   ]
  },
  {
   "cell_type": "code",
   "execution_count": 6,
   "id": "7da8310d",
   "metadata": {},
   "outputs": [
    {
     "name": "stdout",
     "output_type": "stream",
     "text": [
      "Форма - False\n",
      "Значение - False\n"
     ]
    }
   ],
   "source": [
    "arr1 = np.random.randint(0,10,10)\n",
    "arr2 = np.random.randint(0,10,10)\n",
    "\n",
    "print(\"Форма -\",np.allclose(arr1,arr2))\n",
    "print(\"Значение -\",np.array_equal(arr1,arr2))"
   ]
  },
  {
   "cell_type": "code",
   "execution_count": 7,
   "id": "38eeb182",
   "metadata": {},
   "outputs": [
    {
     "ename": "ValueError",
     "evalue": "assignment destination is read-only",
     "output_type": "error",
     "traceback": [
      "\u001b[1;31m---------------------------------------------------------------------------\u001b[0m",
      "\u001b[1;31mValueError\u001b[0m                                Traceback (most recent call last)",
      "\u001b[1;32m<ipython-input-7-7cd3a230ca1a>\u001b[0m in \u001b[0;36m<module>\u001b[1;34m\u001b[0m\n\u001b[0;32m      1\u001b[0m \u001b[0marr\u001b[0m \u001b[1;33m=\u001b[0m \u001b[0mnp\u001b[0m\u001b[1;33m.\u001b[0m\u001b[0mzeros\u001b[0m\u001b[1;33m(\u001b[0m\u001b[1;36m10\u001b[0m\u001b[1;33m)\u001b[0m\u001b[1;33m\u001b[0m\u001b[1;33m\u001b[0m\u001b[0m\n\u001b[0;32m      2\u001b[0m \u001b[0marr\u001b[0m\u001b[1;33m.\u001b[0m\u001b[0mflags\u001b[0m\u001b[1;33m.\u001b[0m\u001b[0mwriteable\u001b[0m \u001b[1;33m=\u001b[0m \u001b[1;32mFalse\u001b[0m\u001b[1;33m\u001b[0m\u001b[1;33m\u001b[0m\u001b[0m\n\u001b[1;32m----> 3\u001b[1;33m \u001b[0marr\u001b[0m\u001b[1;33m[\u001b[0m\u001b[1;36m0\u001b[0m\u001b[1;33m]\u001b[0m \u001b[1;33m=\u001b[0m \u001b[1;36m1\u001b[0m\u001b[1;33m\u001b[0m\u001b[1;33m\u001b[0m\u001b[0m\n\u001b[0m",
      "\u001b[1;31mValueError\u001b[0m: assignment destination is read-only"
     ]
    }
   ],
   "source": [
    "arr = np.zeros(10)\n",
    "arr.flags.writeable = False\n",
    "arr[0] = 1"
   ]
  },
  {
   "cell_type": "code",
   "execution_count": 16,
   "id": "99ade479",
   "metadata": {},
   "outputs": [
    {
     "name": "stdout",
     "output_type": "stream",
     "text": [
      "[[0.03912312 0.50055495]\n",
      " [0.68721046 0.0169286 ]\n",
      " [0.26543218 0.9562529 ]\n",
      " [0.3703807  0.11228856]\n",
      " [0.23086002 0.21389533]\n",
      " [0.18662366 0.15107566]\n",
      " [0.45137025 0.74566128]\n",
      " [0.81508854 0.88251099]\n",
      " [0.46931999 0.59493878]\n",
      " [0.43219027 0.37678542]]\n",
      "[0.50208155 0.68741894 0.99240811 0.38702788 0.31471822 0.24010882\n",
      " 0.87163401 1.2013305  0.7577687  0.5733722 ] [0.07800091 1.54616751 0.27075886 1.27643322 0.82352355 0.89027716\n",
      " 0.54432853 0.74570268 0.66790771 0.85377904]\n",
      "[[0.50208155 0.07800091]\n",
      " [0.68741894 1.54616751]\n",
      " [0.99240811 0.27075886]\n",
      " [0.38702788 1.27643322]\n",
      " [0.31471822 0.82352355]\n",
      " [0.24010882 0.89027716]\n",
      " [0.87163401 0.54432853]\n",
      " [1.2013305  0.74570268]\n",
      " [0.7577687  0.66790771]\n",
      " [0.5733722  0.85377904]]\n"
     ]
    }
   ],
   "source": [
    "mx = np.random.random((10,2))\n",
    "\n",
    "print(mx)\n",
    "X,Y = mx[:,0],mx[:,1] \n",
    "\n",
    "R = np.sqrt(X**2+Y**2)\n",
    "T = np.arctan2(X,Y)\n",
    "print(R,T)\n",
    "\n",
    "mx[:,0], mx[:,1] = R,T\n",
    "print(mx)"
   ]
  },
  {
   "cell_type": "code",
   "execution_count": 18,
   "id": "680de25d",
   "metadata": {},
   "outputs": [
    {
     "name": "stdout",
     "output_type": "stream",
     "text": [
      "[0.60464971 0.75268092 0.04163541 0.40412845 0.49628537]\n",
      "[0.60464971 0.         0.04163541 0.40412845 0.49628537]\n"
     ]
    }
   ],
   "source": [
    "arr = np.random.random(5)\n",
    "print(arr)\n",
    "arr[arr.argmax()] = 0\n",
    "print(arr)"
   ]
  },
  {
   "cell_type": "code",
   "execution_count": 20,
   "id": "18092ee6",
   "metadata": {},
   "outputs": [
    {
     "name": "stdout",
     "output_type": "stream",
     "text": [
      "[[(0., 0.) (0., 0.) (0., 0.) (0., 0.) (0., 0.)]\n",
      " [(0., 0.) (0., 0.) (0., 0.) (0., 0.) (0., 0.)]\n",
      " [(0., 0.) (0., 0.) (0., 0.) (0., 0.) (0., 0.)]\n",
      " [(0., 0.) (0., 0.) (0., 0.) (0., 0.) (0., 0.)]\n",
      " [(0., 0.) (0., 0.) (0., 0.) (0., 0.) (0., 0.)]]\n",
      "[[(0.  , 0.  ) (0.25, 0.  ) (0.5 , 0.  ) (0.75, 0.  ) (1.  , 0.  )]\n",
      " [(0.  , 0.25) (0.25, 0.25) (0.5 , 0.25) (0.75, 0.25) (1.  , 0.25)]\n",
      " [(0.  , 0.5 ) (0.25, 0.5 ) (0.5 , 0.5 ) (0.75, 0.5 ) (1.  , 0.5 )]\n",
      " [(0.  , 0.75) (0.25, 0.75) (0.5 , 0.75) (0.75, 0.75) (1.  , 0.75)]\n",
      " [(0.  , 1.  ) (0.25, 1.  ) (0.5 , 1.  ) (0.75, 1.  ) (1.  , 1.  )]]\n"
     ]
    }
   ],
   "source": [
    "arr = np.zeros((5,5), [('x',float),('y',float)])\n",
    "print(arr)\n",
    "arr['x'], arr['y'] = np.meshgrid(np.linspace(0,1,5),\n",
    "                             np.linspace(0,1,5))\n",
    "print(arr)"
   ]
  },
  {
   "cell_type": "code",
   "execution_count": 26,
   "id": "15db2c2d",
   "metadata": {},
   "outputs": [
    {
     "name": "stdout",
     "output_type": "stream",
     "text": [
      "[3 6 1 7 2 9 2 1 6 9] [5 8 8 5 1 3 3 9 5 8]\n",
      "[[-2 -5 -5 -2  2  0  0 -6 -2 -5]\n",
      " [ 1 -2 -2  1  5  3  3 -3  1 -2]\n",
      " [-4 -7 -7 -4  0 -2 -2 -8 -4 -7]\n",
      " [ 2 -1 -1  2  6  4  4 -2  2 -1]\n",
      " [-3 -6 -6 -3  1 -1 -1 -7 -3 -6]\n",
      " [ 4  1  1  4  8  6  6  0  4  1]\n",
      " [-3 -6 -6 -3  1 -1 -1 -7 -3 -6]\n",
      " [-4 -7 -7 -4  0 -2 -2 -8 -4 -7]\n",
      " [ 1 -2 -2  1  5  3  3 -3  1 -2]\n",
      " [ 4  1  1  4  8  6  6  0  4  1]]\n",
      "[[-0.5        -0.2        -0.2        -0.5         0.5                inf\n",
      "          inf -0.16666667 -0.5        -0.2       ]\n",
      " [ 1.         -0.5        -0.5         1.          0.2         0.33333333\n",
      "   0.33333333 -0.33333333  1.         -0.5       ]\n",
      " [-0.25       -0.14285714 -0.14285714 -0.25               inf -0.5\n",
      "  -0.5        -0.125      -0.25       -0.14285714]\n",
      " [ 0.5        -1.         -1.          0.5         0.16666667  0.25\n",
      "   0.25       -0.5         0.5        -1.        ]\n",
      " [-0.33333333 -0.16666667 -0.16666667 -0.33333333  1.         -1.\n",
      "  -1.         -0.14285714 -0.33333333 -0.16666667]\n",
      " [ 0.25        1.          1.          0.25        0.125       0.16666667\n",
      "   0.16666667         inf  0.25        1.        ]\n",
      " [-0.33333333 -0.16666667 -0.16666667 -0.33333333  1.         -1.\n",
      "  -1.         -0.14285714 -0.33333333 -0.16666667]\n",
      " [-0.25       -0.14285714 -0.14285714 -0.25               inf -0.5\n",
      "  -0.5        -0.125      -0.25       -0.14285714]\n",
      " [ 1.         -0.5        -0.5         1.          0.2         0.33333333\n",
      "   0.33333333 -0.33333333  1.         -0.5       ]\n",
      " [ 0.25        1.          1.          0.25        0.125       0.16666667\n",
      "   0.16666667         inf  0.25        1.        ]]\n"
     ]
    },
    {
     "name": "stderr",
     "output_type": "stream",
     "text": [
      "<ipython-input-26-19a48a744776>:6: RuntimeWarning: divide by zero encountered in true_divide\n",
      "  C = 1.0/np.subtract.outer(X,Y)\n"
     ]
    }
   ],
   "source": [
    "X = np.random.randint(0,10,10)\n",
    "Y = np.random.randint(0,10,10)\n",
    "print(X,Y)\n",
    "\n",
    "print(np.subtract.outer(X,Y))\n",
    "C = 1.0/np.subtract.outer(X,Y)\n",
    "print(C)"
   ]
  },
  {
   "cell_type": "code",
   "execution_count": 27,
   "id": "ebbf5b93",
   "metadata": {},
   "outputs": [
    {
     "name": "stdout",
     "output_type": "stream",
     "text": [
      "-128\n",
      "127\n",
      "-2147483648\n",
      "2147483647\n",
      "-9223372036854775808\n",
      "9223372036854775807\n",
      "-3.4028235e+38\n",
      "3.4028235e+38\n",
      "1.1920929e-07\n",
      "-1.7976931348623157e+308\n",
      "1.7976931348623157e+308\n",
      "2.220446049250313e-16\n"
     ]
    }
   ],
   "source": [
    "for dtype in [np.int8, np.int32, np.int64]:\n",
    "   print(np.iinfo(dtype).min)\n",
    "   print(np.iinfo(dtype).max)\n",
    "for dtype in [np.float32, np.float64]:\n",
    "   print(np.finfo(dtype).min)\n",
    "   print(np.finfo(dtype).max)\n",
    "   print(np.finfo(dtype).eps)"
   ]
  },
  {
   "cell_type": "code",
   "execution_count": 38,
   "id": "a608ad9d",
   "metadata": {},
   "outputs": [
    {
     "name": "stdout",
     "output_type": "stream",
     "text": [
      "[[0. 0. 0. 0. 0.]\n",
      " [0. 0. 0. 0. 0.]\n",
      " [0. 0. 0. 0. 0.]\n",
      " [0. 0. 0. 0. 0.]\n",
      " [0. 0. 0. 0. 0.]]\n"
     ]
    }
   ],
   "source": [
    "#вывод числе с плавоющей точкой\n",
    "np.set_printoptions(threshold=10)\n",
    "Z = np.zeros((5,5))\n",
    "print(Z)"
   ]
  },
  {
   "cell_type": "code",
   "execution_count": 36,
   "id": "2d5fa58c",
   "metadata": {},
   "outputs": [
    {
     "name": "stdout",
     "output_type": "stream",
     "text": [
      "[0 1 2 ... 7 8 9]\n",
      "4.712314828375747\n",
      "5\n"
     ]
    }
   ],
   "source": [
    "#Найти ближайший элемент массива к числу\n",
    "arr = np.arange(10)\n",
    "print(arr)\n",
    "v = np.random.uniform(0,10)\n",
    "print(v)\n",
    "index = (np.abs(arr-v)).argmin()\n",
    "print(arr[index])"
   ]
  },
  {
   "cell_type": "code",
   "execution_count": 42,
   "id": "616f15cc",
   "metadata": {},
   "outputs": [
    {
     "name": "stdout",
     "output_type": "stream",
     "text": [
      "[((0., 0.), (0., 0., 0.)) ((0., 0.), (0., 0., 0.))\n",
      " ((0., 0.), (0., 0., 0.)) ((0., 0.), (0., 0., 0.))\n",
      " ((0., 0.), (0., 0., 0.)) ((0., 0.), (0., 0., 0.))\n",
      " ((0., 0.), (0., 0., 0.)) ((0., 0.), (0., 0., 0.))\n",
      " ((0., 0.), (0., 0., 0.)) ((0., 0.), (0., 0., 0.))]\n"
     ]
    },
    {
     "name": "stderr",
     "output_type": "stream",
     "text": [
      "<ipython-input-42-601abac7313f>:1: FutureWarning: Passing (type, 1) or '1type' as a synonym of type is deprecated; in a future version of numpy, it will be understood as (type, (1,)) / '(1,)type'.\n",
      "  arr = np.zeros(10, [('koordinats',[('x', float,1), ('y', float, 1)]),\n"
     ]
    }
   ],
   "source": [
    "arr = np.zeros(10, [('koordinats',[('x', float,1), ('y', float, 1)]),\n",
    "                    ('color',[('r', float,1),\n",
    "                              ('b', float, 1),\n",
    "                              ('g', float,1)])])\n",
    "print(arr)"
   ]
  },
  {
   "cell_type": "code",
   "execution_count": 51,
   "id": "2c8da03c",
   "metadata": {},
   "outputs": [
    {
     "name": "stdout",
     "output_type": "stream",
     "text": [
      "[[0.89805651 0.77941781]\n",
      " [0.922091   0.88513452]\n",
      " [0.97567582 0.72161638]\n",
      " ...\n",
      " [0.77425692 0.7723577 ]\n",
      " [0.12460708 0.20067824]\n",
      " [0.74711234 0.17000031]]\n",
      "[0.89805651 0.922091   0.97567582 0.01172815 0.73834341 0.11145368\n",
      " 0.43610481 0.77425692 0.12460708 0.74711234] [0.77941781 0.88513452 0.72161638 0.36678413 0.38839552 0.39405842\n",
      " 0.26127901 0.7723577  0.20067824 0.17000031]\n",
      "D1  [1.18911631 1.27816859 1.2135376  0.36697159 0.83426738 0.40951674\n",
      " 0.50838384 1.09362251 0.23621744 0.76620947]\n",
      "D2  [0. 0. 0. 0. 0. 0. 0. 0. 0. 0.]\n",
      "[[0.         0.76197249 0.65813389 ... 0.54264042 0.65481722 0.61528625]\n",
      " [0.76197249 0.         0.61022984 ... 0.57186886 0.5282975  0.27455043]\n",
      " [0.65813389 0.61022984 0.         ... 0.11693375 0.0835029  0.33997131]\n",
      " ...\n",
      " [0.54264042 0.57186886 0.11693375 ... 0.         0.12607368 0.29813356]\n",
      " [0.65481722 0.5282975  0.0835029  ... 0.12607368 0.         0.2609501 ]\n",
      " [0.61528625 0.27455043 0.33997131 ... 0.29813356 0.2609501  0.        ]]\n"
     ]
    }
   ],
   "source": [
    "\n",
    "#Найти растояние между точками\n",
    "arr = np.random.random((10,2))\n",
    "print(arr)\n",
    "\n",
    "X,Y = arr[:,0], arr[:,1]\n",
    "print(X,Y)\n",
    "\n",
    "D = np.sqrt(X**2+Y**2)\n",
    "D2 = np.sqrt((X-X.T)**2 + (Y-Y.T)**2)\n",
    "print(\"D1 \",D)\n",
    "print(\"D2 \", D2)\n",
    "\n",
    "\n",
    "import scipy\n",
    "import scipy.spatial\n",
    "Z = np.random.random((10,2))\n",
    "D = scipy.spatial.distance.cdist(Z,Z)\n",
    "print(D)"
   ]
  },
  {
   "cell_type": "code",
   "execution_count": 52,
   "id": "800e42a8",
   "metadata": {},
   "outputs": [
    {
     "name": "stdout",
     "output_type": "stream",
     "text": [
      "[0 1 2 3 4 5 6 7 8 9]\n"
     ]
    }
   ],
   "source": [
    "#Изменить тип данных\n",
    "Z = np.arange(10, dtype=np.float32)\n",
    "Z = Z.astype(np.int32, copy=False)\n",
    "print(Z)"
   ]
  },
  {
   "cell_type": "code",
   "execution_count": 54,
   "id": "77b41705",
   "metadata": {},
   "outputs": [
    {
     "name": "stdout",
     "output_type": "stream",
     "text": [
      "[[ 1  2  3  4  5]\n",
      " [ 6 -1 -1  7  8]\n",
      " [-1 -1  9 10 11]]\n"
     ]
    },
    {
     "name": "stderr",
     "output_type": "stream",
     "text": [
      "<ipython-input-54-4a7b0d9b8ca3>:6: DeprecationWarning: `np.int` is a deprecated alias for the builtin `int`. To silence this warning, use `int` by itself. Doing this will not modify any behavior and is safe. When replacing `np.int`, you may wish to use e.g. `np.int64` or `np.int32` to specify the precision. If you wish to review your current use, check the release note link for additional information.\n",
      "Deprecated in NumPy 1.20; for more details and guidance: https://numpy.org/devdocs/release/1.20.0-notes.html#deprecations\n",
      "  Z = np.genfromtxt(s, delimiter=\",\", dtype=np.int)\n"
     ]
    }
   ],
   "source": [
    "from io import StringIO\n",
    "\n",
    "s = StringIO(\"\"\"1, 2, 3, 4, 5\\n\n",
    "                6,  ,  , 7, 8\\n\n",
    "                 ,  , 9,10,11\\n\"\"\")\n",
    "Z = np.genfromtxt(s, delimiter=\",\", dtype=np.int)\n",
    "print(Z)"
   ]
  },
  {
   "cell_type": "code",
   "execution_count": 57,
   "id": "b95cd48e",
   "metadata": {},
   "outputs": [
    {
     "name": "stdout",
     "output_type": "stream",
     "text": [
      "[[0 1 2]\n",
      " [3 4 5]\n",
      " [6 7 8]]\n",
      "(0, 0) 0\n",
      "(0, 1) 1\n",
      "(0, 2) 2\n",
      "(1, 0) 3\n",
      "(1, 1) 4\n",
      "(1, 2) 5\n",
      "(2, 0) 6\n",
      "(2, 1) 7\n",
      "(2, 2) 8\n",
      "(0, 0) 0\n",
      "(0, 1) 1\n",
      "(0, 2) 2\n",
      "(1, 0) 3\n",
      "(1, 1) 4\n",
      "(1, 2) 5\n",
      "(2, 0) 6\n",
      "(2, 1) 7\n",
      "(2, 2) 8\n"
     ]
    }
   ],
   "source": [
    "arr = np.arange(9).reshape(3,3)\n",
    "print(arr)\n",
    "for index, value in np.ndenumerate(arr):\n",
    "    print(index, value)\n",
    "for index in np.ndindex(arr.shape):\n",
    "    print(index, arr[index])"
   ]
  },
  {
   "cell_type": "code",
   "execution_count": 62,
   "id": "590c4a4c",
   "metadata": {},
   "outputs": [
    {
     "name": "stdout",
     "output_type": "stream",
     "text": [
      "[[       nan        nan        nan ... 0.75746513 0.67780958 0.60653066]\n",
      " [       nan        nan        nan ... 0.75746513 0.67780958 0.60653066]\n",
      " [       nan        nan        nan ... 0.75746513 0.67780958 0.60653066]\n",
      " ...\n",
      " [       nan        nan        nan ... 0.75746513 0.67780958 0.60653066]\n",
      " [       nan        nan        nan ... 0.75746513 0.67780958 0.60653066]\n",
      " [       nan        nan        nan ... 0.75746513 0.67780958 0.60653066]]\n"
     ]
    },
    {
     "name": "stderr",
     "output_type": "stream",
     "text": [
      "<ipython-input-62-7b3226622841>:3: RuntimeWarning: invalid value encountered in sqrt\n",
      "  D = np.sqrt(X,Y)\n"
     ]
    }
   ],
   "source": [
    "X,Y = np.meshgrid(np.linspace(-1,1,10), np.linspace(-1,1,10))\n",
    "\n",
    "D = np.sqrt(X,Y)\n",
    "\n",
    "sigma, mu = 1.0, 0.0\n",
    "G = np.exp(-( (D-mu)**2 / ( 2.0 * sigma**2 ) ) )\n",
    "print(G)"
   ]
  },
  {
   "cell_type": "code",
   "execution_count": 69,
   "id": "5fc465a0",
   "metadata": {},
   "outputs": [
    {
     "name": "stdout",
     "output_type": "stream",
     "text": [
      "[[0. 0. 0. ... 0. 0. 0.]\n",
      " [0. 0. 1. ... 0. 0. 0.]\n",
      " [0. 0. 0. ... 0. 0. 0.]\n",
      " ...\n",
      " [0. 0. 0. ... 0. 0. 0.]\n",
      " [0. 0. 0. ... 0. 0. 0.]\n",
      " [0. 0. 0. ... 0. 0. 0.]]\n"
     ]
    }
   ],
   "source": [
    "n = 10\n",
    "p = 3\n",
    "arr = np.zeros((n,n))\n",
    "\n",
    "np.put(arr,np.random.choice(range(n*n), p, replace=False),1)\n",
    "print(arr)"
   ]
  },
  {
   "cell_type": "code",
   "execution_count": 72,
   "id": "46f88590",
   "metadata": {},
   "outputs": [
    {
     "name": "stdout",
     "output_type": "stream",
     "text": [
      "[[0.62213655]\n",
      " [0.37933451]\n",
      " [0.40132827]\n",
      " [0.55032122]\n",
      " [0.53783042]]\n"
     ]
    }
   ],
   "source": [
    "#Вычисление среднего значения каждой строки марицы\n",
    "X = np.random.rand(5,10)\n",
    "Y = X.mean(axis=1, keepdims=True)\n",
    "print(Y)"
   ]
  },
  {
   "cell_type": "code",
   "execution_count": 87,
   "id": "f19d6704",
   "metadata": {},
   "outputs": [
    {
     "name": "stdout",
     "output_type": "stream",
     "text": [
      "[[0 0 2]\n",
      " [2 5 3]\n",
      " [4 0 7]]\n",
      "[[0 0 2]\n",
      " [4 0 7]\n",
      " [2 5 3]]\n"
     ]
    }
   ],
   "source": [
    "#Сортировака мамссива по n-ому строкам\n",
    "arr = np.random.randint(0,10,(3,3))\n",
    "print(arr)\n",
    "sort_mx = arr[arr[:,1].argsort()]\n",
    "print(sort_mx)"
   ]
  },
  {
   "cell_type": "code",
   "execution_count": 88,
   "id": "55d4fb55",
   "metadata": {},
   "outputs": [
    {
     "name": "stdout",
     "output_type": "stream",
     "text": [
      "False\n"
     ]
    }
   ],
   "source": [
    "#Определить есть ли нулевые столбцы\n",
    "Z = np.random.randint(0,3,(3,10))\n",
    "print((~Z.any(axis=0)).any())"
   ]
  },
  {
   "cell_type": "code",
   "execution_count": 4,
   "id": "bb3a6f07",
   "metadata": {},
   "outputs": [
    {
     "name": "stdout",
     "output_type": "stream",
     "text": [
      "0.4878409563744186\n"
     ]
    }
   ],
   "source": [
    "Z = np.random.uniform(0,1,10)\n",
    "z = 0.5\n",
    "m = Z.flat[np.abs(Z - z).argmin()]#flat - итератор по массиву\n",
    "print(m)"
   ]
  },
  {
   "cell_type": "code",
   "execution_count": 4,
   "id": "36f03be9",
   "metadata": {},
   "outputs": [
    {
     "name": "stdout",
     "output_type": "stream",
     "text": [
      "[[0]\n",
      " [1]\n",
      " [2]] [[0 1 2]]\n",
      "[[0 1 2]\n",
      " [1 2 3]\n",
      " [2 3 4]]\n"
     ]
    }
   ],
   "source": [
    "A = np.arange(3).reshape(3,1)\n",
    "B = np.arange(3).reshape(1,3)\n",
    "print(A,B)\n",
    "it = np.nditer([A,B,None])\n",
    "for x,y,z in it: z[...] = x + y\n",
    "print(it.operands[2])"
   ]
  },
  {
   "cell_type": "code",
   "execution_count": 11,
   "id": "cbc1da81",
   "metadata": {},
   "outputs": [
    {
     "name": "stdout",
     "output_type": "stream",
     "text": [
      "[0 1 2 3 4 5 6 7 8 9]\n"
     ]
    }
   ],
   "source": [
    "class NameArray(np.ndarray):\n",
    "    def __new__(cls,array,name = \"np name\"):\n",
    "        obj = np.asarray(array).view(cls) #преобразвоание в массив numpy\n",
    "        obj.name = name\n",
    "        return obj\n",
    "    def __array_finalize__(self, obj):\n",
    "        if obj is None:return\n",
    "        self.info = getattr(obj, 'name', \"no name\")\n",
    "        \n",
    "        \n",
    "arr = NameArray(np.arange(10), \"range 10\")\n",
    "print(arr)"
   ]
  },
  {
   "cell_type": "code",
   "execution_count": 12,
   "id": "2278fc97",
   "metadata": {},
   "outputs": [
    {
     "name": "stdout",
     "output_type": "stream",
     "text": [
      "[3. 2. 4. 6. 2. 3. 3. 3. 2. 2.]\n",
      "[ 5.  3.  7. 11.  3.  5.  5.  5.  3.  3.]\n"
     ]
    }
   ],
   "source": [
    "Z = np.ones(10)\n",
    "I = np.random.randint(0,len(Z),20)\n",
    "Z += np.bincount(I, minlength=len(Z))\n",
    "print(Z)\n",
    "\n",
    "# Another solution\n",
    "# Author: Bartosz Telenczuk\n",
    "np.add.at(Z, I, 1)\n",
    "print(Z)"
   ]
  },
  {
   "cell_type": "code",
   "execution_count": 14,
   "id": "13909be4",
   "metadata": {},
   "outputs": [
    {
     "name": "stdout",
     "output_type": "stream",
     "text": [
      "[0. 7. 2. 4. 5. 0. 0. 0. 0. 3.]\n"
     ]
    }
   ],
   "source": [
    "X = [1,2,3,4,5,6]\n",
    "I = [1,2,9,3,4,1]\n",
    "F = np.bincount(I,X)\n",
    "print(F)"
   ]
  },
  {
   "cell_type": "code",
   "execution_count": 20,
   "id": "fb2833a7",
   "metadata": {},
   "outputs": [
    {
     "name": "stdout",
     "output_type": "stream",
     "text": [
      "8\n"
     ]
    }
   ],
   "source": [
    "w,h = 16,16\n",
    "I = np.random.randint(0,2,(h,w,3)).astype(np.ubyte)\n",
    "#print(I)\n",
    "F = I[...,0]*(256*256) + I[...,1]*256 +I[...,2]\n",
    "n= len(np.unique(F))\n",
    "print(n)"
   ]
  },
  {
   "cell_type": "code",
   "execution_count": 29,
   "id": "40bf44e1",
   "metadata": {},
   "outputs": [
    {
     "name": "stdout",
     "output_type": "stream",
     "text": [
      "[[16 22]\n",
      " [11 25]]\n",
      "[[16 22]\n",
      " [11 25]]\n"
     ]
    }
   ],
   "source": [
    "A = np.random.randint(0,10,(2,2,2,2))\n",
    "\n",
    "\n",
    "sum = A.sum(axis=(-2,-1))\n",
    "print(sum)\n",
    "\n",
    "sum = A.reshape(A.shape[:-2] + (-1,)).sum(axis=-1)\n",
    "print(sum)"
   ]
  },
  {
   "cell_type": "code",
   "execution_count": 32,
   "id": "f632e593",
   "metadata": {},
   "outputs": [
    {
     "name": "stdout",
     "output_type": "stream",
     "text": [
      "[0.49394918 0.55795474 0.60466837 0.57108936 0.67220466 0.36674836\n",
      " 0.38532058 0.55260972 0.43854414 0.62808154]\n"
     ]
    }
   ],
   "source": [
    "D = np.random.uniform(0,1,100)\n",
    "\n",
    "S = np.random.randint(0,10,100)\n",
    "\n",
    "D_sums = np.bincount(S, weights=D)\n",
    "D_counts = np.bincount(S)\n",
    "D_means = D_sums / D_counts\n",
    "print(D_means)"
   ]
  },
  {
   "cell_type": "code",
   "execution_count": 37,
   "id": "f82c4d54",
   "metadata": {},
   "outputs": [
    {
     "name": "stdout",
     "output_type": "stream",
     "text": [
      "[[0.63050166 0.08747494 0.15754785 0.82255004 0.10153274]\n",
      " [0.55048953 0.25773324 0.44786866 0.13525682 0.17678999]\n",
      " [0.39396416 0.58708495 0.02380684 0.62679005 0.47387201]\n",
      " [0.16581814 0.98161342 0.0390179  0.61911644 0.89017532]\n",
      " [0.12332873 0.05571328 0.00378683 0.67580653 0.87730802]] [[0.03578307 0.4699056  0.12621269 0.26242744 0.58958717]\n",
      " [0.03310825 0.87009868 0.57784945 0.6125584  0.9730523 ]\n",
      " [0.37792161 0.58847695 0.16032053 0.74537763 0.86249327]\n",
      " [0.72028314 0.02981663 0.45594473 0.6391026  0.02066929]\n",
      " [0.21472469 0.53507541 0.16875849 0.03719753 0.96329981]]\n"
     ]
    }
   ],
   "source": [
    "A = np.random.uniform(0,1,(5,5))\n",
    "B = np.random.uniform(0,1,(5,5))\n",
    "\n",
    "np.diag(np.dot(A, B))\n",
    "print(A,B)"
   ]
  },
  {
   "cell_type": "code",
   "execution_count": 39,
   "id": "8de8f89d",
   "metadata": {},
   "outputs": [
    {
     "name": "stdout",
     "output_type": "stream",
     "text": [
      "[0. 0. 0. 0. 0. 0. 0. 0. 0. 0. 0. 0. 0. 0. 0. 0. 0.]\n",
      "[1. 0. 0. 0. 2. 0. 0. 0. 3. 0. 0. 0. 4. 0. 0. 0. 5.]\n"
     ]
    }
   ],
   "source": [
    "arr = np.array([1,2,3,4,5])\n",
    "nz = 3\n",
    "arr0 = np.zeros(len(arr)+(len(arr)-1)*nz)\n",
    "print(arr0)\n",
    "arr0[::nz+1] = arr\n",
    "print(arr0)"
   ]
  },
  {
   "cell_type": "code",
   "execution_count": 13,
   "id": "41dc0f3a",
   "metadata": {},
   "outputs": [
    {
     "name": "stdout",
     "output_type": "stream",
     "text": [
      "[[[2. 2. 2.]\n",
      "  [2. 2. 2.]\n",
      "  [2. 2. 2.]\n",
      "  [2. 2. 2.]]\n",
      "\n",
      " [[2. 2. 2.]\n",
      "  [2. 2. 2.]\n",
      "  [2. 2. 2.]\n",
      "  [2. 2. 2.]]\n",
      "\n",
      " [[2. 2. 2.]\n",
      "  [2. 2. 2.]\n",
      "  [2. 2. 2.]\n",
      "  [2. 2. 2.]]\n",
      "\n",
      " [[2. 2. 2.]\n",
      "  [2. 2. 2.]\n",
      "  [2. 2. 2.]\n",
      "  [2. 2. 2.]]]\n"
     ]
    }
   ],
   "source": [
    "A = np.ones((4,4,3))\n",
    "#print(A)\n",
    "B = 2*np.ones((4,4))\n",
    "#print(B)\n",
    "\n",
    "print(A*B[:,:,None]) \n"
   ]
  },
  {
   "cell_type": "code",
   "execution_count": 27,
   "id": "5004f615",
   "metadata": {},
   "outputs": [
    {
     "name": "stdout",
     "output_type": "stream",
     "text": [
      "[[1 6 3 3 1]\n",
      " [7 3 3 5 5]\n",
      " [9 2 1 7 8]\n",
      " [2 8 2 7 9]\n",
      " [2 5 2 5 4]]\n",
      "\n",
      " [[7 3 3 5 5]\n",
      " [1 6 3 3 1]\n",
      " [9 2 1 7 8]\n",
      " [2 8 2 7 9]\n",
      " [2 5 2 5 4]] \n",
      "\n"
     ]
    }
   ],
   "source": [
    "arr = np.random.randint(1,10,(5,5))\n",
    "print(arr)\n",
    "arr[[0,1]] = arr[[1,0]] #[0,1] = нулевая и первая строка\n",
    "#print(arr[[0,1]])# = arr[[1,0]]\n",
    "print(\"\\n\",arr,\"\\n\")\n"
   ]
  },
  {
   "cell_type": "code",
   "execution_count": 28,
   "id": "16b9c973",
   "metadata": {},
   "outputs": [
    {
     "name": "stdout",
     "output_type": "stream",
     "text": [
      "[( 1, 17) ( 1, 63) ( 3, 66) ( 3, 88) ( 5, 12) ( 5, 41) ( 7, 13) ( 7, 95)\n",
      " (12, 41) (13, 95) (17, 63) (22, 32) (22, 85) (30, 46) (30, 49) (32, 43)\n",
      " (32, 56) (32, 85) (43, 56) (46, 49) (50, 71) (50, 93) (57, 58) (57, 99)\n",
      " (58, 99) (66, 88) (67, 74) (67, 86) (71, 93) (74, 86)]\n"
     ]
    }
   ],
   "source": [
    "faces = np.random.randint(0,100,(10,3))\n",
    "F = np.roll(faces.repeat(2,axis=1),-1,axis=1)\n",
    "F = F.reshape(len(F)*3,2)\n",
    "F = np.sort(F,axis=1)\n",
    "G = F.view( dtype=[('p0',F.dtype),('p1',F.dtype)] )\n",
    "G = np.unique(G)\n",
    "print(G)"
   ]
  },
  {
   "cell_type": "code",
   "execution_count": 30,
   "id": "a890ec52",
   "metadata": {},
   "outputs": [
    {
     "name": "stdout",
     "output_type": "stream",
     "text": [
      "[0 2 1 1 2 1 1]\n",
      "[1 1 2 3 4 4 5 6]\n"
     ]
    }
   ],
   "source": [
    "a = np.bincount([1,1,2,3,4,4,5,6])\n",
    "print(a)\n",
    "b = np.repeat(np.arange(len(a)),a)\n",
    "print(b)"
   ]
  },
  {
   "cell_type": "code",
   "execution_count": 3,
   "id": "da1fc277",
   "metadata": {},
   "outputs": [
    {
     "name": "stdout",
     "output_type": "stream",
     "text": [
      "[ 1.  2.  3.  4.  5.  6.  7.  8.  9. 10. 11. 12. 13. 14. 15. 16. 17. 18.]\n"
     ]
    }
   ],
   "source": [
    "def moving_average(a, n=3) :\n",
    "    ret = np.cumsum(a, dtype=float)\n",
    "    ret[n:] = ret[n:] - ret[:-n]\n",
    "    return ret[n - 1:] / n\n",
    "Z = np.arange(20)\n",
    "print(moving_average(Z))"
   ]
  },
  {
   "cell_type": "code",
   "execution_count": 2,
   "id": "ef722576",
   "metadata": {},
   "outputs": [
    {
     "name": "stdout",
     "output_type": "stream",
     "text": [
      "[[0 1 2]\n",
      " [1 2 3]\n",
      " [2 3 4]\n",
      " [3 4 5]\n",
      " [4 5 6]\n",
      " [5 6 7]\n",
      " [6 7 8]\n",
      " [7 8 9]]\n"
     ]
    }
   ],
   "source": [
    "from numpy.lib import stride_tricks\n",
    "\n",
    "def rolling(a, vield):\n",
    "    shape = (a.size - vield + 1, vield)\n",
    "    strides = (a.itemsize, a.itemsize)\n",
    "    return stride_tricks.as_strided(a, shape=shape, strides=strides)\n",
    "arr = rolling(np.arange(10), 3)\n",
    "print(arr)"
   ]
  },
  {
   "cell_type": "code",
   "execution_count": 3,
   "id": "81b98dab",
   "metadata": {},
   "outputs": [
    {
     "name": "stdout",
     "output_type": "stream",
     "text": [
      "[1 1 1 0 1 1 0 0 0 0 0 1 0 1 0 1 1 1 0 0 0 0 0 0 1 0 0 0 0 0 0 0 0 0 1 1 0\n",
      " 1 0 0 0 0 1 1 0 1 0 0 0 0 0 1 1 1 1 0 0 0 1 0 1 0 0 1 0 1 1 1 0 0 1 1 1 0\n",
      " 1 0 1 0 1 1 1 0 0 0 1 0 1 0 1 1 1 0 0 1 0 1 1 0 0 0]\n",
      "[-0.21158981  0.13098551 -0.75734918 -0.91114557  0.73157528  0.91441913\n",
      "  0.54341833 -0.83492146  0.50630621 -0.6190264  -0.96181215  0.07655931\n",
      "  0.73342826  0.40199394  0.96760374 -0.70208635  0.8583744   0.13027511\n",
      "  0.06757093 -0.61074005  0.27560497 -0.42152371  0.006142    0.14710902\n",
      " -0.30317964  0.67707627 -0.8725268   0.93265282 -0.13473102 -0.22820871\n",
      " -0.65393776  0.99011715  0.16973582 -0.85176966  0.49841812 -0.80612055\n",
      " -0.65373142 -0.6768308   0.01775753  0.23435787 -0.39878042  0.33222581\n",
      "  0.547201   -0.62858375  0.03778469 -0.80389658  0.7662586  -0.15569709\n",
      "  0.74945949 -0.6070143  -0.00916948 -0.42384457 -0.27258937 -0.93399203\n",
      " -0.29988641 -0.23035763 -0.10933884  0.34583729 -0.8013426  -0.39822826\n",
      "  0.35578699  0.55010026  0.76553858 -0.67341629 -0.61393811 -0.27994139\n",
      "  0.18376661 -0.94973934 -0.94509799 -0.89885732 -0.85958986 -0.55631013\n",
      "  0.28596888  0.03871382 -0.51793155 -0.26342047 -0.74963131 -0.16939095\n",
      " -0.56247531  0.82264927  0.87594304 -0.88946987 -0.65566283 -0.30143352\n",
      " -0.14882411 -0.29642336 -0.80451978 -0.18540106 -0.40043955  0.62890285\n",
      " -0.48328577 -0.13158622 -0.2446494   0.49938357 -0.17634161 -0.85587928\n",
      " -0.15291073  0.28558459  0.13874058  0.86788831]\n"
     ]
    }
   ],
   "source": [
    "arr = np.random.randint(0,2,100)\n",
    "np.logical_not(arr, out=arr)\n",
    "print(arr)\n",
    "arr = np.random.uniform(-1.0,1.0,100)\n",
    "np.negative(arr, out=arr)\n",
    "print(arr)"
   ]
  },
  {
   "cell_type": "code",
   "execution_count": 4,
   "id": "b349d3e8",
   "metadata": {},
   "outputs": [
    {
     "name": "stdout",
     "output_type": "stream",
     "text": [
      "[5.23070987 0.63865845 8.44624645 4.42552858 6.01379769 6.70745282\n",
      " 4.04708301 0.25207629 2.06294457 3.97936301]\n"
     ]
    }
   ],
   "source": [
    "def distance(P0, P1, p):\n",
    "    T = P1 - P0\n",
    "    L = (T**2).sum(axis=1)\n",
    "    U = -((P0[:,0]-p[...,0])*T[:,0] + (P0[:,1]-p[...,1])*T[:,1]) / L\n",
    "    U = U.reshape(len(U),1)\n",
    "    D = P0 + U*T - p\n",
    "    return np.sqrt((D**2).sum(axis=1))\n",
    "\n",
    "P0 = np.random.uniform(-10,10,(10,2))\n",
    "P1 = np.random.uniform(-10,10,(10,2))\n",
    "p  = np.random.uniform(-10,10,( 1,2))\n",
    "print(distance(P0, P1, p))"
   ]
  },
  {
   "cell_type": "code",
   "execution_count": 5,
   "id": "351faf3d",
   "metadata": {},
   "outputs": [
    {
     "name": "stdout",
     "output_type": "stream",
     "text": [
      "[[2.71723048e+00 7.69993118e-01 1.17741025e+01 8.90679515e+00\n",
      "  1.25421917e+01 5.82733751e+00 1.12795607e+00 1.10701850e+00\n",
      "  3.37157466e+00 3.94363203e+00]\n",
      " [1.83358596e+00 1.18182149e+01 4.65432752e+00 7.00845771e-01\n",
      "  2.63518736e+00 3.53248232e+00 4.71906492e+00 2.52520311e+00\n",
      "  3.17007977e+00 1.06970605e+01]\n",
      " [3.30537379e+00 8.83494131e+00 9.11227841e+00 4.95299481e+00\n",
      "  4.82939293e+00 4.62056351e-01 5.96889464e-02 7.60217481e+00\n",
      "  1.38439855e+00 1.32645866e+01]\n",
      " [1.29408671e+00 1.28512319e+01 4.31197674e+00 2.28916212e-01\n",
      "  4.38631779e+00 4.14547032e+00 4.91304715e+00 3.34171911e+00\n",
      "  3.44459781e+00 1.24256398e+01]\n",
      " [4.09191443e+00 1.23396098e+00 1.40951800e+01 1.04774158e+01\n",
      "  2.90560232e+00 6.55212537e+00 4.27886678e+00 6.87455284e+00\n",
      "  6.07586279e+00 5.91440297e+00]\n",
      " [6.71537470e+00 6.70975299e+00 2.02359782e+01 1.70281299e+01\n",
      "  9.03880485e+00 1.35151181e+01 9.91570533e+00 8.11409779e+00\n",
      "  1.19907428e+01 2.66266100e-01]\n",
      " [5.99059120e-01 1.02089489e+01 6.88322538e+00 2.84812824e+00\n",
      "  3.45124604e+00 1.49045572e+00 2.41344133e+00 4.88700099e+00\n",
      "  9.03934709e-01 1.16988774e+01]\n",
      " [8.47546495e+00 8.67405310e+00 3.10625301e+00 1.98076129e-02\n",
      "  8.10835543e+00 3.32734435e+00 7.18899470e+00 5.51080824e+00\n",
      "  5.14293116e+00 2.07935255e-01]\n",
      " [7.32073884e-01 6.17030924e+00 9.38321022e+00 5.66051397e+00\n",
      "  9.67081434e-01 1.65076558e+00 2.82614550e-01 4.18409746e+00\n",
      "  1.42876025e+00 7.47190136e+00]\n",
      " [5.54298726e+00 9.04183644e+00 4.40398665e+00 9.94450766e-01\n",
      "  4.51766623e+00 2.63541423e+00 5.58068254e+00 2.17770996e+00\n",
      "  3.70138795e+00 3.50083798e+00]]\n"
     ]
    }
   ],
   "source": [
    "P0 = np.random.uniform(-10, 10, (10,2))\n",
    "P1 = np.random.uniform(-10,10,(10,2))\n",
    "p = np.random.uniform(-10, 10, (10,2))\n",
    "print(np.array([distance(P0,P1,p_i) for p_i in p]))"
   ]
  },
  {
   "cell_type": "code",
   "execution_count": 6,
   "id": "49369b5d",
   "metadata": {},
   "outputs": [
    {
     "name": "stdout",
     "output_type": "stream",
     "text": [
      "[[4 8 0 0 4 1 1 3 0 6]\n",
      " [7 9 0 2 6 4 8 9 7 4]\n",
      " [8 9 4 8 9 3 5 2 4 3]\n",
      " [8 7 9 9 2 0 1 6 8 6]\n",
      " [2 0 6 5 5 4 8 0 5 2]\n",
      " [4 5 9 8 9 2 1 9 9 1]\n",
      " [0 6 8 4 5 3 6 3 6 2]\n",
      " [7 8 5 3 8 3 5 1 2 5]\n",
      " [2 3 2 5 5 4 3 9 5 0]\n",
      " [3 4 2 7 4 9 2 1 2 4]]\n",
      "[[0 0 0 0 0]\n",
      " [0 4 8 0 0]\n",
      " [0 7 9 0 2]\n",
      " [0 8 9 4 8]\n",
      " [0 8 7 9 9]]\n"
     ]
    },
    {
     "name": "stderr",
     "output_type": "stream",
     "text": [
      "<ipython-input-6-c205cdb37e8e>:23: FutureWarning: Using a non-tuple sequence for multidimensional indexing is deprecated; use `arr[tuple(seq)]` instead of `arr[seq]`. In the future this will be interpreted as an array index, `arr[np.array(seq)]`, which will result either in an error or a different result.\n",
      "  R[r] = arr[z]\n"
     ]
    }
   ],
   "source": [
    "arr = np.random.randint(0,10,(10,10))\n",
    "shape = (5,5)\n",
    "fill  = 0\n",
    "position = (1,1)\n",
    "\n",
    "R = np.ones(shape, dtype=arr.dtype)*fill\n",
    "P  = np.array(list(position)).astype(int)\n",
    "Rs = np.array(list(R.shape)).astype(int)\n",
    "Zs = np.array(list(arr.shape)).astype(int)\n",
    "\n",
    "R_start = np.zeros((len(shape),)).astype(int)\n",
    "R_stop  = np.array(list(shape)).astype(int)\n",
    "Z_start = (P-Rs//2)\n",
    "Z_stop  = (P+Rs//2)+Rs%2\n",
    "\n",
    "R_start = (R_start - np.minimum(Z_start,0)).tolist()\n",
    "Z_start = (np.maximum(Z_start,0)).tolist()\n",
    "R_stop = np.maximum(R_start, (R_stop - np.maximum(Z_stop-Zs,0))).tolist()\n",
    "Z_stop = (np.minimum(Z_stop,Zs)).tolist()\n",
    "\n",
    "r = [slice(start,stop) for start,stop in zip(R_start,R_stop)]\n",
    "z = [slice(start,stop) for start,stop in zip(Z_start,Z_stop)]\n",
    "R[r] = arr[z]\n",
    "print(arr)\n",
    "print(R)"
   ]
  },
  {
   "cell_type": "code",
   "execution_count": 7,
   "id": "e9aede11",
   "metadata": {},
   "outputs": [
    {
     "name": "stdout",
     "output_type": "stream",
     "text": [
      "[[ 1  2  3  4]\n",
      " [ 2  3  4  5]\n",
      " [ 3  4  5  6]\n",
      " [ 4  5  6  7]\n",
      " [ 5  6  7  8]\n",
      " [ 6  7  8  9]\n",
      " [ 7  8  9 10]\n",
      " [ 8  9 10 11]\n",
      " [ 9 10 11 12]\n",
      " [10 11 12 13]\n",
      " [11 12 13 14]]\n"
     ]
    }
   ],
   "source": [
    "arr = np.arange(1,15,dtype=np.uint32)\n",
    "R = stride_tricks.as_strided(arr,(11,4),(4,4))\n",
    "print(R)"
   ]
  },
  {
   "cell_type": "code",
   "execution_count": 8,
   "id": "ca2be7b1",
   "metadata": {},
   "outputs": [
    {
     "name": "stdout",
     "output_type": "stream",
     "text": [
      "10\n"
     ]
    }
   ],
   "source": [
    "mx = np.random.uniform(0,1,(10,10))\n",
    "U, S, V = np.linalg.svd(mx) \n",
    "rank = np.sum(S > 1e-10)\n",
    "print(rank)"
   ]
  },
  {
   "cell_type": "code",
   "execution_count": 9,
   "id": "c32a2342",
   "metadata": {},
   "outputs": [
    {
     "name": "stdout",
     "output_type": "stream",
     "text": [
      "4\n"
     ]
    }
   ],
   "source": [
    "arr = np.random.randint(0,10,50)\n",
    "print(np.bincount(arr).argmax())"
   ]
  },
  {
   "cell_type": "code",
   "execution_count": 10,
   "id": "270af335",
   "metadata": {},
   "outputs": [
    {
     "name": "stdout",
     "output_type": "stream",
     "text": [
      "[[[[2 1 1]\n",
      "   [3 2 2]\n",
      "   [0 3 3]]\n",
      "\n",
      "  [[1 1 2]\n",
      "   [2 2 0]\n",
      "   [3 3 0]]\n",
      "\n",
      "  [[1 2 3]\n",
      "   [2 0 4]\n",
      "   [3 0 0]]\n",
      "\n",
      "  [[2 3 3]\n",
      "   [0 4 4]\n",
      "   [0 0 1]]\n",
      "\n",
      "  [[3 3 3]\n",
      "   [4 4 0]\n",
      "   [0 1 0]]\n",
      "\n",
      "  [[3 3 4]\n",
      "   [4 0 0]\n",
      "   [1 0 0]]\n",
      "\n",
      "  [[3 4 4]\n",
      "   [0 0 0]\n",
      "   [0 0 3]]\n",
      "\n",
      "  [[4 4 4]\n",
      "   [0 0 3]\n",
      "   [0 3 3]]]\n",
      "\n",
      "\n",
      " [[[3 2 2]\n",
      "   [0 3 3]\n",
      "   [2 3 0]]\n",
      "\n",
      "  [[2 2 0]\n",
      "   [3 3 0]\n",
      "   [3 0 0]]\n",
      "\n",
      "  [[2 0 4]\n",
      "   [3 0 0]\n",
      "   [0 0 1]]\n",
      "\n",
      "  [[0 4 4]\n",
      "   [0 0 1]\n",
      "   [0 1 2]]\n",
      "\n",
      "  [[4 4 0]\n",
      "   [0 1 0]\n",
      "   [1 2 2]]\n",
      "\n",
      "  [[4 0 0]\n",
      "   [1 0 0]\n",
      "   [2 2 2]]\n",
      "\n",
      "  [[0 0 0]\n",
      "   [0 0 3]\n",
      "   [2 2 3]]\n",
      "\n",
      "  [[0 0 3]\n",
      "   [0 3 3]\n",
      "   [2 3 2]]]\n",
      "\n",
      "\n",
      " [[[0 3 3]\n",
      "   [2 3 0]\n",
      "   [0 3 1]]\n",
      "\n",
      "  [[3 3 0]\n",
      "   [3 0 0]\n",
      "   [3 1 3]]\n",
      "\n",
      "  [[3 0 0]\n",
      "   [0 0 1]\n",
      "   [1 3 3]]\n",
      "\n",
      "  [[0 0 1]\n",
      "   [0 1 2]\n",
      "   [3 3 0]]\n",
      "\n",
      "  [[0 1 0]\n",
      "   [1 2 2]\n",
      "   [3 0 3]]\n",
      "\n",
      "  [[1 0 0]\n",
      "   [2 2 2]\n",
      "   [0 3 0]]\n",
      "\n",
      "  [[0 0 3]\n",
      "   [2 2 3]\n",
      "   [3 0 0]]\n",
      "\n",
      "  [[0 3 3]\n",
      "   [2 3 2]\n",
      "   [0 0 0]]]\n",
      "\n",
      "\n",
      " [[[2 3 0]\n",
      "   [0 3 1]\n",
      "   [4 4 3]]\n",
      "\n",
      "  [[3 0 0]\n",
      "   [3 1 3]\n",
      "   [4 3 2]]\n",
      "\n",
      "  [[0 0 1]\n",
      "   [1 3 3]\n",
      "   [3 2 4]]\n",
      "\n",
      "  [[0 1 2]\n",
      "   [3 3 0]\n",
      "   [2 4 2]]\n",
      "\n",
      "  [[1 2 2]\n",
      "   [3 0 3]\n",
      "   [4 2 3]]\n",
      "\n",
      "  [[2 2 2]\n",
      "   [0 3 0]\n",
      "   [2 3 2]]\n",
      "\n",
      "  [[2 2 3]\n",
      "   [3 0 0]\n",
      "   [3 2 4]]\n",
      "\n",
      "  [[2 3 2]\n",
      "   [0 0 0]\n",
      "   [2 4 3]]]\n",
      "\n",
      "\n",
      " [[[0 3 1]\n",
      "   [4 4 3]\n",
      "   [4 0 3]]\n",
      "\n",
      "  [[3 1 3]\n",
      "   [4 3 2]\n",
      "   [0 3 0]]\n",
      "\n",
      "  [[1 3 3]\n",
      "   [3 2 4]\n",
      "   [3 0 4]]\n",
      "\n",
      "  [[3 3 0]\n",
      "   [2 4 2]\n",
      "   [0 4 4]]\n",
      "\n",
      "  [[3 0 3]\n",
      "   [4 2 3]\n",
      "   [4 4 4]]\n",
      "\n",
      "  [[0 3 0]\n",
      "   [2 3 2]\n",
      "   [4 4 4]]\n",
      "\n",
      "  [[3 0 0]\n",
      "   [3 2 4]\n",
      "   [4 4 3]]\n",
      "\n",
      "  [[0 0 0]\n",
      "   [2 4 3]\n",
      "   [4 3 1]]]\n",
      "\n",
      "\n",
      " [[[4 4 3]\n",
      "   [4 0 3]\n",
      "   [0 3 1]]\n",
      "\n",
      "  [[4 3 2]\n",
      "   [0 3 0]\n",
      "   [3 1 3]]\n",
      "\n",
      "  [[3 2 4]\n",
      "   [3 0 4]\n",
      "   [1 3 4]]\n",
      "\n",
      "  [[2 4 2]\n",
      "   [0 4 4]\n",
      "   [3 4 4]]\n",
      "\n",
      "  [[4 2 3]\n",
      "   [4 4 4]\n",
      "   [4 4 4]]\n",
      "\n",
      "  [[2 3 2]\n",
      "   [4 4 4]\n",
      "   [4 4 0]]\n",
      "\n",
      "  [[3 2 4]\n",
      "   [4 4 3]\n",
      "   [4 0 1]]\n",
      "\n",
      "  [[2 4 3]\n",
      "   [4 3 1]\n",
      "   [0 1 0]]]\n",
      "\n",
      "\n",
      " [[[4 0 3]\n",
      "   [0 3 1]\n",
      "   [0 3 3]]\n",
      "\n",
      "  [[0 3 0]\n",
      "   [3 1 3]\n",
      "   [3 3 1]]\n",
      "\n",
      "  [[3 0 4]\n",
      "   [1 3 4]\n",
      "   [3 1 3]]\n",
      "\n",
      "  [[0 4 4]\n",
      "   [3 4 4]\n",
      "   [1 3 0]]\n",
      "\n",
      "  [[4 4 4]\n",
      "   [4 4 4]\n",
      "   [3 0 4]]\n",
      "\n",
      "  [[4 4 4]\n",
      "   [4 4 0]\n",
      "   [0 4 0]]\n",
      "\n",
      "  [[4 4 3]\n",
      "   [4 0 1]\n",
      "   [4 0 4]]\n",
      "\n",
      "  [[4 3 1]\n",
      "   [0 1 0]\n",
      "   [0 4 2]]]\n",
      "\n",
      "\n",
      " [[[0 3 1]\n",
      "   [0 3 3]\n",
      "   [2 1 2]]\n",
      "\n",
      "  [[3 1 3]\n",
      "   [3 3 1]\n",
      "   [1 2 3]]\n",
      "\n",
      "  [[1 3 4]\n",
      "   [3 1 3]\n",
      "   [2 3 3]]\n",
      "\n",
      "  [[3 4 4]\n",
      "   [1 3 0]\n",
      "   [3 3 2]]\n",
      "\n",
      "  [[4 4 4]\n",
      "   [3 0 4]\n",
      "   [3 2 2]]\n",
      "\n",
      "  [[4 4 0]\n",
      "   [0 4 0]\n",
      "   [2 2 2]]\n",
      "\n",
      "  [[4 0 1]\n",
      "   [4 0 4]\n",
      "   [2 2 0]]\n",
      "\n",
      "  [[0 1 0]\n",
      "   [0 4 2]\n",
      "   [2 0 4]]]]\n"
     ]
    }
   ],
   "source": [
    "mx = np.random.randint(0,5,(10,10))\n",
    "n = 3\n",
    "i = 1 + (mx.shape[0]-3)\n",
    "j = 1 + (mx.shape[1]-3)\n",
    "C = stride_tricks.as_strided(mx, shape=(i, j, n, n), strides=mx.strides + mx.strides)\n",
    "print(C)"
   ]
  },
  {
   "cell_type": "code",
   "execution_count": 11,
   "id": "c04ae364",
   "metadata": {},
   "outputs": [
    {
     "name": "stdout",
     "output_type": "stream",
     "text": [
      "[[ 0 12 17  8 10]\n",
      " [12  0 14 13  8]\n",
      " [17 14  4 42 17]\n",
      " [ 8 13 42  7  7]\n",
      " [10  8 17  7  9]]\n"
     ]
    }
   ],
   "source": [
    "class Symetric(np.ndarray):\n",
    "    def __setitem__(self, index, value):\n",
    "        i,j = index\n",
    "        super(Symetric, self).__setitem__((i,j), value)\n",
    "        super(Symetric, self).__setitem__((j,i), value)\n",
    "\n",
    "def symetric(Z):\n",
    "    return np.asarray(Z + Z.T - np.diag(Z.diagonal())).view(Symetric)\n",
    "\n",
    "S = symetric(np.random.randint(0,10,(5,5)))\n",
    "S[2,3] = 42\n",
    "print(S)"
   ]
  },
  {
   "cell_type": "code",
   "execution_count": 12,
   "id": "690a657f",
   "metadata": {},
   "outputs": [
    {
     "name": "stdout",
     "output_type": "stream",
     "text": [
      "[[200.]\n",
      " [200.]\n",
      " [200.]\n",
      " [200.]\n",
      " [200.]\n",
      " [200.]\n",
      " [200.]\n",
      " [200.]\n",
      " [200.]\n",
      " [200.]\n",
      " [200.]\n",
      " [200.]\n",
      " [200.]\n",
      " [200.]\n",
      " [200.]\n",
      " [200.]\n",
      " [200.]\n",
      " [200.]\n",
      " [200.]\n",
      " [200.]]\n"
     ]
    }
   ],
   "source": [
    "p, n = 10, 20\n",
    "M = np.ones((p,n,n))\n",
    "V = np.ones((p,n,1))\n",
    "S = np.tensordot(M, V, axes=[[0, 2], [0, 1]])\n",
    "print(S)\n"
   ]
  },
  {
   "cell_type": "code",
   "execution_count": 14,
   "id": "ec9636cb",
   "metadata": {},
   "outputs": [
    {
     "name": "stdout",
     "output_type": "stream",
     "text": [
      "[[16. 16. 16. 16.]\n",
      " [16. 16. 16. 16.]\n",
      " [16. 16. 16. 16.]\n",
      " [16. 16. 16. 16.]]\n"
     ]
    }
   ],
   "source": [
    "arr = np.ones((16,16))\n",
    "k = 4\n",
    "S = np.add.reduceat(np.add.reduceat(arr, np.arange(0, arr.shape[0], k), axis=0),\n",
    "                                       np.arange(0, arr.shape[1], k), axis=1)\n",
    "print(S)"
   ]
  },
  {
   "cell_type": "code",
   "execution_count": 15,
   "id": "9852daec",
   "metadata": {},
   "outputs": [
    {
     "name": "stdout",
     "output_type": "stream",
     "text": [
      "[[0 0 0 ... 0 0 0]\n",
      " [0 0 0 ... 0 0 0]\n",
      " [0 0 0 ... 0 0 0]\n",
      " ...\n",
      " [0 0 0 ... 0 0 0]\n",
      " [0 0 0 ... 0 0 0]\n",
      " [0 0 0 ... 0 0 0]]\n"
     ]
    }
   ],
   "source": [
    "def iterate(Z):\n",
    "   \n",
    "    N = (Z[0:-2,0:-2] + Z[0:-2,1:-1] + Z[0:-2,2:] +\n",
    "         Z[1:-1,0:-2]                + Z[1:-1,2:] +\n",
    "         Z[2:  ,0:-2] + Z[2:  ,1:-1] + Z[2:  ,2:])\n",
    "\n",
    "   \n",
    "    birth = (N==3) & (Z[1:-1,1:-1]==0)\n",
    "    survive = ((N==2) | (N==3)) & (Z[1:-1,1:-1]==1)\n",
    "    Z[...] = 0\n",
    "    Z[1:-1,1:-1][birth | survive] = 1\n",
    "    return Z\n",
    "\n",
    "Z = np.random.randint(0,2,(50,50))\n",
    "for i in range(100): Z = iterate(Z)\n",
    "print(Z)"
   ]
  },
  {
   "cell_type": "code",
   "execution_count": 16,
   "id": "15fbe4b4",
   "metadata": {},
   "outputs": [
    {
     "name": "stdout",
     "output_type": "stream",
     "text": [
      "[9995 9996 9997 9998 9999]\n",
      "[9999 9997 9998 9996 9995]\n"
     ]
    }
   ],
   "source": [
    "a = np.arange(10000)\n",
    "np.random.shuffle(a)\n",
    "n = 5\n",
    "\n",
    "\n",
    "print (a[np.argsort(a)[-n:]])\n",
    "\n",
    "\n",
    "print (a[np.argpartition(-a,n)[:n]])"
   ]
  },
  {
   "cell_type": "code",
   "execution_count": 17,
   "id": "63f51f00",
   "metadata": {},
   "outputs": [
    {
     "name": "stdout",
     "output_type": "stream",
     "text": [
      "[[1 4 6]\n",
      " [1 4 7]\n",
      " [1 5 6]\n",
      " [1 5 7]\n",
      " [2 4 6]\n",
      " [2 4 7]\n",
      " [2 5 6]\n",
      " [2 5 7]\n",
      " [3 4 6]\n",
      " [3 4 7]\n",
      " [3 5 6]\n",
      " [3 5 7]]\n"
     ]
    }
   ],
   "source": [
    "def cartesian(arrays):\n",
    "    arrays = [np.asarray(a) for a in arrays]\n",
    "    shape = (len(x) for x in arrays)\n",
    "\n",
    "    ix = np.indices(shape, dtype=int)\n",
    "    ix = ix.reshape(len(arrays), -1).T\n",
    "\n",
    "    for n, arr in enumerate(arrays):\n",
    "        ix[:, n] = arrays[n][ix[:, n]]\n",
    "\n",
    "    return ix\n",
    "\n",
    "print (cartesian(([1, 2, 3], [4, 5], [6, 7])))"
   ]
  },
  {
   "cell_type": "code",
   "execution_count": 18,
   "id": "b4f9bfe8",
   "metadata": {},
   "outputs": [
    {
     "name": "stdout",
     "output_type": "stream",
     "text": [
      "[(b'Hello', 2.5, 3) (b'World', 3.6, 2)]\n"
     ]
    }
   ],
   "source": [
    "A = np.array([(\"Hello\", 2.5, 3),\n",
    "              (\"World\", 3.6, 2)])\n",
    "R = np.core.records.fromarrays(A.T, \n",
    "                               names='col1, col2, col3',\n",
    "                               formats = 'S8, f8, i8')\n",
    "print(R)"
   ]
  },
  {
   "cell_type": "code",
   "execution_count": 21,
   "id": "df35787d",
   "metadata": {},
   "outputs": [
    {
     "name": "stdout",
     "output_type": "stream",
     "text": [
      "[0 3 5 7]\n"
     ]
    }
   ],
   "source": [
    "A = np.random.randint(0,5,(8,3))\n",
    "B = np.random.randint(0,5,(2,2))\n",
    "\n",
    "C = (A[..., np.newaxis, np.newaxis] == B)\n",
    "rows = np.where(C.any((3,1)).all(1))[0]\n",
    "print(rows)"
   ]
  },
  {
   "cell_type": "code",
   "execution_count": 22,
   "id": "623e9c98",
   "metadata": {},
   "outputs": [
    {
     "name": "stdout",
     "output_type": "stream",
     "text": [
      "[[0 0 4]\n",
      " [2 2 2]\n",
      " [4 3 3]\n",
      " [0 1 3]\n",
      " [0 0 1]\n",
      " [4 0 2]\n",
      " [2 3 0]\n",
      " [2 3 3]\n",
      " [2 1 3]\n",
      " [0 4 2]]\n",
      "[[0 0 4]\n",
      " [4 3 3]\n",
      " [0 1 3]\n",
      " [0 0 1]\n",
      " [4 0 2]\n",
      " [2 3 0]\n",
      " [2 3 3]\n",
      " [2 1 3]\n",
      " [0 4 2]]\n",
      "[[0 0 4]\n",
      " [4 3 3]\n",
      " [0 1 3]\n",
      " [0 0 1]\n",
      " [4 0 2]\n",
      " [2 3 0]\n",
      " [2 3 3]\n",
      " [2 1 3]\n",
      " [0 4 2]]\n"
     ]
    }
   ],
   "source": [
    "Z = np.random.randint(0,5,(10,3))\n",
    "print(Z)\n",
    "E = np.all(Z[:,1:] == Z[:,:-1], axis=1)\n",
    "U = Z[~E]\n",
    "print(U)\n",
    "U = Z[Z.max(axis=1) != Z.min(axis=1),:]\n",
    "print(U)"
   ]
  },
  {
   "cell_type": "code",
   "execution_count": 23,
   "id": "fd612305",
   "metadata": {},
   "outputs": [
    {
     "name": "stdout",
     "output_type": "stream",
     "text": [
      "[[0 0 0 0 0 0 0 0]\n",
      " [0 0 0 0 0 0 0 1]\n",
      " [0 0 0 0 0 0 1 0]\n",
      " [0 0 0 0 0 0 1 1]\n",
      " [0 0 0 0 1 1 1 1]\n",
      " [0 0 0 1 0 0 0 0]\n",
      " [0 0 1 0 0 0 0 0]\n",
      " [0 1 0 0 0 0 0 0]\n",
      " [1 0 0 0 0 0 0 0]]\n",
      "[[0 0 0 0 0 0 0 0]\n",
      " [0 0 0 0 0 0 0 1]\n",
      " [0 0 0 0 0 0 1 0]\n",
      " [0 0 0 0 0 0 1 1]\n",
      " [0 0 0 0 1 1 1 1]\n",
      " [0 0 0 1 0 0 0 0]\n",
      " [0 0 1 0 0 0 0 0]\n",
      " [0 1 0 0 0 0 0 0]\n",
      " [1 0 0 0 0 0 0 0]]\n"
     ]
    }
   ],
   "source": [
    "I = np.array([0, 1, 2, 3, 15, 16, 32, 64, 128])\n",
    "B = ((I.reshape(-1,1) & (2**np.arange(8))) != 0).astype(int)\n",
    "print(B[:,::-1])\n",
    "\n",
    "\n",
    "I = np.array([0, 1, 2, 3, 15, 16, 32, 64, 128], dtype=np.uint8)\n",
    "print(np.unpackbits(I[:, np.newaxis], axis=1))"
   ]
  },
  {
   "cell_type": "code",
   "execution_count": 24,
   "id": "51758b1e",
   "metadata": {},
   "outputs": [
    {
     "name": "stdout",
     "output_type": "stream",
     "text": [
      "[[0 0 0]\n",
      " [0 0 1]\n",
      " [0 1 1]\n",
      " [1 0 1]\n",
      " [1 1 0]\n",
      " [1 1 1]]\n",
      "[[0 0 0]\n",
      " [0 0 1]\n",
      " [0 1 1]\n",
      " [1 0 1]\n",
      " [1 1 0]\n",
      " [1 1 1]]\n"
     ]
    }
   ],
   "source": [
    "Z = np.random.randint(0,2,(6,3))\n",
    "T = np.ascontiguousarray(Z).view(np.dtype((np.void, Z.dtype.itemsize * Z.shape[1])))\n",
    "_, idx = np.unique(T, return_index=True)\n",
    "uZ = Z[idx]\n",
    "print(uZ)\n",
    "\n",
    "uZ = np.unique(Z, axis=0)\n",
    "print(uZ)"
   ]
  },
  {
   "cell_type": "code",
   "execution_count": 25,
   "id": "cf46725e",
   "metadata": {},
   "outputs": [
    {
     "data": {
      "text/plain": [
       "array([[0.12070993, 0.01808574, 0.23387951, 0.14601822, 0.2708341 ,\n",
       "        0.21135428, 0.12623869, 0.11718106, 0.2131332 , 0.22754623],\n",
       "       [0.25045518, 0.03752523, 0.48526528, 0.30296613, 0.56194056,\n",
       "        0.43852876, 0.26192654, 0.24313331, 0.44221976, 0.47212464],\n",
       "       [0.12575611, 0.0188418 , 0.24365666, 0.15212239, 0.28215611,\n",
       "        0.22018978, 0.131516  , 0.12207973, 0.22204307, 0.23705862],\n",
       "       [0.06339916, 0.00949898, 0.12283798, 0.07669155, 0.14224723,\n",
       "        0.1110073 , 0.06630296, 0.06154573, 0.11194162, 0.11951161],\n",
       "       [0.1547104 , 0.02317997, 0.29975657, 0.1871473 , 0.34712019,\n",
       "        0.27088663, 0.16179645, 0.15018756, 0.27316662, 0.29163938],\n",
       "       [0.21763261, 0.03260749, 0.42167044, 0.2632619 , 0.4882973 ,\n",
       "        0.38105882, 0.22760062, 0.21127028, 0.38426611, 0.41025191],\n",
       "       [0.03669775, 0.00549835, 0.07110311, 0.04439187, 0.08233789,\n",
       "        0.06425508, 0.03837858, 0.03562491, 0.0647959 , 0.06917769],\n",
       "       [0.04888567, 0.00732445, 0.09471762, 0.05913514, 0.10968366,\n",
       "        0.08559524, 0.05112473, 0.04745653, 0.08631568, 0.09215273],\n",
       "       [0.16199857, 0.02427194, 0.31387764, 0.19596352, 0.36347248,\n",
       "        0.28364768, 0.16941843, 0.15726266, 0.28603508, 0.30537806],\n",
       "       [0.25604665, 0.03836299, 0.49609892, 0.3097299 , 0.57448599,\n",
       "        0.448319  , 0.2677741 , 0.24856131, 0.4520924 , 0.48266492]])"
      ]
     },
     "execution_count": 25,
     "metadata": {},
     "output_type": "execute_result"
    }
   ],
   "source": [
    "A = np.random.uniform(0,1,10)\n",
    "B = np.random.uniform(0,1,10)\n",
    "\n",
    "np.einsum('i->', A)       \n",
    "np.einsum('i,i->i', A, B) \n",
    "np.einsum('i,i', A, B)   \n",
    "np.einsum('i,j->ij', A, B)    "
   ]
  },
  {
   "cell_type": "code",
   "execution_count": 30,
   "id": "9bf6a024",
   "metadata": {},
   "outputs": [
    {
     "name": "stdout",
     "output_type": "stream",
     "text": [
      "[  0.           2.48788858   4.97577716   7.46366574   9.95155432\n",
      "  12.43944289  14.92733147  17.41522005  19.90310863  22.39099721\n",
      "  24.87888579  27.36677437  29.85466295  32.34255152  34.8304401\n",
      "  37.31832868  39.80621726  42.29410584  44.78199442  47.269883\n",
      "  49.75777158  52.24566016  54.73354873  57.22143731  59.70932589\n",
      "  62.19721447  64.68510305  67.17299163  69.66088021  72.14876879\n",
      "  74.63665736  77.12454594  79.61243452  82.1003231   84.58821168\n",
      "  87.07610026  89.56398884  92.05187742  94.539766    97.02765457\n",
      "  99.51554315 102.00343173 104.49132031 106.97920889 109.46709747\n",
      " 111.95498605 114.44287463 116.9307632  119.41865178 121.90654036\n",
      " 124.39442894 126.88231752 129.3702061  131.85809468 134.34598326\n",
      " 136.83387184 139.32176041 141.80964899 144.29753757 146.78542615\n",
      " 149.27331473 151.76120331 154.24909189 156.73698047 159.22486904\n",
      " 161.71275762 164.2006462  166.68853478 169.17642336 171.66431194\n",
      " 174.15220052 176.6400891  179.12797768 181.61586625 184.10375483\n",
      " 186.59164341 189.07953199 191.56742057 194.05530915 196.54319773\n",
      " 199.03108631 201.51897488 204.00686346 206.49475204 208.98264062\n",
      " 211.4705292  213.95841778 216.44630636 218.93419494 221.42208352\n",
      " 223.90997209 226.39786067 228.88574925 231.37363783 233.86152641\n",
      " 236.34941499 238.83730357 241.32519215 243.81308072 246.3009693\n",
      " 248.78885788 251.27674646 253.76463504 256.25252362 258.7404122\n",
      " 261.22830078 263.71618936 266.20407793 268.69196651 271.17985509\n",
      " 273.66774367 276.15563225 278.64352083 281.13140941 283.61929799\n",
      " 286.10718656 288.59507514 291.08296372 293.5708523  296.05874088\n",
      " 298.54662946 301.03451804 303.52240662 306.0102952  308.49818377\n",
      " 310.98607235 313.47396093 315.96184951 318.44973809 320.93762667\n",
      " 323.42551525 325.91340383 328.4012924  330.88918098 333.37706956\n",
      " 335.86495814 338.35284672 340.8407353  343.32862388 345.81651246\n",
      " 348.30440104 350.79228961 353.28017819 355.76806677 358.25595535\n",
      " 360.74384393 363.23173251 365.71962109 368.20750967 370.69539824\n",
      " 373.18328682 375.6711754  378.15906398 380.64695256 383.13484114\n",
      " 385.62272972 388.1106183  390.59850688 393.08639545 395.57428403\n",
      " 398.06217261 400.55006119 403.03794977 405.52583835 408.01372693\n",
      " 410.50161551 412.98950408 415.47739266 417.96528124 420.45316982\n",
      " 422.9410584  425.42894698 427.91683556 430.40472414 432.89261272\n",
      " 435.38050129 437.86838987 440.35627845 442.84416703 445.33205561\n",
      " 447.81994419 450.30783277 452.79572135 455.28360992 457.7714985\n",
      " 460.25938708 462.74727566 465.23516424 467.72305282 470.2109414\n",
      " 472.69882998 475.18671856 477.67460713 480.16249571 482.65038429\n",
      " 485.13827287 487.62616145 490.11405003 492.60193861 495.08982719]\n",
      "[ 0.00000000e+00 -3.73131229e-01 -2.59817608e+00 -3.26212050e+00\n",
      " -2.18442687e+00 -2.98929946e-02  2.42923642e+00  4.54913599e+00\n",
      "  5.92318348e+00  6.35117933e+00  5.82369277e+00  4.46259540e+00\n",
      "  2.47320794e+00  1.09577220e-01 -2.36575300e+00 -4.71261671e+00\n",
      " -6.72701769e+00 -8.25541575e+00 -9.18486120e+00 -9.46381505e+00\n",
      " -9.11085788e+00 -8.12875279e+00 -6.63306046e+00 -4.69271059e+00\n",
      " -2.44736165e+00 -2.05444585e-02  2.46101146e+00  4.86841760e+00\n",
      "  7.08937968e+00  9.02539126e+00  1.05948609e+01  1.17357250e+01\n",
      "  1.24068974e+01  1.25885805e+01  1.22815267e+01  1.15053927e+01\n",
      "  1.02963689e+01  8.70429550e+00  6.78948686e+00  4.61716636e+00\n",
      "  2.25853448e+00 -1.98731680e-01 -2.68040566e+00 -5.11543300e+00\n",
      " -7.41973991e+00 -9.53891040e+00 -1.14237629e+01 -1.29919305e+01\n",
      " -1.42355069e+01 -1.51243232e+01 -1.56061571e+01 -1.57219415e+01\n",
      " -1.54217066e+01 -1.47579136e+01 -1.37255236e+01 -1.23634834e+01\n",
      " -1.07024632e+01 -8.78327367e+00 -6.65029558e+00 -4.35514246e+00\n",
      " -1.94290275e+00  5.28038914e-01  3.00985904e+00  5.45450275e+00\n",
      "  7.80093594e+00  1.00179639e+01  1.20595602e+01  1.38732623e+01\n",
      "  1.54564938e+01  1.67497894e+01  1.77435802e+01  1.84439878e+01\n",
      "  1.87990820e+01  1.88271003e+01  1.85472755e+01  1.79378850e+01\n",
      "  1.70105456e+01  1.58085777e+01  1.43501808e+01  1.26222364e+01\n",
      "  1.06905445e+01  8.58498641e+00  6.33562529e+00  3.96179025e+00\n",
      "  1.51802643e+00 -9.61699044e-01 -3.44349301e+00 -5.88951759e+00\n",
      " -8.26006582e+00 -1.05270865e+01 -1.26610269e+01 -1.46343020e+01\n",
      " -1.64206033e+01 -1.79708499e+01 -1.92894561e+01 -2.03605967e+01\n",
      " -2.11716587e+01 -2.17133504e+01 -2.19797677e+01 -2.19626531e+01\n",
      " -2.16476737e+01 -2.10622561e+01 -2.02145809e+01 -1.91158467e+01\n",
      " -1.77800930e+01 -1.62239930e+01 -1.44666197e+01 -1.25291882e+01\n",
      " -1.04347777e+01 -8.20773276e+00 -5.86978851e+00 -3.45563299e+00\n",
      " -9.92556869e-01  1.49191203e+00  3.97031733e+00  6.41557503e+00\n",
      "  8.80126359e+00  1.11019001e+01  1.32931995e+01  1.53523150e+01\n",
      "  1.72580567e+01  1.89910866e+01  2.05340895e+01  2.18719167e+01\n",
      "  2.29917039e+01  2.38829603e+01  2.45376309e+01  2.49501314e+01\n",
      "  2.51173551e+01  2.50386548e+01  2.47157984e+01  2.41529019e+01\n",
      "  2.33563391e+01  2.23346314e+01  2.10983193e+01  1.96598169e+01\n",
      "  1.80332532e+01  1.62343003e+01  1.42799934e+01  1.21885425e+01\n",
      "  9.97914013e+00  7.67176574e+00  5.28699023e+00  2.84441658e+00\n",
      "  3.68190102e-01 -2.11846865e+00 -4.59426061e+00 -7.03829202e+00\n",
      " -9.43024209e+00 -1.17505186e+01 -1.39803999e+01 -1.61021634e+01\n",
      " -1.80991985e+01 -1.99561058e+01 -2.16587804e+01 -2.31850397e+01\n",
      " -2.45166960e+01 -2.56568097e+01 -2.65976904e+01 -2.73332424e+01\n",
      " -2.78589555e+01 -2.81718833e+01 -2.82706110e+01 -2.81552119e+01\n",
      " -2.78066635e+01 -2.72341677e+01 -2.64578863e+01 -2.54844118e+01\n",
      " -2.43214986e+01 -2.29779690e+01 -2.14636172e+01 -1.97837046e+01\n",
      " -1.79341987e+01 -1.59545785e+01 -1.38585628e+01 -1.16602783e+01\n",
      " -9.37416511e+00 -7.01488958e+00 -4.59184632e+00 -2.12995331e+00\n",
      "  3.50691071e-01  2.83498918e+00  5.30813450e+00  7.75565814e+00\n",
      "  1.01522531e+01  1.24813227e+01  1.47337756e+01  1.68973642e+01\n",
      "  1.89604991e+01  2.09071945e+01  2.26943693e+01  2.43420179e+01\n",
      "  2.58422998e+01  2.71881423e+01  2.83731992e+01  2.93376609e+01\n",
      "  3.01222558e+01  3.07280750e+01  3.11531219e+01  3.13960177e+01]\n",
      "[ 0.00000000e+00  1.74026724e+00  9.81816584e-01 -1.34251287e+00\n",
      " -3.53191891e+00 -4.70449474e+00 -4.59573427e+00 -3.33831870e+00\n",
      " -1.28956083e+00  1.14234685e+00  3.55645601e+00  5.62188218e+00\n",
      "  7.09389488e+00  7.82951803e+00  7.78700678e+00  6.99685666e+00\n",
      "  5.55535240e+00  3.60417006e+00  1.30506373e+00 -1.15819722e+00\n",
      " -3.61328132e+00 -5.89130465e+00 -7.87065053e+00 -9.41689057e+00\n",
      " -1.04714836e+01 -1.09903787e+01 -1.09354306e+01 -1.03330912e+01\n",
      " -9.22690166e+00 -7.67489830e+00 -5.75257980e+00 -3.54832201e+00\n",
      " -1.15854355e+00  1.31709956e+00  3.78023622e+00  6.13780326e+00\n",
      "  8.30540149e+00  1.02098724e+01  1.17910419e+01  1.29972950e+01\n",
      "  1.37774249e+01  1.41319792e+01  1.40585758e+01  1.35636816e+01\n",
      "  1.26345244e+01  1.13409083e+01  9.72216360e+00  7.79464305e+00\n",
      "  5.64544223e+00  3.32503222e+00  8.88107041e-01 -1.59329248e+00\n",
      " -4.05992507e+00 -6.45313746e+00 -8.71327144e+00 -1.07900854e+01\n",
      " -1.26380653e+01 -1.42147006e+01 -1.54892299e+01 -1.64390858e+01\n",
      " -1.70351433e+01 -1.72938948e+01 -1.71685631e+01 -1.67219979e+01\n",
      " -1.59044166e+01 -1.47824153e+01 -1.33665280e+01 -1.16678134e+01\n",
      " -9.75246391e+00 -7.63091465e+00 -5.35345831e+00 -2.96905840e+00\n",
      " -5.09631905e-01  1.97507060e+00  4.44430515e+00  6.85344809e+00\n",
      "  9.15903461e+00  1.13337844e+01  1.33467125e+01  1.51336120e+01\n",
      "  1.66966787e+01  1.80162922e+01  1.90746708e+01  1.98127969e+01\n",
      "  2.02634499e+01  2.04221761e+01  2.02877631e+01  1.98449702e+01\n",
      "  1.90974465e+01  1.80799531e+01  1.68069397e+01  1.52959771e+01\n",
      "  1.35665801e+01  1.16227312e+01  9.51601869e+00  7.27388893e+00\n",
      "  4.92519240e+00  2.49981337e+00  2.82932820e-02 -2.45817963e+00\n",
      " -4.92460367e+00 -7.34030894e+00 -9.67635928e+00 -1.19050601e+01\n",
      " -1.40002645e+01 -1.59376556e+01 -1.76950019e+01 -1.92523833e+01\n",
      " -2.05923861e+01 -2.16995543e+01 -2.25478860e+01 -2.31432552e+01\n",
      " -2.34800725e+01 -2.35556687e+01 -2.33702741e+01 -2.29269662e+01\n",
      " -2.22315865e+01 -2.12926288e+01 -2.01211000e+01 -1.87303570e+01\n",
      " -1.71359212e+01 -1.53552740e+01 -1.34076356e+01 -1.13137308e+01\n",
      " -9.09554383e+00 -6.77606668e+00 -4.37904252e+00 -1.92870828e+00\n",
      "  5.50461201e-01  3.03400451e+00  5.49771780e+00  7.91788934e+00\n",
      "  1.02715222e+01  1.25365431e+01  1.46919953e+01  1.67182148e+01\n",
      "  1.85969872e+01  2.03116866e+01  2.18473923e+01  2.31909872e+01\n",
      "  2.43312337e+01  2.52588296e+01  2.59664444e+01  2.64391214e+01\n",
      "  2.66748505e+01  2.66796333e+01  2.64545680e+01  2.60026765e+01\n",
      "  2.53288265e+01  2.44396400e+01  2.33433894e+01  2.20498837e+01\n",
      "  2.05703459e+01  1.89172843e+01  1.71043584e+01  1.51396391e+01\n",
      "  1.30387952e+01  1.08294252e+01  8.52903617e+00  6.15551380e+00\n",
      "  3.72697869e+00  1.26164946e+00 -1.22228693e+00 -3.70679651e+00\n",
      " -6.17014862e+00 -8.59028675e+00 -1.09516293e+01 -1.32379536e+01\n",
      " -1.54338179e+01 -1.75246263e+01 -1.94966815e+01 -2.13317519e+01\n",
      " -2.29952001e+01 -2.44987532e+01 -2.58335652e+01 -2.69919481e+01\n",
      " -2.79673583e+01 -2.87543764e+01 -2.93186910e+01 -2.96679958e+01\n",
      " -2.98181354e+01 -2.97693731e+01 -2.95229769e+01 -2.90811595e+01\n",
      " -2.84133854e+01 -2.75430665e+01 -2.64934034e+01 -2.52713717e+01\n",
      " -2.38845608e+01 -2.23353782e+01 -2.06051319e+01 -1.87442619e+01\n",
      " -1.67635423e+01 -1.46739620e+01 -1.24866789e+01 -1.01933401e+01\n",
      " -7.83474328e+00 -5.42495146e+00 -2.97607515e+00 -5.00072086e-01]\n"
     ]
    }
   ],
   "source": [
    "phi = np.arange(0, 10*np.pi, 0.1)\n",
    "a = 1\n",
    "x = a*phi*np.cos(phi)\n",
    "y = a*phi*np.sin(phi)\n",
    "\n",
    "dr = (np.diff(x)**2 + np.diff(y)**2)**.5 \n",
    "r = np.zeros_like(x)\n",
    "r[1:] = np.cumsum(dr)                \n",
    "r_int = np.linspace(0, r.max(), 200) \n",
    "print(r_int)\n",
    "x_int = np.interp(r_int, r, x)       \n",
    "print(x_int)\n",
    "y_int = np.interp(r_int, r, y)\n",
    "print(y_int)"
   ]
  },
  {
   "cell_type": "code",
   "execution_count": 31,
   "id": "45fc3192",
   "metadata": {},
   "outputs": [
    {
     "name": "stdout",
     "output_type": "stream",
     "text": [
      "[[2. 0. 1. 1.]]\n"
     ]
    }
   ],
   "source": [
    "X = np.asarray([[1.0, 0.0, 3.0, 8.0],\n",
    "                [2.0, 0.0, 1.0, 1.0],\n",
    "                [1.5, 2.5, 1.0, 0.0]])\n",
    "n = 4\n",
    "M = np.logical_and.reduce(np.mod(X, 1) == 0, axis=-1)\n",
    "M &= (X.sum(axis=-1) == n)\n",
    "print(X[M])"
   ]
  },
  {
   "cell_type": "code",
   "execution_count": 32,
   "id": "3ee4bf2f",
   "metadata": {},
   "outputs": [
    {
     "name": "stdout",
     "output_type": "stream",
     "text": [
      "[-0.11179879  0.27683941]\n"
     ]
    }
   ],
   "source": [
    "X = np.random.randn(100) \n",
    "N = 1000 \n",
    "idx = np.random.randint(0, X.size, (N, X.size))\n",
    "means = X[idx].mean(axis=1)\n",
    "confint = np.percentile(means, [2.5, 97.5])\n",
    "print(confint)"
   ]
  },
  {
   "cell_type": "code",
   "execution_count": null,
   "id": "2a8442e8",
   "metadata": {},
   "outputs": [],
   "source": []
  }
 ],
 "metadata": {
  "kernelspec": {
   "display_name": "Python 3",
   "language": "python",
   "name": "python3"
  },
  "language_info": {
   "codemirror_mode": {
    "name": "ipython",
    "version": 3
   },
   "file_extension": ".py",
   "mimetype": "text/x-python",
   "name": "python",
   "nbconvert_exporter": "python",
   "pygments_lexer": "ipython3",
   "version": "3.8.8"
  },
  "toc": {
   "base_numbering": 1,
   "nav_menu": {},
   "number_sections": true,
   "sideBar": true,
   "skip_h1_title": false,
   "title_cell": "Table of Contents",
   "title_sidebar": "Contents",
   "toc_cell": false,
   "toc_position": {},
   "toc_section_display": true,
   "toc_window_display": false
  },
  "varInspector": {
   "cols": {
    "lenName": 16,
    "lenType": 16,
    "lenVar": 40
   },
   "kernels_config": {
    "python": {
     "delete_cmd_postfix": "",
     "delete_cmd_prefix": "del ",
     "library": "var_list.py",
     "varRefreshCmd": "print(var_dic_list())"
    },
    "r": {
     "delete_cmd_postfix": ") ",
     "delete_cmd_prefix": "rm(",
     "library": "var_list.r",
     "varRefreshCmd": "cat(var_dic_list()) "
    }
   },
   "types_to_exclude": [
    "module",
    "function",
    "builtin_function_or_method",
    "instance",
    "_Feature"
   ],
   "window_display": false
  }
 },
 "nbformat": 4,
 "nbformat_minor": 5
}
