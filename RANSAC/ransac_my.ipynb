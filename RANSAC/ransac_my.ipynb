{
 "cells": [
  {
   "cell_type": "markdown",
   "metadata": {},
   "source": [
    "## RANSAC самописный"
   ]
  },
  {
   "cell_type": "code",
   "execution_count": 3,
   "metadata": {},
   "outputs": [],
   "source": [
    "import numpy as np\n",
    "import matplotlib.pyplot as plt"
   ]
  },
  {
   "cell_type": "code",
   "execution_count": 74,
   "metadata": {},
   "outputs": [],
   "source": [
    "def generate_random_x_y(k = 5, b = 20):\n",
    "    x = np.arange(-100,100,1) \n",
    "    y = x*k+b + np.random.randint(-80,80, 200)   \n",
    "\n",
    "    x = np.append(x,np.random.randint(-100,100,60)) \n",
    "    y = np.append(y,np.random.randint(-400,400,60))\n",
    "    return x,y\n"
   ]
  },
  {
   "cell_type": "code",
   "execution_count": 75,
   "metadata": {},
   "outputs": [
    {
     "data": {
      "text/plain": [
       "[<matplotlib.lines.Line2D at 0x7f3bff654670>]"
      ]
     },
     "execution_count": 75,
     "metadata": {},
     "output_type": "execute_result"
    },
    {
     "data": {
      "image/png": "[encoded data removed]",
      "text/plain": [
       "<Figure size 432x288 with 1 Axes>"
      ]
     },
     "metadata": {
      "needs_background": "light"
     },
     "output_type": "display_data"
    }
   ],
   "source": [
    "x,y = generate_random_x_y()\n",
    "plt.plot(x,y,'.r')"
   ]
  },
  {
   "cell_type": "markdown",
   "metadata": {},
   "source": [
    "### уравнение прямой A*X+B*Y + C = 0\n",
    "### A = y1-y2, B = (x2-x1), C = (x1*y2 - x2*y1)\n",
    "\n",
    "### Расстояние  = |A*x1 + B*y1 +C| / (sqrt(A^2 + B^2) )"
   ]
  },
  {
   "cell_type": "code",
   "execution_count": 188,
   "metadata": {},
   "outputs": [],
   "source": [
    "Y = 1\n",
    "X = 0\n",
    "\n",
    "def fit(x:np.ndarray, y:np.ndarray, cnt_iteration = 20000):\n",
    "        \n",
    "        if(x.shape[0] != y.shape[0]):\n",
    "                print(\" проверь раазмерность ...\")\n",
    "                return 0\n",
    "        distance   = np.zeros(cnt_iteration)\n",
    "        arr_point1 = np.zeros((cnt_iteration,2))\n",
    "        arr_point2 = np.zeros((cnt_iteration,2))\n",
    "\n",
    "        for i in range(cnt_iteration):\n",
    "\n",
    "                num_point1 = np.random.randint(0, x.shape[0])\n",
    "                num_point2 = np.random.randint(0, x.shape[0])\n",
    "                \n",
    "                point1     = [ x[num_point1], y[num_point1]]\n",
    "                point2     = [ x[num_point2], y[num_point2]]\n",
    "                \n",
    "                arr_point1[i] = point1\n",
    "                arr_point1[i] = point2\n",
    "                \n",
    "\n",
    "                A = point1[Y] - point2[Y]\n",
    "                B = point2[X] - point1[X]\n",
    "                C = point1[X]*point2[Y] - point2[X]*point1[Y] \n",
    "\n",
    "                distance[i] = np.sum(np.absolute( A*x + B*y + C ) / (np.sqrt(A**2 + B**2 )  ) )\n",
    "\n",
    "        return arr_point1[distance.argmin()], arr_point2[distance.argmin()]\n",
    "        "
   ]
  },
  {
   "cell_type": "code",
   "execution_count": 189,
   "metadata": {},
   "outputs": [],
   "source": [
    "def draw(point1, point2):\n",
    "    x_ = np.random.randint(-100,100,100)\n",
    "    y_ = point1[Y] + (((x_ - point1[X]) * (point2[Y] - point1[Y])) / (point2[X] - point1[X]) )\n",
    "    \n",
    "    plt.plot(x_,y_)\n",
    "    plt.plot(x,y, '.r')\n"
   ]
  },
  {
   "cell_type": "code",
   "execution_count": 190,
   "metadata": {},
   "outputs": [
    {
     "name": "stderr",
     "output_type": "stream",
     "text": [
      "/tmp/ipykernel_14130/3933908500.py:29: RuntimeWarning: invalid value encountered in true_divide\n",
      "  distance[i] = np.sum(np.absolute( A*x + B*y + C ) / (np.sqrt(A**2 + B**2 )  ) )\n"
     ]
    },
    {
     "name": "stdout",
     "output_type": "stream",
     "text": [
      "[ -65. -313.] [0. 0.]\n"
     ]
    },
    {
     "data": {
      "image/png": "[encoded data removed]",
      "text/plain": [
       "<Figure size 432x288 with 1 Axes>"
      ]
     },
     "metadata": {
      "needs_background": "light"
     },
     "output_type": "display_data"
    }
   ],
   "source": [
    "point1, point2 = fit(x,y)\n",
    "print(point1, point2)\n",
    "draw(point1, point2)"
   ]
  },
  {
   "cell_type": "code",
   "execution_count": null,
   "metadata": {},
   "outputs": [],
   "source": []
  }
 ],
 "metadata": {
  "interpreter": {
   "hash": "916dbcbb3f70747c44a77c7bcd40155683ae19c65e1c03b4aa3499c5328201f1"
  },
  "kernelspec": {
   "display_name": "Python 3.8.10 64-bit",
   "language": "python",
   "name": "python3"
  },
  "language_info": {
   "codemirror_mode": {
    "name": "ipython",
    "version": 3
   },
   "file_extension": ".py",
   "mimetype": "text/x-python",
   "name": "python",
   "nbconvert_exporter": "python",
   "pygments_lexer": "ipython3",
   "version": "3.8.10"
  },
  "orig_nbformat": 4
 },
 "nbformat": 4,
 "nbformat_minor": 2
}
